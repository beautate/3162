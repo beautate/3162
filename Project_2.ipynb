{
 "cells": [
  {
   "cell_type": "code",
   "execution_count": 31,
   "id": "136d2de9-e6c9-4e61-b431-2e5f74b06442",
   "metadata": {},
   "outputs": [
    {
     "name": "stdout",
     "output_type": "stream",
     "text": [
      "Setup Complete!\n"
     ]
    }
   ],
   "source": [
    "#Import necessary tools\n",
    "#DF Imports\n",
    "import pandas as pd\n",
    "import numpy as np\n",
    "\n",
    "#Viz imports\n",
    "from PIL import Image\n",
    "from wordcloud import WordCloud, STOPWORDS, ImageColorGenerator\n",
    "import matplotlib.pyplot as plt\n",
    "import seaborn as sns\n",
    "\n",
    "\n",
    "#Modeling imports\n",
    "from sklearn.naive_bayes import MultinomialNB, GaussianNB, BernoulliNB, ComplementNB\n",
    "from scipy import stats\n",
    "from sklearn.svm import LinearSVC\n",
    "import re\n",
    "import nltk\n",
    "from sklearn.feature_extraction.text import TfidfVectorizer\n",
    "import random\n",
    "from scipy import stats\n",
    "from sklearn.tree import DecisionTreeClassifier\n",
    "from sklearn.ensemble import RandomForestClassifier\n",
    "from sklearn.model_selection import KFold\n",
    "from sklearn.cluster import MiniBatchKMeans\n",
    "from sklearn.neighbors import KNeighborsClassifier\n",
    "from sklearn.model_selection import train_test_split\n",
    "\n",
    "#Eval imports\n",
    "from sklearn.metrics import confusion_matrix, classification_report, accuracy_score, log_loss, mean_squared_error, roc_curve, roc_auc_score\n",
    "from sklearn.model_selection import cross_val_score\n",
    "\n",
    "\n",
    "print(\"Setup Complete!\")"
   ]
  },
  {
   "cell_type": "markdown",
   "id": "63469fed-4bef-43f2-bbb9-70b93c8bc675",
   "metadata": {},
   "source": [
    "## Import Data"
   ]
  },
  {
   "cell_type": "code",
   "execution_count": 32,
   "id": "c12d0a1b-c427-44f7-9001-bac8e2dd8614",
   "metadata": {},
   "outputs": [],
   "source": [
    "df = pd.read_csv('wine.csv', index_col = 0)"
   ]
  },
  {
   "cell_type": "code",
   "execution_count": 33,
   "id": "0c73dcd7-99a7-4ed7-a180-9332f3e51578",
   "metadata": {},
   "outputs": [
    {
     "data": {
      "text/html": [
       "<div>\n",
       "<style scoped>\n",
       "    .dataframe tbody tr th:only-of-type {\n",
       "        vertical-align: middle;\n",
       "    }\n",
       "\n",
       "    .dataframe tbody tr th {\n",
       "        vertical-align: top;\n",
       "    }\n",
       "\n",
       "    .dataframe thead th {\n",
       "        text-align: right;\n",
       "    }\n",
       "</style>\n",
       "<table border=\"1\" class=\"dataframe\">\n",
       "  <thead>\n",
       "    <tr style=\"text-align: right;\">\n",
       "      <th></th>\n",
       "      <th>country</th>\n",
       "      <th>description</th>\n",
       "      <th>designation</th>\n",
       "      <th>points</th>\n",
       "      <th>price</th>\n",
       "      <th>province</th>\n",
       "      <th>region_1</th>\n",
       "      <th>region_2</th>\n",
       "      <th>taster_name</th>\n",
       "      <th>taster_twitter_handle</th>\n",
       "      <th>title</th>\n",
       "      <th>variety</th>\n",
       "      <th>winery</th>\n",
       "    </tr>\n",
       "  </thead>\n",
       "  <tbody>\n",
       "    <tr>\n",
       "      <th>0</th>\n",
       "      <td>Italy</td>\n",
       "      <td>Aromas include tropical fruit, broom, brimston...</td>\n",
       "      <td>Vulkà Bianco</td>\n",
       "      <td>87</td>\n",
       "      <td>NaN</td>\n",
       "      <td>Sicily &amp; Sardinia</td>\n",
       "      <td>Etna</td>\n",
       "      <td>NaN</td>\n",
       "      <td>Kerin O’Keefe</td>\n",
       "      <td>@kerinokeefe</td>\n",
       "      <td>Nicosia 2013 Vulkà Bianco  (Etna)</td>\n",
       "      <td>White Blend</td>\n",
       "      <td>Nicosia</td>\n",
       "    </tr>\n",
       "    <tr>\n",
       "      <th>1</th>\n",
       "      <td>Portugal</td>\n",
       "      <td>This is ripe and fruity, a wine that is smooth...</td>\n",
       "      <td>Avidagos</td>\n",
       "      <td>87</td>\n",
       "      <td>15.0</td>\n",
       "      <td>Douro</td>\n",
       "      <td>NaN</td>\n",
       "      <td>NaN</td>\n",
       "      <td>Roger Voss</td>\n",
       "      <td>@vossroger</td>\n",
       "      <td>Quinta dos Avidagos 2011 Avidagos Red (Douro)</td>\n",
       "      <td>Portuguese Red</td>\n",
       "      <td>Quinta dos Avidagos</td>\n",
       "    </tr>\n",
       "    <tr>\n",
       "      <th>2</th>\n",
       "      <td>US</td>\n",
       "      <td>Tart and snappy, the flavors of lime flesh and...</td>\n",
       "      <td>NaN</td>\n",
       "      <td>87</td>\n",
       "      <td>14.0</td>\n",
       "      <td>Oregon</td>\n",
       "      <td>Willamette Valley</td>\n",
       "      <td>Willamette Valley</td>\n",
       "      <td>Paul Gregutt</td>\n",
       "      <td>@paulgwine</td>\n",
       "      <td>Rainstorm 2013 Pinot Gris (Willamette Valley)</td>\n",
       "      <td>Pinot Gris</td>\n",
       "      <td>Rainstorm</td>\n",
       "    </tr>\n",
       "    <tr>\n",
       "      <th>3</th>\n",
       "      <td>US</td>\n",
       "      <td>Pineapple rind, lemon pith and orange blossom ...</td>\n",
       "      <td>Reserve Late Harvest</td>\n",
       "      <td>87</td>\n",
       "      <td>13.0</td>\n",
       "      <td>Michigan</td>\n",
       "      <td>Lake Michigan Shore</td>\n",
       "      <td>NaN</td>\n",
       "      <td>Alexander Peartree</td>\n",
       "      <td>NaN</td>\n",
       "      <td>St. Julian 2013 Reserve Late Harvest Riesling ...</td>\n",
       "      <td>Riesling</td>\n",
       "      <td>St. Julian</td>\n",
       "    </tr>\n",
       "    <tr>\n",
       "      <th>4</th>\n",
       "      <td>US</td>\n",
       "      <td>Much like the regular bottling from 2012, this...</td>\n",
       "      <td>Vintner's Reserve Wild Child Block</td>\n",
       "      <td>87</td>\n",
       "      <td>65.0</td>\n",
       "      <td>Oregon</td>\n",
       "      <td>Willamette Valley</td>\n",
       "      <td>Willamette Valley</td>\n",
       "      <td>Paul Gregutt</td>\n",
       "      <td>@paulgwine</td>\n",
       "      <td>Sweet Cheeks 2012 Vintner's Reserve Wild Child...</td>\n",
       "      <td>Pinot Noir</td>\n",
       "      <td>Sweet Cheeks</td>\n",
       "    </tr>\n",
       "  </tbody>\n",
       "</table>\n",
       "</div>"
      ],
      "text/plain": [
       "    country                                        description  \\\n",
       "0     Italy  Aromas include tropical fruit, broom, brimston...   \n",
       "1  Portugal  This is ripe and fruity, a wine that is smooth...   \n",
       "2        US  Tart and snappy, the flavors of lime flesh and...   \n",
       "3        US  Pineapple rind, lemon pith and orange blossom ...   \n",
       "4        US  Much like the regular bottling from 2012, this...   \n",
       "\n",
       "                          designation  points  price           province  \\\n",
       "0                        Vulkà Bianco      87    NaN  Sicily & Sardinia   \n",
       "1                            Avidagos      87   15.0              Douro   \n",
       "2                                 NaN      87   14.0             Oregon   \n",
       "3                Reserve Late Harvest      87   13.0           Michigan   \n",
       "4  Vintner's Reserve Wild Child Block      87   65.0             Oregon   \n",
       "\n",
       "              region_1           region_2         taster_name  \\\n",
       "0                 Etna                NaN       Kerin O’Keefe   \n",
       "1                  NaN                NaN          Roger Voss   \n",
       "2    Willamette Valley  Willamette Valley        Paul Gregutt   \n",
       "3  Lake Michigan Shore                NaN  Alexander Peartree   \n",
       "4    Willamette Valley  Willamette Valley        Paul Gregutt   \n",
       "\n",
       "  taster_twitter_handle                                              title  \\\n",
       "0          @kerinokeefe                  Nicosia 2013 Vulkà Bianco  (Etna)   \n",
       "1            @vossroger      Quinta dos Avidagos 2011 Avidagos Red (Douro)   \n",
       "2           @paulgwine       Rainstorm 2013 Pinot Gris (Willamette Valley)   \n",
       "3                   NaN  St. Julian 2013 Reserve Late Harvest Riesling ...   \n",
       "4           @paulgwine   Sweet Cheeks 2012 Vintner's Reserve Wild Child...   \n",
       "\n",
       "          variety               winery  \n",
       "0     White Blend              Nicosia  \n",
       "1  Portuguese Red  Quinta dos Avidagos  \n",
       "2      Pinot Gris            Rainstorm  \n",
       "3        Riesling           St. Julian  \n",
       "4      Pinot Noir         Sweet Cheeks  "
      ]
     },
     "execution_count": 33,
     "metadata": {},
     "output_type": "execute_result"
    }
   ],
   "source": [
    "#Look at the head of the data to get a feel for what information is contained and how it's laid out\n",
    "df.head()"
   ]
  },
  {
   "cell_type": "markdown",
   "id": "1c675bbd-361a-49ad-98a7-34e891f2f97c",
   "metadata": {},
   "source": [
    "## Pre-processing"
   ]
  },
  {
   "cell_type": "code",
   "execution_count": 34,
   "id": "00036eb7-86b2-4977-b6ba-3617af4b3bbc",
   "metadata": {},
   "outputs": [
    {
     "data": {
      "text/plain": [
       "(129971, 13)"
      ]
     },
     "execution_count": 34,
     "metadata": {},
     "output_type": "execute_result"
    }
   ],
   "source": [
    "#Check the shape of the data to get a feel for how large it is.\n",
    "df.shape"
   ]
  },
  {
   "cell_type": "markdown",
   "id": "81041c28-96bb-41eb-b62c-37867f5d023e",
   "metadata": {},
   "source": [
    "With relatively few columns there really isn't much to drop. We'll keep all columns for now just in case they end up being useful to our analysis."
   ]
  },
  {
   "cell_type": "markdown",
   "id": "40d2d0fe-36bf-479d-b0a7-5f0c5fd9f274",
   "metadata": {},
   "source": [
    "Now let's take a little bit closer look at some of the descriptions to get a feel for what kind of verbiage we're working with. Ultimately, the plan is to try to use these descriptions to try and predict a wine's varietal and country of origin."
   ]
  },
  {
   "cell_type": "code",
   "execution_count": 35,
   "id": "fa7dcc88-f6e6-4108-8d2b-664ffa670b78",
   "metadata": {},
   "outputs": [
    {
     "data": {
      "text/plain": [
       "\"Aromas include tropical fruit, broom, brimstone and dried herb. The palate isn't overly expressive, offering unripened apple, citrus and dried sage alongside brisk acidity.\""
      ]
     },
     "execution_count": 35,
     "metadata": {},
     "output_type": "execute_result"
    }
   ],
   "source": [
    "df.description[0]"
   ]
  },
  {
   "cell_type": "code",
   "execution_count": 36,
   "id": "4d238711-657f-4773-98c2-b0eb3d1ceec9",
   "metadata": {},
   "outputs": [
    {
     "data": {
      "text/plain": [
       "\"This is ripe and fruity, a wine that is smooth while still structured. Firm tannins are filled out with juicy red berry fruits and freshened with acidity. It's  already drinkable, although it will certainly be better from 2016.\""
      ]
     },
     "execution_count": 36,
     "metadata": {},
     "output_type": "execute_result"
    }
   ],
   "source": [
    "df.description[1]"
   ]
  },
  {
   "cell_type": "markdown",
   "id": "ef5d7ac7-7c51-45ee-a03c-00dd52594498",
   "metadata": {},
   "source": [
    "Next, let's look at what all NA data we have"
   ]
  },
  {
   "cell_type": "code",
   "execution_count": 37,
   "id": "add41869-1223-4224-99b7-f9bebe9e339c",
   "metadata": {},
   "outputs": [
    {
     "data": {
      "text/plain": [
       "country                     63\n",
       "description                  0\n",
       "designation              37465\n",
       "points                       0\n",
       "price                     8996\n",
       "province                    63\n",
       "region_1                 21247\n",
       "region_2                 79460\n",
       "taster_name              26244\n",
       "taster_twitter_handle    31213\n",
       "title                        0\n",
       "variety                      1\n",
       "winery                       0\n",
       "dtype: int64"
      ]
     },
     "execution_count": 37,
     "metadata": {},
     "output_type": "execute_result"
    }
   ],
   "source": [
    "df.isna().sum()"
   ]
  },
  {
   "cell_type": "markdown",
   "id": "cc6b0d98-650b-43f9-9e43-9444391b9b22",
   "metadata": {},
   "source": [
    "That's quite a bit of NA's but since our analysis is primarily concerned with price, description, and points it looks like we can probably do by just dropping observations that have NaN price. This will keep us in the range of ~1.2m observations vs. ~292k if we dropped all NA values."
   ]
  },
  {
   "cell_type": "code",
   "execution_count": 38,
   "id": "a8782f52-3cd2-4f6a-997f-7a421c62a6a4",
   "metadata": {},
   "outputs": [],
   "source": [
    "#Drop NaN price obs\n",
    "df = df.dropna(subset = ['price'])"
   ]
  },
  {
   "cell_type": "markdown",
   "id": "1d918cc9-c8c3-42d3-82d8-6d2a7b543953",
   "metadata": {},
   "source": [
    "Next, let's check for dupliates"
   ]
  },
  {
   "cell_type": "code",
   "execution_count": 39,
   "id": "9dcbe64c-612a-4ad5-8c59-9fa299770611",
   "metadata": {},
   "outputs": [
    {
     "data": {
      "text/plain": [
       "False    111593\n",
       "True       9382\n",
       "dtype: int64"
      ]
     },
     "execution_count": 39,
     "metadata": {},
     "output_type": "execute_result"
    }
   ],
   "source": [
    "df.duplicated().value_counts()"
   ]
  },
  {
   "cell_type": "markdown",
   "id": "7c98ab4e-b5fc-4552-af9d-a0b6e9739b9b",
   "metadata": {},
   "source": [
    "Looks like we have some duplicates, time to drop them"
   ]
  },
  {
   "cell_type": "code",
   "execution_count": 40,
   "id": "57fdb172-2215-4063-87d1-64fdb8be2fbf",
   "metadata": {},
   "outputs": [],
   "source": [
    "df = df.drop_duplicates()"
   ]
  },
  {
   "cell_type": "code",
   "execution_count": 41,
   "id": "63d438d0-033f-4941-82cd-c1f04e778973",
   "metadata": {},
   "outputs": [
    {
     "data": {
      "text/plain": [
       "False    111593\n",
       "dtype: int64"
      ]
     },
     "execution_count": 41,
     "metadata": {},
     "output_type": "execute_result"
    }
   ],
   "source": [
    "df.duplicated().value_counts()"
   ]
  },
  {
   "cell_type": "code",
   "execution_count": 42,
   "id": "9a92fe56-f4fb-40df-90f6-93772300ed01",
   "metadata": {},
   "outputs": [
    {
     "data": {
      "text/plain": [
       "country                   object\n",
       "description               object\n",
       "designation               object\n",
       "points                     int64\n",
       "price                    float64\n",
       "province                  object\n",
       "region_1                  object\n",
       "region_2                  object\n",
       "taster_name               object\n",
       "taster_twitter_handle     object\n",
       "title                     object\n",
       "variety                   object\n",
       "winery                    object\n",
       "dtype: object"
      ]
     },
     "execution_count": 42,
     "metadata": {},
     "output_type": "execute_result"
    }
   ],
   "source": [
    "df.dtypes"
   ]
  },
  {
   "cell_type": "markdown",
   "id": "bc327965-16b8-4a10-ace8-1d596c7ee45d",
   "metadata": {},
   "source": [
    "Next, let's bin wines by price. We'll preserve the original points column in case we want to do some regression or use a model that works well with numerical values but just add on a column with the following point ranges, ratings categories were retrieved from Winefolly\n",
    "\n",
    " 50-59: undrinkable\n",
    " 60-69: flawed\n",
    " 70-79: average\n",
    " 80-84: above average\n",
    " 85-90: good\n",
    " 90-94: superior\n",
    " 95-100: benchmark\n"
   ]
  },
  {
   "cell_type": "code",
   "execution_count": 43,
   "id": "b4e718e5-ca52-4b39-a089-5fbe79e58eca",
   "metadata": {},
   "outputs": [],
   "source": [
    "def bin_points(row):\n",
    "    if row['points'] < 60:\n",
    "        return \"undrinkable\"\n",
    "    if row['points'] < 70 and row['points'] >= 60:\n",
    "        return \"flawed\"\n",
    "    if row['points'] < 80 and row['points'] >= 70:\n",
    "        return 'average'\n",
    "    if row['points'] < 85 and row['points'] >= 80:\n",
    "        return 'above average'\n",
    "    if row['points'] < 90 and row['points'] >= 85:\n",
    "        return 'good'\n",
    "    if row['points'] < 95 and row['points'] >= 90:\n",
    "        return 'superior'\n",
    "    if row['points'] >= 95:\n",
    "        return 'benchmark'\n",
    "      "
   ]
  },
  {
   "cell_type": "code",
   "execution_count": 44,
   "id": "254ff5a7-6eed-43fa-b736-4eb87e328f6b",
   "metadata": {},
   "outputs": [],
   "source": [
    "#Call our categorization function on each row of the data frame\n",
    "df['points_cat'] = df.apply(lambda row: bin_points(row), axis = 1)"
   ]
  },
  {
   "cell_type": "code",
   "execution_count": 45,
   "id": "481a87c0-2440-45a9-9e13-ecac6634d724",
   "metadata": {},
   "outputs": [
    {
     "data": {
      "text/html": [
       "<div>\n",
       "<style scoped>\n",
       "    .dataframe tbody tr th:only-of-type {\n",
       "        vertical-align: middle;\n",
       "    }\n",
       "\n",
       "    .dataframe tbody tr th {\n",
       "        vertical-align: top;\n",
       "    }\n",
       "\n",
       "    .dataframe thead th {\n",
       "        text-align: right;\n",
       "    }\n",
       "</style>\n",
       "<table border=\"1\" class=\"dataframe\">\n",
       "  <thead>\n",
       "    <tr style=\"text-align: right;\">\n",
       "      <th></th>\n",
       "      <th>country</th>\n",
       "      <th>description</th>\n",
       "      <th>designation</th>\n",
       "      <th>points</th>\n",
       "      <th>price</th>\n",
       "      <th>province</th>\n",
       "      <th>region_1</th>\n",
       "      <th>region_2</th>\n",
       "      <th>taster_name</th>\n",
       "      <th>taster_twitter_handle</th>\n",
       "      <th>title</th>\n",
       "      <th>variety</th>\n",
       "      <th>winery</th>\n",
       "      <th>points_cat</th>\n",
       "    </tr>\n",
       "  </thead>\n",
       "  <tbody>\n",
       "    <tr>\n",
       "      <th>1</th>\n",
       "      <td>Portugal</td>\n",
       "      <td>This is ripe and fruity, a wine that is smooth...</td>\n",
       "      <td>Avidagos</td>\n",
       "      <td>87</td>\n",
       "      <td>15.0</td>\n",
       "      <td>Douro</td>\n",
       "      <td>NaN</td>\n",
       "      <td>NaN</td>\n",
       "      <td>Roger Voss</td>\n",
       "      <td>@vossroger</td>\n",
       "      <td>Quinta dos Avidagos 2011 Avidagos Red (Douro)</td>\n",
       "      <td>Portuguese Red</td>\n",
       "      <td>Quinta dos Avidagos</td>\n",
       "      <td>good</td>\n",
       "    </tr>\n",
       "    <tr>\n",
       "      <th>2</th>\n",
       "      <td>US</td>\n",
       "      <td>Tart and snappy, the flavors of lime flesh and...</td>\n",
       "      <td>NaN</td>\n",
       "      <td>87</td>\n",
       "      <td>14.0</td>\n",
       "      <td>Oregon</td>\n",
       "      <td>Willamette Valley</td>\n",
       "      <td>Willamette Valley</td>\n",
       "      <td>Paul Gregutt</td>\n",
       "      <td>@paulgwine</td>\n",
       "      <td>Rainstorm 2013 Pinot Gris (Willamette Valley)</td>\n",
       "      <td>Pinot Gris</td>\n",
       "      <td>Rainstorm</td>\n",
       "      <td>good</td>\n",
       "    </tr>\n",
       "    <tr>\n",
       "      <th>3</th>\n",
       "      <td>US</td>\n",
       "      <td>Pineapple rind, lemon pith and orange blossom ...</td>\n",
       "      <td>Reserve Late Harvest</td>\n",
       "      <td>87</td>\n",
       "      <td>13.0</td>\n",
       "      <td>Michigan</td>\n",
       "      <td>Lake Michigan Shore</td>\n",
       "      <td>NaN</td>\n",
       "      <td>Alexander Peartree</td>\n",
       "      <td>NaN</td>\n",
       "      <td>St. Julian 2013 Reserve Late Harvest Riesling ...</td>\n",
       "      <td>Riesling</td>\n",
       "      <td>St. Julian</td>\n",
       "      <td>good</td>\n",
       "    </tr>\n",
       "    <tr>\n",
       "      <th>4</th>\n",
       "      <td>US</td>\n",
       "      <td>Much like the regular bottling from 2012, this...</td>\n",
       "      <td>Vintner's Reserve Wild Child Block</td>\n",
       "      <td>87</td>\n",
       "      <td>65.0</td>\n",
       "      <td>Oregon</td>\n",
       "      <td>Willamette Valley</td>\n",
       "      <td>Willamette Valley</td>\n",
       "      <td>Paul Gregutt</td>\n",
       "      <td>@paulgwine</td>\n",
       "      <td>Sweet Cheeks 2012 Vintner's Reserve Wild Child...</td>\n",
       "      <td>Pinot Noir</td>\n",
       "      <td>Sweet Cheeks</td>\n",
       "      <td>good</td>\n",
       "    </tr>\n",
       "    <tr>\n",
       "      <th>5</th>\n",
       "      <td>Spain</td>\n",
       "      <td>Blackberry and raspberry aromas show a typical...</td>\n",
       "      <td>Ars In Vitro</td>\n",
       "      <td>87</td>\n",
       "      <td>15.0</td>\n",
       "      <td>Northern Spain</td>\n",
       "      <td>Navarra</td>\n",
       "      <td>NaN</td>\n",
       "      <td>Michael Schachner</td>\n",
       "      <td>@wineschach</td>\n",
       "      <td>Tandem 2011 Ars In Vitro Tempranillo-Merlot (N...</td>\n",
       "      <td>Tempranillo-Merlot</td>\n",
       "      <td>Tandem</td>\n",
       "      <td>good</td>\n",
       "    </tr>\n",
       "  </tbody>\n",
       "</table>\n",
       "</div>"
      ],
      "text/plain": [
       "    country                                        description  \\\n",
       "1  Portugal  This is ripe and fruity, a wine that is smooth...   \n",
       "2        US  Tart and snappy, the flavors of lime flesh and...   \n",
       "3        US  Pineapple rind, lemon pith and orange blossom ...   \n",
       "4        US  Much like the regular bottling from 2012, this...   \n",
       "5     Spain  Blackberry and raspberry aromas show a typical...   \n",
       "\n",
       "                          designation  points  price        province  \\\n",
       "1                            Avidagos      87   15.0           Douro   \n",
       "2                                 NaN      87   14.0          Oregon   \n",
       "3                Reserve Late Harvest      87   13.0        Michigan   \n",
       "4  Vintner's Reserve Wild Child Block      87   65.0          Oregon   \n",
       "5                        Ars In Vitro      87   15.0  Northern Spain   \n",
       "\n",
       "              region_1           region_2         taster_name  \\\n",
       "1                  NaN                NaN          Roger Voss   \n",
       "2    Willamette Valley  Willamette Valley        Paul Gregutt   \n",
       "3  Lake Michigan Shore                NaN  Alexander Peartree   \n",
       "4    Willamette Valley  Willamette Valley        Paul Gregutt   \n",
       "5              Navarra                NaN   Michael Schachner   \n",
       "\n",
       "  taster_twitter_handle                                              title  \\\n",
       "1            @vossroger      Quinta dos Avidagos 2011 Avidagos Red (Douro)   \n",
       "2           @paulgwine       Rainstorm 2013 Pinot Gris (Willamette Valley)   \n",
       "3                   NaN  St. Julian 2013 Reserve Late Harvest Riesling ...   \n",
       "4           @paulgwine   Sweet Cheeks 2012 Vintner's Reserve Wild Child...   \n",
       "5           @wineschach  Tandem 2011 Ars In Vitro Tempranillo-Merlot (N...   \n",
       "\n",
       "              variety               winery points_cat  \n",
       "1      Portuguese Red  Quinta dos Avidagos       good  \n",
       "2          Pinot Gris            Rainstorm       good  \n",
       "3            Riesling           St. Julian       good  \n",
       "4          Pinot Noir         Sweet Cheeks       good  \n",
       "5  Tempranillo-Merlot               Tandem       good  "
      ]
     },
     "execution_count": 45,
     "metadata": {},
     "output_type": "execute_result"
    }
   ],
   "source": [
    "#Check to make sure our new binned column is present\n",
    "df.head()"
   ]
  },
  {
   "cell_type": "markdown",
   "id": "61ef3b25-aecc-46c1-989a-c3a7d1dfe9b3",
   "metadata": {},
   "source": [
    "Now that we know it's there, let's compare the value counts of the category and summary statistics of the original points values"
   ]
  },
  {
   "cell_type": "code",
   "execution_count": 46,
   "id": "9b924cbd-5647-4b36-adc8-7dcce0aab54a",
   "metadata": {},
   "outputs": [
    {
     "data": {
      "text/plain": [
       "good             57959\n",
       "superior         39932\n",
       "above average    11512\n",
       "benchmark         2190\n",
       "Name: points_cat, dtype: int64"
      ]
     },
     "execution_count": 46,
     "metadata": {},
     "output_type": "execute_result"
    }
   ],
   "source": [
    "df['points_cat'].value_counts()"
   ]
  },
  {
   "cell_type": "code",
   "execution_count": 47,
   "id": "e2d782e7-8cb9-4ebc-a737-d5d110e490e1",
   "metadata": {},
   "outputs": [
    {
     "data": {
      "text/plain": [
       "count    111593.000000\n",
       "mean         88.413969\n",
       "std           3.098767\n",
       "min          80.000000\n",
       "25%          86.000000\n",
       "50%          88.000000\n",
       "75%          91.000000\n",
       "max         100.000000\n",
       "Name: points, dtype: float64"
      ]
     },
     "execution_count": 47,
     "metadata": {},
     "output_type": "execute_result"
    }
   ],
   "source": [
    "df['points'].describe()"
   ]
  },
  {
   "cell_type": "markdown",
   "id": "62fc00e8-d9be-42fe-ab91-b1b2f2af01e0",
   "metadata": {},
   "source": [
    "It looks like there are no errors with mins or maxes and things generally line up so it seems that our function worked as expected."
   ]
  },
  {
   "cell_type": "markdown",
   "id": "3cca1e0c-40cb-4734-9ed8-b767eb63428d",
   "metadata": {},
   "source": [
    "Since we know that one of our numerical variables doesn't have any outliers, it's time to check the other. Let's take a look at price"
   ]
  },
  {
   "cell_type": "code",
   "execution_count": 48,
   "id": "b2cc2fc6-3bfe-443a-ba5c-5e2687c95e5e",
   "metadata": {},
   "outputs": [],
   "source": [
    "z = np.abs(stats.zscore(df['price']))"
   ]
  },
  {
   "cell_type": "code",
   "execution_count": 49,
   "id": "31208dbf-e7ab-4627-a33d-a4cdb1ea4bd2",
   "metadata": {},
   "outputs": [],
   "source": [
    "outliers = np.where(z>3)"
   ]
  },
  {
   "cell_type": "code",
   "execution_count": 50,
   "id": "f0beacbd-c495-4928-9c42-263fa956e8be",
   "metadata": {},
   "outputs": [
    {
     "name": "stdout",
     "output_type": "stream",
     "text": [
      "(array([   268,    319,    320, ..., 111083, 111350, 111351]),)\n"
     ]
    }
   ],
   "source": [
    "print(outliers)"
   ]
  },
  {
   "cell_type": "markdown",
   "id": "583036aa-2c47-4a59-a674-e0c19d0bb2d0",
   "metadata": {},
   "source": [
    "It looks like we have a number outliers. Since we're not planning to use price at the moment we'll leave them be and clean them up in the event that we decide to use it in the future."
   ]
  },
  {
   "cell_type": "markdown",
   "id": "fc8451da-c3db-4a42-9036-cb725c51aecf",
   "metadata": {},
   "source": [
    "# Exploratory analysis and visualization"
   ]
  },
  {
   "cell_type": "markdown",
   "id": "4b706ce9-1888-4fc6-ab2d-675af9d9168d",
   "metadata": {},
   "source": [
    "Time to start looking through our data and check whether there's anything additional that needs to be cleaned up or might be useful to know in our modeling"
   ]
  },
  {
   "cell_type": "markdown",
   "id": "690cd706-acb0-4d32-aac4-7bfbc1452a12",
   "metadata": {},
   "source": [
    "## Points"
   ]
  },
  {
   "cell_type": "code",
   "execution_count": 51,
   "id": "6b201ee6-b5bd-4076-b4ef-05bd9bcb4559",
   "metadata": {},
   "outputs": [
    {
     "data": {
      "text/plain": [
       "count    111593.000000\n",
       "mean         88.413969\n",
       "std           3.098767\n",
       "min          80.000000\n",
       "25%          86.000000\n",
       "50%          88.000000\n",
       "75%          91.000000\n",
       "max         100.000000\n",
       "Name: points, dtype: float64"
      ]
     },
     "execution_count": 51,
     "metadata": {},
     "output_type": "execute_result"
    }
   ],
   "source": [
    "#Summary statistics for points\n",
    "df['points'].describe()"
   ]
  },
  {
   "cell_type": "code",
   "execution_count": 52,
   "id": "414a2cd9-94ce-48bf-aa1d-6529d79a5130",
   "metadata": {},
   "outputs": [
    {
     "data": {
      "text/plain": [
       "88.0"
      ]
     },
     "execution_count": 52,
     "metadata": {},
     "output_type": "execute_result"
    }
   ],
   "source": [
    "df['points'].median()"
   ]
  },
  {
   "cell_type": "code",
   "execution_count": 53,
   "id": "6b104fe9-af05-48f6-aaf6-4578a6dd9ed1",
   "metadata": {},
   "outputs": [
    {
     "data": {
      "text/plain": [
       "0    87\n",
       "dtype: int64"
      ]
     },
     "execution_count": 53,
     "metadata": {},
     "output_type": "execute_result"
    }
   ],
   "source": [
    "df['points'].mode()"
   ]
  },
  {
   "cell_type": "code",
   "execution_count": 54,
   "id": "e1f7a634-a96b-46f5-9653-b6e3c6954b4f",
   "metadata": {},
   "outputs": [
    {
     "data": {
      "image/png": "[encoded data removed]",
      "text/plain": [
       "<Figure size 720x360 with 1 Axes>"
      ]
     },
     "metadata": {},
     "output_type": "display_data"
    }
   ],
   "source": [
    "#Visualize the distribution of points\n",
    "plt.figure(figsize = (10,5))\n",
    "plt.style.use('ggplot')\n",
    "\n",
    "ax = sns.boxplot(x = 'points', data = df)\n",
    "ax.set(title = 'Distribution of Points Awarded', xlabel = 'Points (from 0 to 100)' )\n",
    "plt.savefig('Points_distribution.png', bbox_inches = 'tight')\n"
   ]
  },
  {
   "cell_type": "code",
   "execution_count": 55,
   "id": "6265757b-27da-41c6-a864-c209d17b4b67",
   "metadata": {},
   "outputs": [
    {
     "data": {
      "text/plain": [
       "good             57959\n",
       "superior         39932\n",
       "above average    11512\n",
       "benchmark         2190\n",
       "Name: points_cat, dtype: int64"
      ]
     },
     "execution_count": 55,
     "metadata": {},
     "output_type": "execute_result"
    }
   ],
   "source": [
    "df['points_cat'].value_counts()"
   ]
  },
  {
   "cell_type": "code",
   "execution_count": 56,
   "id": "0751b6f6-56e2-4f3a-8ac3-257b2998e3fe",
   "metadata": {},
   "outputs": [
    {
     "data": {
      "text/plain": [
       "good             0.519378\n",
       "superior         0.357836\n",
       "above average    0.103161\n",
       "benchmark        0.019625\n",
       "Name: points_cat, dtype: float64"
      ]
     },
     "execution_count": 56,
     "metadata": {},
     "output_type": "execute_result"
    }
   ],
   "source": [
    "df['points_cat'].value_counts(normalize = True)"
   ]
  },
  {
   "cell_type": "code",
   "execution_count": 57,
   "id": "99e013bf-41ac-4fca-9690-785c7b736935",
   "metadata": {},
   "outputs": [
    {
     "data": {
      "image/png": "[encoded data removed]",
      "text/plain": [
       "<Figure size 720x360 with 1 Axes>"
      ]
     },
     "metadata": {},
     "output_type": "display_data"
    }
   ],
   "source": [
    "plt.figure(figsize = (10,5))\n",
    "#plt.xticks(rotation = 50)\n",
    "plt.style.use('ggplot')\n",
    "\n",
    "df.groupby('points_cat').size().nlargest().plot(kind = 'bar').set(title = 'Distribution of Point Categories', xlabel = 'Categories', ylabel = 'Volume of Wines')\n",
    "plt.savefig('points_cat.png', bbox_inches = 'tight')"
   ]
  },
  {
   "cell_type": "markdown",
   "id": "63cc137c-00c7-4617-9bc6-e444e9f465b5",
   "metadata": {},
   "source": [
    "## Geographic Provenance"
   ]
  },
  {
   "cell_type": "markdown",
   "id": "1e7c7c61-6ba0-43bf-9271-2e1c2e92ac85",
   "metadata": {},
   "source": [
    "Let's start off by looking at country and then we'll look at more specific regions"
   ]
  },
  {
   "cell_type": "code",
   "execution_count": 58,
   "id": "9718ae83-294d-42e2-9d02-9e15474ec8de",
   "metadata": {},
   "outputs": [
    {
     "data": {
      "text/plain": [
       "US                        50238\n",
       "France                    16286\n",
       "Italy                     15506\n",
       "Spain                      6049\n",
       "Portugal                   4502\n",
       "Chile                      4130\n",
       "Argentina                  3501\n",
       "Austria                    2536\n",
       "Australia                  2169\n",
       "Germany                    1951\n",
       "New Zealand                1240\n",
       "South Africa               1195\n",
       "Israel                      453\n",
       "Greece                      427\n",
       "Canada                      224\n",
       "Bulgaria                    132\n",
       "Hungary                     128\n",
       "Romania                     102\n",
       "Uruguay                      98\n",
       "Turkey                       81\n",
       "Georgia                      74\n",
       "Slovenia                     70\n",
       "Croatia                      68\n",
       "Mexico                       68\n",
       "England                      59\n",
       "Moldova                      56\n",
       "Brazil                       44\n",
       "Lebanon                      32\n",
       "Morocco                      24\n",
       "Peru                         16\n",
       "Ukraine                      14\n",
       "Czech Republic               11\n",
       "Macedonia                    11\n",
       "Cyprus                       10\n",
       "Serbia                        8\n",
       "India                         8\n",
       "Switzerland                   6\n",
       "Luxembourg                    5\n",
       "Bosnia and Herzegovina        2\n",
       "Armenia                       2\n",
       "China                         1\n",
       "Slovakia                      1\n",
       "Name: country, dtype: int64"
      ]
     },
     "execution_count": 58,
     "metadata": {},
     "output_type": "execute_result"
    }
   ],
   "source": [
    "df['country'].value_counts()"
   ]
  },
  {
   "cell_type": "code",
   "execution_count": 59,
   "id": "48950a9e-68dc-43f1-8702-ff9c3841b63c",
   "metadata": {},
   "outputs": [
    {
     "data": {
      "image/png": "[encoded data removed]",
      "text/plain": [
       "<Figure size 720x360 with 1 Axes>"
      ]
     },
     "metadata": {},
     "output_type": "display_data"
    }
   ],
   "source": [
    "#That's a lot to take in, let's start by visualizing the top ten countries\n",
    "plt.figure(figsize = (10,5))\n",
    "plt.xticks(rotation = 50)\n",
    "plt.style.use('ggplot')\n",
    "\n",
    "df.groupby('country').size().nlargest(10).plot(kind = 'barh').set(title = 'Number of Wines Rated by Country', xlabel = 'Volume', ylabel = 'Country')\n",
    "plt.savefig('country1.png', bbox_inches = 'tight')"
   ]
  },
  {
   "cell_type": "code",
   "execution_count": 60,
   "id": "867a6801-add5-47c0-a9fb-126af80f80bb",
   "metadata": {},
   "outputs": [],
   "source": [
    "##plt.figure(figsize = (10,5))\n",
    "#plt.xticks(rotation = 50)\n",
    "##plt.style.use('ggplot')\n",
    "\n",
    "#df['country'].groupby('country').nlargest(10).plot(kind = 'bar').set(title = 'Distribution of Point Categories', xlabel = 'Categories', ylabel = 'Volume of Wines')\n",
    "#plt.savefig('points_cat.png', bbox_inches = 'tight')\n",
    "#plt.show()"
   ]
  },
  {
   "cell_type": "code",
   "execution_count": 61,
   "id": "327d48f4-4f62-4ed4-9c76-3606535409a4",
   "metadata": {},
   "outputs": [
    {
     "data": {
      "text/plain": [
       "count      422.000000\n",
       "mean       264.308057\n",
       "std       1754.588368\n",
       "min          1.000000\n",
       "25%          3.000000\n",
       "50%         10.000000\n",
       "75%         47.250000\n",
       "max      33526.000000\n",
       "Name: province, dtype: float64"
      ]
     },
     "execution_count": 61,
     "metadata": {},
     "output_type": "execute_result"
    }
   ],
   "source": [
    "df['province'].value_counts().describe()"
   ]
  },
  {
   "cell_type": "markdown",
   "id": "90001854-08a0-40cf-a80b-c7a09ffeadbe",
   "metadata": {},
   "source": [
    "Looks like there are quite a few... let's look at the top 25"
   ]
  },
  {
   "cell_type": "code",
   "execution_count": 62,
   "id": "492bf480-9579-4ac8-9c11-71d66cf38662",
   "metadata": {},
   "outputs": [
    {
     "name": "stdout",
     "output_type": "stream",
     "text": [
      "province\n",
      "California          33526\n",
      "Washington           7913\n",
      "Oregon               4917\n",
      "Tuscany              4688\n",
      "Bordeaux             3692\n",
      "Northern Spain       3503\n",
      "Mendoza Province     3001\n",
      "Burgundy             2872\n",
      "Piedmont             2833\n",
      "New York             2444\n",
      "dtype: int64\n"
     ]
    }
   ],
   "source": [
    "print(df.groupby('province').size().nlargest(10))"
   ]
  },
  {
   "cell_type": "code",
   "execution_count": 63,
   "id": "978d14e6-5a5e-4f42-ae69-9d380bc7e5ee",
   "metadata": {},
   "outputs": [
    {
     "data": {
      "image/png": "[encoded data removed]",
      "text/plain": [
       "<Figure size 720x360 with 1 Axes>"
      ]
     },
     "metadata": {},
     "output_type": "display_data"
    }
   ],
   "source": [
    "plt.figure(figsize = (10,5))\n",
    "plt.xticks(rotation = 50)\n",
    "plt.style.use('ggplot')\n",
    "\n",
    "df.groupby('province').size().nlargest(10).plot(kind = 'barh').set(title = 'Number of Wines Rated by Region', xlabel = 'Volume', ylabel = 'Region')\n",
    "plt.savefig('region1.png', bbox_inches = 'tight')"
   ]
  },
  {
   "cell_type": "markdown",
   "id": "a64b11db-49b2-467b-94a9-328207cd376c",
   "metadata": {},
   "source": [
    "## Grape varietal\n"
   ]
  },
  {
   "cell_type": "code",
   "execution_count": 64,
   "id": "371f92da-94ae-49c4-b10f-4560a2e73cd7",
   "metadata": {},
   "outputs": [
    {
     "data": {
      "text/plain": [
       "Pinot Noir                  11835\n",
       "Chardonnay                  10238\n",
       "Cabernet Sauvignon           8763\n",
       "Red Blend                    7809\n",
       "Bordeaux-style Red Blend     4958\n",
       "                            ...  \n",
       "Pinotage-Merlot                 1\n",
       "Aidani                          1\n",
       "Rosenmuskateller                1\n",
       "Roussanne-Grenache Blanc        1\n",
       "Francisa                        1\n",
       "Name: variety, Length: 697, dtype: int64"
      ]
     },
     "execution_count": 64,
     "metadata": {},
     "output_type": "execute_result"
    }
   ],
   "source": [
    "#Get an overview of the different varietals that were related\n",
    "df['variety'].value_counts()"
   ]
  },
  {
   "cell_type": "code",
   "execution_count": 65,
   "id": "11804abe-2872-4839-a937-4e15e6771d38",
   "metadata": {},
   "outputs": [
    {
     "data": {
      "text/plain": [
       "697"
      ]
     },
     "execution_count": 65,
     "metadata": {},
     "output_type": "execute_result"
    }
   ],
   "source": [
    "#It looks like there are quite a few- let's see how many there are in total\n",
    "df['variety'].value_counts().size"
   ]
  },
  {
   "cell_type": "code",
   "execution_count": 66,
   "id": "cea8738b-5ee0-4d0a-b21e-fb8328d7c91e",
   "metadata": {},
   "outputs": [
    {
     "data": {
      "text/plain": [
       "Pinot Noir                  11835\n",
       "Chardonnay                  10238\n",
       "Cabernet Sauvignon           8763\n",
       "Red Blend                    7809\n",
       "Bordeaux-style Red Blend     4958\n",
       "Riesling                     4572\n",
       "Sauvignon Blanc              4403\n",
       "Syrah                        3778\n",
       "Rosé                         2951\n",
       "Merlot                       2856\n",
       "Zinfandel                    2524\n",
       "Malbec                       2391\n",
       "Sangiovese                   2163\n",
       "Nebbiolo                     2159\n",
       "Portuguese Red               2028\n",
       "White Blend                  2004\n",
       "Sparkling Blend              1849\n",
       "Tempranillo                  1651\n",
       "Rhône-style Red Blend        1283\n",
       "Pinot Gris                   1268\n",
       "Cabernet Franc               1196\n",
       "Champagne Blend              1134\n",
       "Grüner Veltliner             1019\n",
       "Pinot Grigio                  934\n",
       "Viognier                      911\n",
       "Name: variety, dtype: int64"
      ]
     },
     "execution_count": 66,
     "metadata": {},
     "output_type": "execute_result"
    }
   ],
   "source": [
    "#That is a lot of different varietals- let's look at the top 25\n",
    "df['variety'].value_counts().nlargest(25)"
   ]
  },
  {
   "cell_type": "code",
   "execution_count": 67,
   "id": "caa0f012-3735-42cb-8aa9-f7ac36cd5e4e",
   "metadata": {},
   "outputs": [
    {
     "data": {
      "image/png": "[encoded data removed]",
      "text/plain": [
       "<Figure size 720x360 with 1 Axes>"
      ]
     },
     "metadata": {},
     "output_type": "display_data"
    }
   ],
   "source": [
    "plt.figure(figsize = (10,5))\n",
    "plt.xticks(rotation = 50)\n",
    "plt.style.use('ggplot')\n",
    "\n",
    "df.groupby('variety').size().nlargest(10).plot(kind = 'barh').set(title = 'Number of Wines Rated by Varietal', xlabel = 'Volume', ylabel = 'Grape Varietal')\n",
    "plt.savefig('varietal1.png', bbox_inches = 'tight')"
   ]
  },
  {
   "cell_type": "markdown",
   "id": "7658e0df-1e43-4a9c-a3c8-f7b7dea17c69",
   "metadata": {},
   "source": [
    "## Descriptive Language"
   ]
  },
  {
   "cell_type": "markdown",
   "id": "e61c780f-e163-4bfe-8d06-d1f50c33d4df",
   "metadata": {},
   "source": [
    "Since the predictor variable is going to be the use of words in determining points, let's take a look at the frequency of different words in tasters' description"
   ]
  },
  {
   "cell_type": "code",
   "execution_count": 68,
   "id": "c070bf76-d8cc-45d4-bfc2-5cccdd762653",
   "metadata": {},
   "outputs": [
    {
     "name": "stdout",
     "output_type": "stream",
     "text": [
      "There are 27393141 words in the combination of all review.\n"
     ]
    }
   ],
   "source": [
    "#Done with the assistance of data camp's tutorial on creating wordclouds\n",
    "text = \" \".join(review for review in df.description)\n",
    "print (\"There are {} words in the combination of all review.\".format(len(text)))"
   ]
  },
  {
   "cell_type": "code",
   "execution_count": 69,
   "id": "3f40bc55-3b81-43f7-8786-45e6bc9a9c32",
   "metadata": {},
   "outputs": [
    {
     "data": {
      "image/png": "[encoded data removed]",
      "text/plain": [
       "<Figure size 864x648 with 1 Axes>"
      ]
     },
     "metadata": {},
     "output_type": "display_data"
    }
   ],
   "source": [
    "# Create stopword list:\n",
    "plt.figure(figsize = (12, 9))\n",
    "stopwords = set(STOPWORDS)\n",
    "stopwords.update([\"drink\", \"now\", \"finish\", \"note\", 'nose', 'give', 'offer', 'aroma', 'palate',  \"wine\", \"flavor\", \"flavors\"])\n",
    "\n",
    "# Generate a word cloud image\n",
    "wordcloud = WordCloud(stopwords=stopwords, background_color=\"white\").generate(text)\n",
    "\n",
    "# Display the generated image:\n",
    "# the matplotlib way:\n",
    "plt.imshow(wordcloud, interpolation='bilinear')\n",
    "plt.axis(\"off\")\n",
    "plt.savefig('descripto.png', bbox_inches = 'tight')"
   ]
  },
  {
   "cell_type": "markdown",
   "id": "b68032d4-493b-44d8-b097-c9754af9fbd8",
   "metadata": {},
   "source": [
    "This wordcloud is fine but it doesn't necessarily give us any additional understanding of what certain words might imply or represent. Let's dive a little bit deeper into that."
   ]
  },
  {
   "cell_type": "code",
   "execution_count": 70,
   "id": "347cf409-6e4f-4caf-9d12-9a066ebe9350",
   "metadata": {},
   "outputs": [],
   "source": [
    "tfidf_vectorizer = TfidfVectorizer(analyzer='word',stop_words= 'english')"
   ]
  },
  {
   "cell_type": "code",
   "execution_count": 71,
   "id": "ca2e69d9-51b6-4846-a3e6-fbb429dcd829",
   "metadata": {},
   "outputs": [
    {
     "data": {
      "text/plain": [
       "<111593x29967 sparse matrix of type '<class 'numpy.float64'>'\n",
       "\twith 2647286 stored elements in Compressed Sparse Row format>"
      ]
     },
     "execution_count": 71,
     "metadata": {},
     "output_type": "execute_result"
    }
   ],
   "source": [
    "tfidf_vector = tfidf_vectorizer.fit_transform(df['description'])\n",
    "tfidf_vector"
   ]
  },
  {
   "cell_type": "code",
   "execution_count": 72,
   "id": "a22d212e-ea56-463a-8bf7-1dabc28fa400",
   "metadata": {},
   "outputs": [
    {
     "data": {
      "text/html": [
       "<div>\n",
       "<style scoped>\n",
       "    .dataframe tbody tr th:only-of-type {\n",
       "        vertical-align: middle;\n",
       "    }\n",
       "\n",
       "    .dataframe tbody tr th {\n",
       "        vertical-align: top;\n",
       "    }\n",
       "\n",
       "    .dataframe thead th {\n",
       "        text-align: right;\n",
       "    }\n",
       "</style>\n",
       "<table border=\"1\" class=\"dataframe\">\n",
       "  <thead>\n",
       "    <tr style=\"text-align: right;\">\n",
       "      <th></th>\n",
       "      <th>000</th>\n",
       "      <th>008</th>\n",
       "      <th>01</th>\n",
       "      <th>02</th>\n",
       "      <th>03</th>\n",
       "      <th>030</th>\n",
       "      <th>035</th>\n",
       "      <th>04</th>\n",
       "      <th>04s</th>\n",
       "      <th>05</th>\n",
       "      <th>...</th>\n",
       "      <th>émilion</th>\n",
       "      <th>étoile</th>\n",
       "      <th>été</th>\n",
       "      <th>öküzgözü</th>\n",
       "      <th>über</th>\n",
       "      <th>überaromatic</th>\n",
       "      <th>überbest</th>\n",
       "      <th>ürzig</th>\n",
       "      <th>ürziger</th>\n",
       "      <th>žilavka</th>\n",
       "    </tr>\n",
       "  </thead>\n",
       "  <tbody>\n",
       "    <tr>\n",
       "      <th>0</th>\n",
       "      <td>0.0</td>\n",
       "      <td>0.0</td>\n",
       "      <td>0.0</td>\n",
       "      <td>0.0</td>\n",
       "      <td>0.0</td>\n",
       "      <td>0.0</td>\n",
       "      <td>0.0</td>\n",
       "      <td>0.0</td>\n",
       "      <td>0.0</td>\n",
       "      <td>0.0</td>\n",
       "      <td>...</td>\n",
       "      <td>0.0</td>\n",
       "      <td>0.0</td>\n",
       "      <td>0.0</td>\n",
       "      <td>0.0</td>\n",
       "      <td>0.0</td>\n",
       "      <td>0.0</td>\n",
       "      <td>0.0</td>\n",
       "      <td>0.0</td>\n",
       "      <td>0.0</td>\n",
       "      <td>0.0</td>\n",
       "    </tr>\n",
       "    <tr>\n",
       "      <th>1</th>\n",
       "      <td>0.0</td>\n",
       "      <td>0.0</td>\n",
       "      <td>0.0</td>\n",
       "      <td>0.0</td>\n",
       "      <td>0.0</td>\n",
       "      <td>0.0</td>\n",
       "      <td>0.0</td>\n",
       "      <td>0.0</td>\n",
       "      <td>0.0</td>\n",
       "      <td>0.0</td>\n",
       "      <td>...</td>\n",
       "      <td>0.0</td>\n",
       "      <td>0.0</td>\n",
       "      <td>0.0</td>\n",
       "      <td>0.0</td>\n",
       "      <td>0.0</td>\n",
       "      <td>0.0</td>\n",
       "      <td>0.0</td>\n",
       "      <td>0.0</td>\n",
       "      <td>0.0</td>\n",
       "      <td>0.0</td>\n",
       "    </tr>\n",
       "    <tr>\n",
       "      <th>2</th>\n",
       "      <td>0.0</td>\n",
       "      <td>0.0</td>\n",
       "      <td>0.0</td>\n",
       "      <td>0.0</td>\n",
       "      <td>0.0</td>\n",
       "      <td>0.0</td>\n",
       "      <td>0.0</td>\n",
       "      <td>0.0</td>\n",
       "      <td>0.0</td>\n",
       "      <td>0.0</td>\n",
       "      <td>...</td>\n",
       "      <td>0.0</td>\n",
       "      <td>0.0</td>\n",
       "      <td>0.0</td>\n",
       "      <td>0.0</td>\n",
       "      <td>0.0</td>\n",
       "      <td>0.0</td>\n",
       "      <td>0.0</td>\n",
       "      <td>0.0</td>\n",
       "      <td>0.0</td>\n",
       "      <td>0.0</td>\n",
       "    </tr>\n",
       "    <tr>\n",
       "      <th>3</th>\n",
       "      <td>0.0</td>\n",
       "      <td>0.0</td>\n",
       "      <td>0.0</td>\n",
       "      <td>0.0</td>\n",
       "      <td>0.0</td>\n",
       "      <td>0.0</td>\n",
       "      <td>0.0</td>\n",
       "      <td>0.0</td>\n",
       "      <td>0.0</td>\n",
       "      <td>0.0</td>\n",
       "      <td>...</td>\n",
       "      <td>0.0</td>\n",
       "      <td>0.0</td>\n",
       "      <td>0.0</td>\n",
       "      <td>0.0</td>\n",
       "      <td>0.0</td>\n",
       "      <td>0.0</td>\n",
       "      <td>0.0</td>\n",
       "      <td>0.0</td>\n",
       "      <td>0.0</td>\n",
       "      <td>0.0</td>\n",
       "    </tr>\n",
       "    <tr>\n",
       "      <th>4</th>\n",
       "      <td>0.0</td>\n",
       "      <td>0.0</td>\n",
       "      <td>0.0</td>\n",
       "      <td>0.0</td>\n",
       "      <td>0.0</td>\n",
       "      <td>0.0</td>\n",
       "      <td>0.0</td>\n",
       "      <td>0.0</td>\n",
       "      <td>0.0</td>\n",
       "      <td>0.0</td>\n",
       "      <td>...</td>\n",
       "      <td>0.0</td>\n",
       "      <td>0.0</td>\n",
       "      <td>0.0</td>\n",
       "      <td>0.0</td>\n",
       "      <td>0.0</td>\n",
       "      <td>0.0</td>\n",
       "      <td>0.0</td>\n",
       "      <td>0.0</td>\n",
       "      <td>0.0</td>\n",
       "      <td>0.0</td>\n",
       "    </tr>\n",
       "    <tr>\n",
       "      <th>...</th>\n",
       "      <td>...</td>\n",
       "      <td>...</td>\n",
       "      <td>...</td>\n",
       "      <td>...</td>\n",
       "      <td>...</td>\n",
       "      <td>...</td>\n",
       "      <td>...</td>\n",
       "      <td>...</td>\n",
       "      <td>...</td>\n",
       "      <td>...</td>\n",
       "      <td>...</td>\n",
       "      <td>...</td>\n",
       "      <td>...</td>\n",
       "      <td>...</td>\n",
       "      <td>...</td>\n",
       "      <td>...</td>\n",
       "      <td>...</td>\n",
       "      <td>...</td>\n",
       "      <td>...</td>\n",
       "      <td>...</td>\n",
       "      <td>...</td>\n",
       "    </tr>\n",
       "    <tr>\n",
       "      <th>111588</th>\n",
       "      <td>0.0</td>\n",
       "      <td>0.0</td>\n",
       "      <td>0.0</td>\n",
       "      <td>0.0</td>\n",
       "      <td>0.0</td>\n",
       "      <td>0.0</td>\n",
       "      <td>0.0</td>\n",
       "      <td>0.0</td>\n",
       "      <td>0.0</td>\n",
       "      <td>0.0</td>\n",
       "      <td>...</td>\n",
       "      <td>0.0</td>\n",
       "      <td>0.0</td>\n",
       "      <td>0.0</td>\n",
       "      <td>0.0</td>\n",
       "      <td>0.0</td>\n",
       "      <td>0.0</td>\n",
       "      <td>0.0</td>\n",
       "      <td>0.0</td>\n",
       "      <td>0.0</td>\n",
       "      <td>0.0</td>\n",
       "    </tr>\n",
       "    <tr>\n",
       "      <th>111589</th>\n",
       "      <td>0.0</td>\n",
       "      <td>0.0</td>\n",
       "      <td>0.0</td>\n",
       "      <td>0.0</td>\n",
       "      <td>0.0</td>\n",
       "      <td>0.0</td>\n",
       "      <td>0.0</td>\n",
       "      <td>0.0</td>\n",
       "      <td>0.0</td>\n",
       "      <td>0.0</td>\n",
       "      <td>...</td>\n",
       "      <td>0.0</td>\n",
       "      <td>0.0</td>\n",
       "      <td>0.0</td>\n",
       "      <td>0.0</td>\n",
       "      <td>0.0</td>\n",
       "      <td>0.0</td>\n",
       "      <td>0.0</td>\n",
       "      <td>0.0</td>\n",
       "      <td>0.0</td>\n",
       "      <td>0.0</td>\n",
       "    </tr>\n",
       "    <tr>\n",
       "      <th>111590</th>\n",
       "      <td>0.0</td>\n",
       "      <td>0.0</td>\n",
       "      <td>0.0</td>\n",
       "      <td>0.0</td>\n",
       "      <td>0.0</td>\n",
       "      <td>0.0</td>\n",
       "      <td>0.0</td>\n",
       "      <td>0.0</td>\n",
       "      <td>0.0</td>\n",
       "      <td>0.0</td>\n",
       "      <td>...</td>\n",
       "      <td>0.0</td>\n",
       "      <td>0.0</td>\n",
       "      <td>0.0</td>\n",
       "      <td>0.0</td>\n",
       "      <td>0.0</td>\n",
       "      <td>0.0</td>\n",
       "      <td>0.0</td>\n",
       "      <td>0.0</td>\n",
       "      <td>0.0</td>\n",
       "      <td>0.0</td>\n",
       "    </tr>\n",
       "    <tr>\n",
       "      <th>111591</th>\n",
       "      <td>0.0</td>\n",
       "      <td>0.0</td>\n",
       "      <td>0.0</td>\n",
       "      <td>0.0</td>\n",
       "      <td>0.0</td>\n",
       "      <td>0.0</td>\n",
       "      <td>0.0</td>\n",
       "      <td>0.0</td>\n",
       "      <td>0.0</td>\n",
       "      <td>0.0</td>\n",
       "      <td>...</td>\n",
       "      <td>0.0</td>\n",
       "      <td>0.0</td>\n",
       "      <td>0.0</td>\n",
       "      <td>0.0</td>\n",
       "      <td>0.0</td>\n",
       "      <td>0.0</td>\n",
       "      <td>0.0</td>\n",
       "      <td>0.0</td>\n",
       "      <td>0.0</td>\n",
       "      <td>0.0</td>\n",
       "    </tr>\n",
       "    <tr>\n",
       "      <th>111592</th>\n",
       "      <td>0.0</td>\n",
       "      <td>0.0</td>\n",
       "      <td>0.0</td>\n",
       "      <td>0.0</td>\n",
       "      <td>0.0</td>\n",
       "      <td>0.0</td>\n",
       "      <td>0.0</td>\n",
       "      <td>0.0</td>\n",
       "      <td>0.0</td>\n",
       "      <td>0.0</td>\n",
       "      <td>...</td>\n",
       "      <td>0.0</td>\n",
       "      <td>0.0</td>\n",
       "      <td>0.0</td>\n",
       "      <td>0.0</td>\n",
       "      <td>0.0</td>\n",
       "      <td>0.0</td>\n",
       "      <td>0.0</td>\n",
       "      <td>0.0</td>\n",
       "      <td>0.0</td>\n",
       "      <td>0.0</td>\n",
       "    </tr>\n",
       "  </tbody>\n",
       "</table>\n",
       "<p>111593 rows × 29967 columns</p>\n",
       "</div>"
      ],
      "text/plain": [
       "        000  008   01   02   03  030  035   04  04s   05  ...  émilion  \\\n",
       "0       0.0  0.0  0.0  0.0  0.0  0.0  0.0  0.0  0.0  0.0  ...      0.0   \n",
       "1       0.0  0.0  0.0  0.0  0.0  0.0  0.0  0.0  0.0  0.0  ...      0.0   \n",
       "2       0.0  0.0  0.0  0.0  0.0  0.0  0.0  0.0  0.0  0.0  ...      0.0   \n",
       "3       0.0  0.0  0.0  0.0  0.0  0.0  0.0  0.0  0.0  0.0  ...      0.0   \n",
       "4       0.0  0.0  0.0  0.0  0.0  0.0  0.0  0.0  0.0  0.0  ...      0.0   \n",
       "...     ...  ...  ...  ...  ...  ...  ...  ...  ...  ...  ...      ...   \n",
       "111588  0.0  0.0  0.0  0.0  0.0  0.0  0.0  0.0  0.0  0.0  ...      0.0   \n",
       "111589  0.0  0.0  0.0  0.0  0.0  0.0  0.0  0.0  0.0  0.0  ...      0.0   \n",
       "111590  0.0  0.0  0.0  0.0  0.0  0.0  0.0  0.0  0.0  0.0  ...      0.0   \n",
       "111591  0.0  0.0  0.0  0.0  0.0  0.0  0.0  0.0  0.0  0.0  ...      0.0   \n",
       "111592  0.0  0.0  0.0  0.0  0.0  0.0  0.0  0.0  0.0  0.0  ...      0.0   \n",
       "\n",
       "        étoile  été  öküzgözü  über  überaromatic  überbest  ürzig  ürziger  \\\n",
       "0          0.0  0.0       0.0   0.0           0.0       0.0    0.0      0.0   \n",
       "1          0.0  0.0       0.0   0.0           0.0       0.0    0.0      0.0   \n",
       "2          0.0  0.0       0.0   0.0           0.0       0.0    0.0      0.0   \n",
       "3          0.0  0.0       0.0   0.0           0.0       0.0    0.0      0.0   \n",
       "4          0.0  0.0       0.0   0.0           0.0       0.0    0.0      0.0   \n",
       "...        ...  ...       ...   ...           ...       ...    ...      ...   \n",
       "111588     0.0  0.0       0.0   0.0           0.0       0.0    0.0      0.0   \n",
       "111589     0.0  0.0       0.0   0.0           0.0       0.0    0.0      0.0   \n",
       "111590     0.0  0.0       0.0   0.0           0.0       0.0    0.0      0.0   \n",
       "111591     0.0  0.0       0.0   0.0           0.0       0.0    0.0      0.0   \n",
       "111592     0.0  0.0       0.0   0.0           0.0       0.0    0.0      0.0   \n",
       "\n",
       "        žilavka  \n",
       "0           0.0  \n",
       "1           0.0  \n",
       "2           0.0  \n",
       "3           0.0  \n",
       "4           0.0  \n",
       "...         ...  \n",
       "111588      0.0  \n",
       "111589      0.0  \n",
       "111590      0.0  \n",
       "111591      0.0  \n",
       "111592      0.0  \n",
       "\n",
       "[111593 rows x 29967 columns]"
      ]
     },
     "execution_count": 72,
     "metadata": {},
     "output_type": "execute_result"
    }
   ],
   "source": [
    "tfidf_df = pd.DataFrame(tfidf_vector.toarray(), columns=tfidf_vectorizer.get_feature_names())\n",
    "tfidf_df"
   ]
  },
  {
   "cell_type": "code",
   "execution_count": 73,
   "id": "10dad614-eb61-42ac-8622-09736848978f",
   "metadata": {},
   "outputs": [],
   "source": [
    "# Get top n tfidf values in row and return them with their corresponding feature names.\n",
    "def top_tfidf_feats(row, features, top_n=25):\n",
    "    topn_ids = np.argsort(row)[::-1][:top_n]\n",
    "    top_feats = [(features[i], row[i]) for i in topn_ids]\n",
    "    df = pd.DataFrame(top_feats)\n",
    "    df.columns = ['feature', 'tfidf']\n",
    "    return df"
   ]
  },
  {
   "cell_type": "code",
   "execution_count": 74,
   "id": "9be6f7a3-3da0-4553-9232-f3f601fcad86",
   "metadata": {},
   "outputs": [],
   "source": [
    "# Top tfidf features in specific document (matrix row)\n",
    "def top_feats_in_doc(Xtr, features, row_id, top_n=25):\n",
    "    row = np.squeeze(Xtr[row_id].toarray())\n",
    "    return top_tfidf_feats(row, features, top_n)"
   ]
  },
  {
   "cell_type": "code",
   "execution_count": 75,
   "id": "fa18aa3a-54a2-443f-bb4f-66641b986471",
   "metadata": {},
   "outputs": [
    {
     "data": {
      "text/plain": [
       "\"This is ripe and fruity, a wine that is smooth while still structured. Firm tannins are filled out with juicy red berry fruits and freshened with acidity. It's  already drinkable, although it will certainly be better from 2016.\""
      ]
     },
     "execution_count": 75,
     "metadata": {},
     "output_type": "execute_result"
    }
   ],
   "source": [
    "df.loc[1]['description']"
   ]
  },
  {
   "cell_type": "code",
   "execution_count": 76,
   "id": "b9543a52-c54c-4a4c-a593-528086409681",
   "metadata": {},
   "outputs": [
    {
     "data": {
      "text/html": [
       "<div>\n",
       "<style scoped>\n",
       "    .dataframe tbody tr th:only-of-type {\n",
       "        vertical-align: middle;\n",
       "    }\n",
       "\n",
       "    .dataframe tbody tr th {\n",
       "        vertical-align: top;\n",
       "    }\n",
       "\n",
       "    .dataframe thead th {\n",
       "        text-align: right;\n",
       "    }\n",
       "</style>\n",
       "<table border=\"1\" class=\"dataframe\">\n",
       "  <thead>\n",
       "    <tr style=\"text-align: right;\">\n",
       "      <th></th>\n",
       "      <th>feature</th>\n",
       "      <th>tfidf</th>\n",
       "    </tr>\n",
       "  </thead>\n",
       "  <tbody>\n",
       "    <tr>\n",
       "      <th>0</th>\n",
       "      <td>freshened</td>\n",
       "      <td>0.451147</td>\n",
       "    </tr>\n",
       "    <tr>\n",
       "      <th>1</th>\n",
       "      <td>filled</td>\n",
       "      <td>0.337542</td>\n",
       "    </tr>\n",
       "    <tr>\n",
       "      <th>2</th>\n",
       "      <td>certainly</td>\n",
       "      <td>0.314516</td>\n",
       "    </tr>\n",
       "    <tr>\n",
       "      <th>3</th>\n",
       "      <td>drinkable</td>\n",
       "      <td>0.310842</td>\n",
       "    </tr>\n",
       "    <tr>\n",
       "      <th>4</th>\n",
       "      <td>better</td>\n",
       "      <td>0.279086</td>\n",
       "    </tr>\n",
       "    <tr>\n",
       "      <th>5</th>\n",
       "      <td>2016</td>\n",
       "      <td>0.266123</td>\n",
       "    </tr>\n",
       "    <tr>\n",
       "      <th>6</th>\n",
       "      <td>structured</td>\n",
       "      <td>0.220477</td>\n",
       "    </tr>\n",
       "    <tr>\n",
       "      <th>7</th>\n",
       "      <td>smooth</td>\n",
       "      <td>0.203566</td>\n",
       "    </tr>\n",
       "    <tr>\n",
       "      <th>8</th>\n",
       "      <td>firm</td>\n",
       "      <td>0.193004</td>\n",
       "    </tr>\n",
       "    <tr>\n",
       "      <th>9</th>\n",
       "      <td>fruity</td>\n",
       "      <td>0.191156</td>\n",
       "    </tr>\n",
       "  </tbody>\n",
       "</table>\n",
       "</div>"
      ],
      "text/plain": [
       "      feature     tfidf\n",
       "0   freshened  0.451147\n",
       "1      filled  0.337542\n",
       "2   certainly  0.314516\n",
       "3   drinkable  0.310842\n",
       "4      better  0.279086\n",
       "5        2016  0.266123\n",
       "6  structured  0.220477\n",
       "7      smooth  0.203566\n",
       "8        firm  0.193004\n",
       "9      fruity  0.191156"
      ]
     },
     "execution_count": 76,
     "metadata": {},
     "output_type": "execute_result"
    }
   ],
   "source": [
    "top_feats_in_doc(tfidf_vector,tfidf_vectorizer.get_feature_names(),0,10)"
   ]
  },
  {
   "cell_type": "code",
   "execution_count": 77,
   "id": "bd9990dc-57ea-4221-813f-8d6f4fdeabae",
   "metadata": {},
   "outputs": [],
   "source": [
    "#Let's start with a function that lets us look at the top words in a doc and their TF-IDF scores\n",
    "def top_mean_feats(Xtr, features, grp_ids=None, min_tfidf=0.1, top_n=25):\n",
    "    if grp_ids:\n",
    "        D = Xtr[grp_ids].toarray()\n",
    "    else:\n",
    "        D = Xtr.toarray()\n",
    "\n",
    "    D[D < min_tfidf] = 0\n",
    "    tfidf_means = np.mean(D, axis=0)\n",
    "    return top_tfidf_feats(tfidf_means, features, top_n)"
   ]
  },
  {
   "cell_type": "code",
   "execution_count": 78,
   "id": "d847bd3a-1fe7-4dcc-a21d-ec397d99fc6f",
   "metadata": {},
   "outputs": [
    {
     "data": {
      "text/html": [
       "<div>\n",
       "<style scoped>\n",
       "    .dataframe tbody tr th:only-of-type {\n",
       "        vertical-align: middle;\n",
       "    }\n",
       "\n",
       "    .dataframe tbody tr th {\n",
       "        vertical-align: top;\n",
       "    }\n",
       "\n",
       "    .dataframe thead th {\n",
       "        text-align: right;\n",
       "    }\n",
       "</style>\n",
       "<table border=\"1\" class=\"dataframe\">\n",
       "  <thead>\n",
       "    <tr style=\"text-align: right;\">\n",
       "      <th></th>\n",
       "      <th>feature</th>\n",
       "      <th>tfidf</th>\n",
       "    </tr>\n",
       "  </thead>\n",
       "  <tbody>\n",
       "    <tr>\n",
       "      <th>0</th>\n",
       "      <td>wine</td>\n",
       "      <td>0.016851</td>\n",
       "    </tr>\n",
       "    <tr>\n",
       "      <th>1</th>\n",
       "      <td>red</td>\n",
       "      <td>0.016542</td>\n",
       "    </tr>\n",
       "    <tr>\n",
       "      <th>2</th>\n",
       "      <td>black</td>\n",
       "      <td>0.016372</td>\n",
       "    </tr>\n",
       "    <tr>\n",
       "      <th>3</th>\n",
       "      <td>ripe</td>\n",
       "      <td>0.015931</td>\n",
       "    </tr>\n",
       "    <tr>\n",
       "      <th>4</th>\n",
       "      <td>berry</td>\n",
       "      <td>0.014820</td>\n",
       "    </tr>\n",
       "    <tr>\n",
       "      <th>5</th>\n",
       "      <td>dry</td>\n",
       "      <td>0.014777</td>\n",
       "    </tr>\n",
       "    <tr>\n",
       "      <th>6</th>\n",
       "      <td>fresh</td>\n",
       "      <td>0.014657</td>\n",
       "    </tr>\n",
       "    <tr>\n",
       "      <th>7</th>\n",
       "      <td>spice</td>\n",
       "      <td>0.014249</td>\n",
       "    </tr>\n",
       "    <tr>\n",
       "      <th>8</th>\n",
       "      <td>soft</td>\n",
       "      <td>0.014133</td>\n",
       "    </tr>\n",
       "    <tr>\n",
       "      <th>9</th>\n",
       "      <td>rich</td>\n",
       "      <td>0.013916</td>\n",
       "    </tr>\n",
       "    <tr>\n",
       "      <th>10</th>\n",
       "      <td>acidity</td>\n",
       "      <td>0.013748</td>\n",
       "    </tr>\n",
       "    <tr>\n",
       "      <th>11</th>\n",
       "      <td>drink</td>\n",
       "      <td>0.013730</td>\n",
       "    </tr>\n",
       "    <tr>\n",
       "      <th>12</th>\n",
       "      <td>oak</td>\n",
       "      <td>0.013651</td>\n",
       "    </tr>\n",
       "    <tr>\n",
       "      <th>13</th>\n",
       "      <td>cherry</td>\n",
       "      <td>0.013636</td>\n",
       "    </tr>\n",
       "    <tr>\n",
       "      <th>14</th>\n",
       "      <td>plum</td>\n",
       "      <td>0.013496</td>\n",
       "    </tr>\n",
       "  </tbody>\n",
       "</table>\n",
       "</div>"
      ],
      "text/plain": [
       "    feature     tfidf\n",
       "0      wine  0.016851\n",
       "1       red  0.016542\n",
       "2     black  0.016372\n",
       "3      ripe  0.015931\n",
       "4     berry  0.014820\n",
       "5       dry  0.014777\n",
       "6     fresh  0.014657\n",
       "7     spice  0.014249\n",
       "8      soft  0.014133\n",
       "9      rich  0.013916\n",
       "10  acidity  0.013748\n",
       "11    drink  0.013730\n",
       "12      oak  0.013651\n",
       "13   cherry  0.013636\n",
       "14     plum  0.013496"
      ]
     },
     "execution_count": 78,
     "metadata": {},
     "output_type": "execute_result"
    }
   ],
   "source": [
    "top_mean_feats(tfidf_vector,tfidf_vectorizer.get_feature_names(),top_n=15)"
   ]
  },
  {
   "cell_type": "code",
   "execution_count": 79,
   "id": "ce5be233-e633-493d-967a-d4f5e8154fda",
   "metadata": {},
   "outputs": [],
   "source": [
    "def top_feats_by_class(Xtr, y, features, min_tfidf=0.1, top_n=25):\n",
    "    dfs = []\n",
    "    labels = np.unique(y)\n",
    "    for label in labels:\n",
    "        ids = np.where(y==label)\n",
    "        feats_df = top_mean_feats(Xtr, features, ids, min_tfidf=min_tfidf, top_n=top_n)\n",
    "        feats_df.label = label\n",
    "        dfs.append(feats_df)\n",
    "    return dfs"
   ]
  },
  {
   "cell_type": "code",
   "execution_count": 80,
   "id": "11b3ee02-726b-4b9f-a05a-9eea04a55814",
   "metadata": {},
   "outputs": [],
   "source": [
    "dfs = top_feats_by_class(tfidf_vector,df['points_cat'],tfidf_vectorizer.get_feature_names() )"
   ]
  },
  {
   "cell_type": "code",
   "execution_count": 81,
   "id": "ea6dafbe-3aff-4f66-8828-69fa652adf4b",
   "metadata": {},
   "outputs": [],
   "source": [
    "# Plot the data frames returned by the function plot_tfidf_classfeats().\n",
    "def plot_tfidf_classfeats_h(dfs):\n",
    "    fig = plt.figure(figsize=(30, 9), facecolor=\"w\")\n",
    "    x = np.arange(len(dfs[0]))\n",
    "    for i, df in enumerate(dfs):\n",
    "        ax = fig.add_subplot(1, len(dfs), i+1)\n",
    "        ax.spines[\"top\"].set_visible(False)\n",
    "        ax.spines[\"right\"].set_visible(False)\n",
    "        ax.set_frame_on(False)\n",
    "        ax.get_xaxis().tick_bottom()\n",
    "        ax.get_yaxis().tick_left()\n",
    "        ax.set_xlabel(\"Mean Tf-Idf Score\", labelpad=16, fontsize=14)\n",
    "        ax.set_title(\"label = \" + str(df.label), fontsize=16)\n",
    "        ax.ticklabel_format(axis='x', style='sci', scilimits=(-2,2))\n",
    "        ax.barh(x, df.tfidf, align='center', color='#005035')\n",
    "        ax.set_yticks(x)\n",
    "        ax.set_ylim([-1, x[-1]+1])\n",
    "        yticks = ax.set_yticklabels(df.feature)\n",
    "        plt.subplots_adjust(bottom=0.09, right=0.97, left=0.15, top=0.95, wspace=0.52)\n",
    "        plt.savefig('classfeats.png', bbox_inches = 'tight')"
   ]
  },
  {
   "cell_type": "code",
   "execution_count": 82,
   "id": "f9a22650-93bd-47a7-9a7e-72d7c2bdf53b",
   "metadata": {},
   "outputs": [
    {
     "data": {
      "image/png": "[encoded data removed]",
      "text/plain": [
       "<Figure size 2160x648 with 4 Axes>"
      ]
     },
     "metadata": {},
     "output_type": "display_data"
    }
   ],
   "source": [
    "plot_tfidf_classfeats_h(dfs)"
   ]
  },
  {
   "cell_type": "markdown",
   "id": "97f1feb1-36f2-430d-8da4-4c276290c983",
   "metadata": {},
   "source": [
    "## Modeling"
   ]
  },
  {
   "cell_type": "markdown",
   "id": "e2fae48c-3ecc-4536-b475-b5277184e00d",
   "metadata": {},
   "source": [
    "Let's start by checking our baseline for the target variable"
   ]
  },
  {
   "cell_type": "code",
   "execution_count": 83,
   "id": "7486362d-6250-481c-a15f-db307bb43c30",
   "metadata": {},
   "outputs": [
    {
     "data": {
      "text/plain": [
       "good             0.519378\n",
       "superior         0.357836\n",
       "above average    0.103161\n",
       "benchmark        0.019625\n",
       "Name: points_cat, dtype: float64"
      ]
     },
     "execution_count": 83,
     "metadata": {},
     "output_type": "execute_result"
    }
   ],
   "source": [
    "df['points_cat'].value_counts(normalize = True)"
   ]
  },
  {
   "cell_type": "markdown",
   "id": "98329706-47a9-4e38-93d1-6b66ac92a64b",
   "metadata": {},
   "source": [
    "To produce a meaningful model we'll need to exceed an accuracy of the most frequently occurring category. In our case that means we'll need to beat out the 52.7% that the 'good' category accounts for. "
   ]
  },
  {
   "cell_type": "code",
   "execution_count": 84,
   "id": "7c391408-9e3e-40d0-b866-d3ce108c386c",
   "metadata": {},
   "outputs": [],
   "source": [
    "#Create training and testing split at 70/30\n",
    "train, test = train_test_split(df, test_size =0.3, random_state = 1888)"
   ]
  },
  {
   "cell_type": "code",
   "execution_count": 85,
   "id": "e7ec51fd-980f-4363-a7ad-566728b87ca6",
   "metadata": {},
   "outputs": [
    {
     "data": {
      "text/plain": [
       "Index(['country', 'description', 'designation', 'points', 'price', 'province',\n",
       "       'region_1', 'region_2', 'taster_name', 'taster_twitter_handle', 'title',\n",
       "       'variety', 'winery', 'points_cat'],\n",
       "      dtype='object')"
      ]
     },
     "execution_count": 85,
     "metadata": {},
     "output_type": "execute_result"
    }
   ],
   "source": [
    "#Check our training columns for reference\n",
    "train.columns"
   ]
  },
  {
   "cell_type": "code",
   "execution_count": 86,
   "id": "b0e7da49-4e83-46df-a563-d8841ef91f2b",
   "metadata": {},
   "outputs": [
    {
     "name": "stdout",
     "output_type": "stream",
     "text": [
      "DF shape: (111593, 14)\n",
      "Train shape:  (78115, 14)\n",
      "Test shape:  (33478, 14)\n"
     ]
    }
   ],
   "source": [
    "#Check the data set to verify that no records are missing\n",
    "print('DF shape:', df.shape)\n",
    "print('Train shape: ',train.shape)\n",
    "print('Test shape: ', test.shape)"
   ]
  },
  {
   "cell_type": "code",
   "execution_count": 87,
   "id": "f2d01c40-71d2-4dd5-97ab-0655c962f9a7",
   "metadata": {},
   "outputs": [],
   "source": [
    "#Set up our training sets with description as the IV and the quality category as the dependent value\n",
    "x_train = train['description']\n",
    "y_train = train['points_cat']"
   ]
  },
  {
   "cell_type": "code",
   "execution_count": 88,
   "id": "f1d93978-4d55-41d9-a5fe-3bdfe6eb9330",
   "metadata": {},
   "outputs": [],
   "source": [
    "#Set up our testing sets with description as the IV and the quality category as the dependent value\n",
    "x_test = test['description']\n",
    "y_test = test['points_cat']"
   ]
  },
  {
   "cell_type": "code",
   "execution_count": 89,
   "id": "de8478bf-9107-4f68-bd49-309bbe224dca",
   "metadata": {},
   "outputs": [],
   "source": [
    "#Vectorize description for the training and testing sets\n",
    "vec = TfidfVectorizer(ngram_range = (1,2), stop_words = 'english')\n",
    "vec.fit(list(x_train) + list(x_test))\n",
    "x_train_vectorized = vec.transform(x_train)\n",
    "x_test_vectorized = vec.transform(x_test)"
   ]
  },
  {
   "cell_type": "markdown",
   "id": "831505a5-3126-4b54-a5d2-5e85eb6ce31a",
   "metadata": {},
   "source": [
    "## SVM"
   ]
  },
  {
   "cell_type": "code",
   "execution_count": 90,
   "id": "827e49af-271e-4e44-ba57-a3b845a515b5",
   "metadata": {},
   "outputs": [
    {
     "data": {
      "text/plain": [
       "LinearSVC()"
      ]
     },
     "execution_count": 90,
     "metadata": {},
     "output_type": "execute_result"
    }
   ],
   "source": [
    "#Model using SVM\n",
    "svm = LinearSVC()\n",
    "svm.fit(x_train_vectorized, y_train)"
   ]
  },
  {
   "cell_type": "code",
   "execution_count": 91,
   "id": "d4e88c78-ae56-46f4-879d-b5ac6b3c58de",
   "metadata": {},
   "outputs": [],
   "source": [
    "svm_predict = svm.predict(x_test_vectorized)"
   ]
  },
  {
   "cell_type": "code",
   "execution_count": 92,
   "id": "e34d9553-bfdb-45eb-91fe-b640644deb2e",
   "metadata": {},
   "outputs": [
    {
     "name": "stdout",
     "output_type": "stream",
     "text": [
      "               precision    recall  f1-score   support\n",
      "\n",
      "above average       0.75      0.41      0.53      3486\n",
      "    benchmark       0.56      0.01      0.03       666\n",
      "         good       0.73      0.82      0.78     17298\n",
      "     superior       0.73      0.74      0.73     12028\n",
      "\n",
      "     accuracy                           0.73     33478\n",
      "    macro avg       0.69      0.50      0.52     33478\n",
      " weighted avg       0.73      0.73      0.72     33478\n",
      "\n"
     ]
    }
   ],
   "source": [
    "print(classification_report(y_test, svm_predict))"
   ]
  },
  {
   "cell_type": "markdown",
   "id": "c4b3e819-ef04-488b-b828-76be70dcb21e",
   "metadata": {},
   "source": [
    "## Multinomial Naive Bayes"
   ]
  },
  {
   "cell_type": "code",
   "execution_count": 93,
   "id": "504cf223-ccce-4bd4-ba9c-20a993818262",
   "metadata": {},
   "outputs": [
    {
     "data": {
      "text/plain": [
       "MultinomialNB()"
      ]
     },
     "execution_count": 93,
     "metadata": {},
     "output_type": "execute_result"
    }
   ],
   "source": [
    "nb_model = MultinomialNB() # default params - MultinomialNB(alpha=1.0, class_prior=None, fit_prior=True)\n",
    "nb_model.fit(x_train_vectorized, y_train)"
   ]
  },
  {
   "cell_type": "code",
   "execution_count": 94,
   "id": "8f165d36-83e5-4185-be8c-b8488db3f66f",
   "metadata": {},
   "outputs": [
    {
     "name": "stdout",
     "output_type": "stream",
     "text": [
      "0.6287113925563056\n"
     ]
    }
   ],
   "source": [
    "print(nb_model.score(x_test_vectorized,y_test))"
   ]
  },
  {
   "cell_type": "code",
   "execution_count": 95,
   "id": "3e5b711a-6667-4d16-97a5-477fd94f5484",
   "metadata": {},
   "outputs": [
    {
     "data": {
      "text/html": [
       "<div>\n",
       "<style scoped>\n",
       "    .dataframe tbody tr th:only-of-type {\n",
       "        vertical-align: middle;\n",
       "    }\n",
       "\n",
       "    .dataframe tbody tr th {\n",
       "        vertical-align: top;\n",
       "    }\n",
       "\n",
       "    .dataframe thead th {\n",
       "        text-align: right;\n",
       "    }\n",
       "</style>\n",
       "<table border=\"1\" class=\"dataframe\">\n",
       "  <thead>\n",
       "    <tr style=\"text-align: right;\">\n",
       "      <th>Predicted</th>\n",
       "      <th>good</th>\n",
       "      <th>superior</th>\n",
       "      <th>Total</th>\n",
       "    </tr>\n",
       "    <tr>\n",
       "      <th>Actual</th>\n",
       "      <th></th>\n",
       "      <th></th>\n",
       "      <th></th>\n",
       "    </tr>\n",
       "  </thead>\n",
       "  <tbody>\n",
       "    <tr>\n",
       "      <th>above average</th>\n",
       "      <td>3480</td>\n",
       "      <td>6</td>\n",
       "      <td>3486</td>\n",
       "    </tr>\n",
       "    <tr>\n",
       "      <th>benchmark</th>\n",
       "      <td>127</td>\n",
       "      <td>539</td>\n",
       "      <td>666</td>\n",
       "    </tr>\n",
       "    <tr>\n",
       "      <th>good</th>\n",
       "      <td>16865</td>\n",
       "      <td>433</td>\n",
       "      <td>17298</td>\n",
       "    </tr>\n",
       "    <tr>\n",
       "      <th>superior</th>\n",
       "      <td>7845</td>\n",
       "      <td>4183</td>\n",
       "      <td>12028</td>\n",
       "    </tr>\n",
       "    <tr>\n",
       "      <th>Total</th>\n",
       "      <td>28317</td>\n",
       "      <td>5161</td>\n",
       "      <td>33478</td>\n",
       "    </tr>\n",
       "  </tbody>\n",
       "</table>\n",
       "</div>"
      ],
      "text/plain": [
       "Predicted       good  superior  Total\n",
       "Actual                               \n",
       "above average   3480         6   3486\n",
       "benchmark        127       539    666\n",
       "good           16865       433  17298\n",
       "superior        7845      4183  12028\n",
       "Total          28317      5161  33478"
      ]
     },
     "execution_count": 95,
     "metadata": {},
     "output_type": "execute_result"
    }
   ],
   "source": [
    "y_predicted = nb_model.predict(x_test_vectorized)\n",
    "ypred = pd.crosstab(y_test, y_predicted, rownames = ['Actual'], colnames = ['Predicted'])\n",
    "ypred['Total'] = ypred.sum(axis=1) \n",
    "ypred.loc['Total'] = ypred.sum()\n",
    "ypred"
   ]
  },
  {
   "cell_type": "markdown",
   "id": "cd26d5fd-26dc-469b-b82d-da7df693b98b",
   "metadata": {},
   "source": [
    "Uh oh! We noticed that some of the less frequently occurring classes aren't represented in the model's predictions. Let's take a look an value counts by volume instead of percentage and see what they look like."
   ]
  },
  {
   "cell_type": "code",
   "execution_count": 96,
   "id": "385437e8-6ddd-4b9f-a9a5-c5866636d49c",
   "metadata": {},
   "outputs": [
    {
     "data": {
      "text/plain": [
       "good             40661\n",
       "superior         27904\n",
       "above average     8026\n",
       "benchmark         1524\n",
       "Name: points_cat, dtype: int64"
      ]
     },
     "execution_count": 96,
     "metadata": {},
     "output_type": "execute_result"
    }
   ],
   "source": [
    "train['points_cat'].value_counts()"
   ]
  },
  {
   "cell_type": "markdown",
   "id": "14ce9bb6-e21f-4a2e-9d64-e5f45e811e40",
   "metadata": {},
   "source": [
    "\n",
    "It looks like we're going to need to upsample above average and benchmark to have them be adequately represented in our model. We'll upsample above average by 150% and benchmark by 1000%. Normally we'd go back and do this upstream in the code but for the sake of sharing what we'll learned we'll preserve existing code for context."
   ]
  },
  {
   "cell_type": "markdown",
   "id": "8ea67eb0-fdd7-43f8-a0ec-6d034df6c63f",
   "metadata": {},
   "source": [
    "## Upsampling"
   ]
  },
  {
   "cell_type": "code",
   "execution_count": 97,
   "id": "12c54970-3ac7-42c5-97c5-2479c2742384",
   "metadata": {},
   "outputs": [],
   "source": [
    "#We'll start off by resampling the above average category\n",
    "to_resample = train.loc[(train['points_cat'] == 'above average')]"
   ]
  },
  {
   "cell_type": "markdown",
   "id": "2216a161-5a3b-45ea-a78d-d5d6609a7cf3",
   "metadata": {},
   "source": [
    "Above average accounts for 8244 observations in the original training set. To upsample it by 150% we'll want to bring it 12366 - 8244 = 4022 additional observations."
   ]
  },
  {
   "cell_type": "code",
   "execution_count": 98,
   "id": "205f77ab-0ccd-48fe-93fe-e52ed6418b9c",
   "metadata": {},
   "outputs": [],
   "source": [
    "our_resample = to_resample.sample(n = 4022, replace = True)"
   ]
  },
  {
   "cell_type": "code",
   "execution_count": 99,
   "id": "d58af941-7922-488d-b903-e89a13580650",
   "metadata": {},
   "outputs": [],
   "source": [
    "train_rebal = pd.concat([train, our_resample])"
   ]
  },
  {
   "cell_type": "code",
   "execution_count": 100,
   "id": "6414cd2f-6271-40f0-86a7-8c8071db0656",
   "metadata": {},
   "outputs": [
    {
     "data": {
      "text/plain": [
       "good             40661\n",
       "superior         27904\n",
       "above average    12048\n",
       "benchmark         1524\n",
       "Name: points_cat, dtype: int64"
      ]
     },
     "execution_count": 100,
     "metadata": {},
     "output_type": "execute_result"
    }
   ],
   "source": [
    "train_rebal['points_cat'].value_counts()"
   ]
  },
  {
   "cell_type": "markdown",
   "id": "aa458735-04d3-4c71-8169-e7a4a027d84e",
   "metadata": {},
   "source": [
    "Looks good, now let's do the same for benchmark. With 1544 original observations we'll bring it to 15440 total which means adding 13896 observations."
   ]
  },
  {
   "cell_type": "code",
   "execution_count": 101,
   "id": "f9284904-4fd1-4727-b27c-a202ec783a33",
   "metadata": {},
   "outputs": [],
   "source": [
    "to_resample1 = train.loc[(train['points_cat'] == 'benchmark')]"
   ]
  },
  {
   "cell_type": "code",
   "execution_count": 102,
   "id": "3caf426b-ed1b-4cea-a98c-ff7c050235e0",
   "metadata": {},
   "outputs": [],
   "source": [
    "our_resample1 = to_resample1.sample(n = 13896, replace = True )"
   ]
  },
  {
   "cell_type": "code",
   "execution_count": 103,
   "id": "289a0741-2bb0-4edd-926a-c90f2a9fa526",
   "metadata": {},
   "outputs": [],
   "source": [
    "train_rebal = pd.concat([train_rebal, our_resample1])"
   ]
  },
  {
   "cell_type": "code",
   "execution_count": 104,
   "id": "282aa7e6-d928-4326-a65e-1ff612ab0653",
   "metadata": {},
   "outputs": [
    {
     "data": {
      "text/plain": [
       "good             40661\n",
       "superior         27904\n",
       "benchmark        15420\n",
       "above average    12048\n",
       "Name: points_cat, dtype: int64"
      ]
     },
     "execution_count": 104,
     "metadata": {},
     "output_type": "execute_result"
    }
   ],
   "source": [
    "train_rebal['points_cat'].value_counts()"
   ]
  },
  {
   "cell_type": "markdown",
   "id": "a1eb2feb-1d1a-4f7e-b92e-6da4fa7cd8e2",
   "metadata": {},
   "source": [
    "Okay! We've got our resampling done. Let's look at normalized value counts one more time to see what our updated baseline is."
   ]
  },
  {
   "cell_type": "code",
   "execution_count": 105,
   "id": "1c9dfa7b-f25d-4cea-9b2b-8ca66dcb4cdb",
   "metadata": {},
   "outputs": [
    {
     "data": {
      "text/plain": [
       "good             0.423407\n",
       "superior         0.290567\n",
       "benchmark        0.160570\n",
       "above average    0.125457\n",
       "Name: points_cat, dtype: float64"
      ]
     },
     "execution_count": 105,
     "metadata": {},
     "output_type": "execute_result"
    }
   ],
   "source": [
    "train_rebal['points_cat'].value_counts(normalize = True)"
   ]
  },
  {
   "cell_type": "code",
   "execution_count": 106,
   "id": "dfa2d2b6-1156-440c-8565-5ee6f83ac80d",
   "metadata": {},
   "outputs": [],
   "source": [
    "#Set up our training sets with description as the IV and the quality category as the dependent value\n",
    "x_train = train_rebal['description']\n",
    "y_train = train_rebal['points_cat']"
   ]
  },
  {
   "cell_type": "code",
   "execution_count": 107,
   "id": "7f1fb5ae-662d-4a97-8bac-e861c93a4876",
   "metadata": {},
   "outputs": [],
   "source": [
    "#Set up our testing sets with description as the IV and the quality category as the dependent value\n",
    "x_test = test['description']\n",
    "y_test = test['points_cat']"
   ]
  },
  {
   "cell_type": "code",
   "execution_count": 108,
   "id": "d10d0165-d0f3-42e9-95bd-ca0a6cabf613",
   "metadata": {},
   "outputs": [],
   "source": [
    "#Vectorize description for the training and testing sets\n",
    "vec = TfidfVectorizer(ngram_range = (1,2), stop_words = 'english')\n",
    "vec.fit(list(x_train) + list(x_test))\n",
    "x_train_vectorized = vec.transform(x_train)\n",
    "x_test_vectorized = vec.transform(x_test)"
   ]
  },
  {
   "cell_type": "markdown",
   "id": "72530077-9833-434c-8310-c2250bbe348a",
   "metadata": {},
   "source": [
    "### SVM Take 2"
   ]
  },
  {
   "cell_type": "code",
   "execution_count": 115,
   "id": "3278b77b-2217-4ca0-bdc7-0b9b05715bcb",
   "metadata": {},
   "outputs": [
    {
     "data": {
      "text/plain": [
       "LinearSVC()"
      ]
     },
     "execution_count": 115,
     "metadata": {},
     "output_type": "execute_result"
    }
   ],
   "source": [
    "#Model using SVM\n",
    "svm = LinearSVC()\n",
    "svm.fit(x_train_vectorized, y_train)"
   ]
  },
  {
   "cell_type": "code",
   "execution_count": 116,
   "id": "ce138bb5-622e-45e5-8db8-535d4a9527f2",
   "metadata": {},
   "outputs": [
    {
     "name": "stdout",
     "output_type": "stream",
     "text": [
      "0.9985317547093187\n"
     ]
    }
   ],
   "source": [
    "#Print our svm score without cross validation\n",
    "print(svm.score(x_train_vectorized, y_train))"
   ]
  },
  {
   "cell_type": "code",
   "execution_count": 117,
   "id": "3dfa44f5-aca5-4123-a695-766fa7401a61",
   "metadata": {},
   "outputs": [],
   "source": [
    "#Establish k = 5\n",
    "kfold = KFold(n_splits=10, random_state=0, shuffle=True)"
   ]
  },
  {
   "cell_type": "code",
   "execution_count": 123,
   "id": "f14df9a3-bae5-4f96-9bb0-8e5fb97d978e",
   "metadata": {},
   "outputs": [
    {
     "name": "stdout",
     "output_type": "stream",
     "text": [
      "SVM cross validation scores with k=10:  [0.79950018 0.80194721 0.80132243 0.80146829 0.80172863]\n",
      "Average score of all folds: 0.8011933482263511\n"
     ]
    }
   ],
   "source": [
    "svm_cv_scores = cross_val_score(svm, x_train_vectorized, y_train, cv=kfold)\n",
    "print(\"SVM cross validation scores with k=10: \", svm_cv_scores)\n",
    "print(\"Average score of all folds:\",svm_cv_scores.mean())"
   ]
  },
  {
   "cell_type": "code",
   "execution_count": 119,
   "id": "167ac950-2a3b-4f1f-b853-8ccffd871215",
   "metadata": {},
   "outputs": [],
   "source": [
    "svm_predict = svm.predict(x_test_vectorized)"
   ]
  },
  {
   "cell_type": "code",
   "execution_count": 112,
   "id": "54b1ebcb-c189-459b-9fec-2960dbaeecf7",
   "metadata": {},
   "outputs": [
    {
     "name": "stdout",
     "output_type": "stream",
     "text": [
      "               precision    recall  f1-score   support\n",
      "\n",
      "above average       0.73      0.45      0.56      3486\n",
      "    benchmark       0.55      0.10      0.17       666\n",
      "         good       0.73      0.82      0.77     17298\n",
      "     superior       0.73      0.72      0.73     12028\n",
      "\n",
      "     accuracy                           0.73     33478\n",
      "    macro avg       0.68      0.52      0.56     33478\n",
      " weighted avg       0.73      0.73      0.72     33478\n",
      "\n"
     ]
    }
   ],
   "source": [
    "print(classification_report(y_test, svm_predict))"
   ]
  },
  {
   "cell_type": "code",
   "execution_count": 113,
   "id": "f90bbfe0-3c11-42eb-908d-86b4656265dc",
   "metadata": {},
   "outputs": [],
   "source": [
    "#Create function to plot our confusion matrix\n",
    "\n",
    "def plot_confusion_matrix_SVM(Y_test, Y_preds):\n",
    "    conf_mat = confusion_matrix(Y_test, Y_preds)\n",
    "    \n",
    "    #print(conf_mat)\n",
    "    fig = plt.figure(figsize=(10,10))\n",
    "    plt.matshow(conf_mat, cmap=plt.cm.Blues, fignum=1)\n",
    "    plt.yticks(range(4), ['above average', 'benchmark', 'good', 'superior'], rotation = 20)\n",
    "    plt.xticks(range(4), ['above average', 'benchmark', 'good', 'superior'], rotation = 20)\n",
    "    plt.title(\"Confusion Matrix for M\")\n",
    "    plt.xlabel(\"Predicted\")\n",
    "    ax.xaxis.set_label_position('top') \n",
    "    plt.ylabel(\"Actual\")\n",
    "\n",
    "    plt.colorbar();\n",
    "    for i in range(4):\n",
    "        for j in range(4):\n",
    "            plt.text(i-0.2,j+0.1, str(conf_mat[j, i]), color='tab:red')"
   ]
  },
  {
   "cell_type": "code",
   "execution_count": 114,
   "id": "b3182104-cc1a-484c-97fd-b472aba1dbcd",
   "metadata": {},
   "outputs": [
    {
     "data": {
      "image/png": "[encoded data removed]",
      "text/plain": [
       "<Figure size 720x720 with 2 Axes>"
      ]
     },
     "metadata": {},
     "output_type": "display_data"
    }
   ],
   "source": [
    "plot_confusion_matrix_SVM(y_test, svm_predict)"
   ]
  },
  {
   "cell_type": "markdown",
   "id": "01066c17-c06f-4970-8ad8-baa1f0a716f2",
   "metadata": {},
   "source": [
    "It looks like we got some pretty meaningful improvement thanks to the rebalancing."
   ]
  },
  {
   "cell_type": "markdown",
   "id": "ae7ec503-c3f3-4c2f-bdf3-c59b7416d70e",
   "metadata": {},
   "source": [
    "### MNNB Take 2"
   ]
  },
  {
   "cell_type": "code",
   "execution_count": null,
   "id": "6e0c24f6-7215-419c-888b-4ed5772720ad",
   "metadata": {},
   "outputs": [],
   "source": [
    "# 5 folds selected\n",
    "\n",
    "nb_model = MultinomialNB() # default params - MultinomialNB(alpha=1.0, class_prior=None, fit_prior=True)\n",
    "nb_model.fit(x_train_vectorized, y_train)\n",
    "nb_scores = cross_val_score(nb_model, x_train_vectorized, y_train, cv=kfold)"
   ]
  },
  {
   "cell_type": "code",
   "execution_count": null,
   "id": "095b0061-e578-4d3f-bfad-c678c27f1710",
   "metadata": {},
   "outputs": [],
   "source": [
    "#Look at the score without cross validation\n",
    "print(nb_model.score(x_train_vectorized, y_train))"
   ]
  },
  {
   "cell_type": "code",
   "execution_count": null,
   "id": "5904a7cb-5ccf-4c91-9288-5007886b80ce",
   "metadata": {},
   "outputs": [],
   "source": [
    "# Output the accuracy. Calculate the mean and std across all folds. \n",
    "print(\"Accuracy: %.3f%% (%.3f%%)\" % (nb_scores.mean()*100.0, nb_scores.std()*100.0))"
   ]
  },
  {
   "cell_type": "code",
   "execution_count": null,
   "id": "3b8621dd-b72c-4e34-9c1d-e4f244e24b74",
   "metadata": {},
   "outputs": [],
   "source": [
    "#Create predictions from mn nb model to feed into classification report\n",
    "mnb_predict = nb_model.predict(x_test_vectorized)"
   ]
  },
  {
   "cell_type": "code",
   "execution_count": null,
   "id": "fb711c3b-9324-45ec-9019-23350620c2b9",
   "metadata": {},
   "outputs": [],
   "source": [
    "#Print classification report\n",
    "print(classification_report(y_test, mnb_predict))"
   ]
  },
  {
   "cell_type": "code",
   "execution_count": null,
   "id": "f0a39cea-411b-4499-8310-f4192a5d8b40",
   "metadata": {},
   "outputs": [],
   "source": [
    "#Let's take a look at the contingency table for our NB model\n",
    "y_predicted = nb_model.predict(x_test_vectorized)\n",
    "ypred = pd.crosstab(y_test, y_predicted, rownames = ['Actual'], colnames = ['Predicted'])\n",
    "ypred['Total'] = ypred.sum(axis=1) \n",
    "ypred.loc['Total'] = ypred.sum()\n",
    "ypred"
   ]
  },
  {
   "cell_type": "code",
   "execution_count": null,
   "id": "0b08ea3e-4bab-4ab9-8a04-682c9d605733",
   "metadata": {},
   "outputs": [],
   "source": [
    "#Create function to plot our confusion matrix\n",
    "\n",
    "def plot_confusion_matrix(Y_test, Y_preds):\n",
    "    conf_mat = confusion_matrix(Y_test, Y_preds)\n",
    "    \n",
    "    #print(conf_mat)\n",
    "    fig = plt.figure(figsize=(10,10))\n",
    "    plt.matshow(conf_mat, cmap=plt.cm.Blues, fignum=1)\n",
    "    plt.yticks(range(4), ['above average', 'benchmark', 'good', 'superior'], rotation = 20)\n",
    "    plt.xticks(range(4), ['above average', 'benchmark', 'good', 'superior'], rotation = 20)\n",
    "    plt.title(\"Confusion Matrix for Multinomial Naive Bayes Model\")\n",
    "    plt.xlabel(\"Predicted\")\n",
    "    ax.xaxis.set_label_position('top') \n",
    "    plt.ylabel(\"Actual\")\n",
    "\n",
    "    plt.colorbar();\n",
    "    for i in range(4):\n",
    "        for j in range(4):\n",
    "            plt.text(i-0.2,j+0.1, str(conf_mat[j, i]), color='tab:red')\n"
   ]
  },
  {
   "cell_type": "code",
   "execution_count": null,
   "id": "7097c006-b590-49e2-85bd-a5e18735c664",
   "metadata": {},
   "outputs": [],
   "source": [
    "plot_confusion_matrix(y_test, nb_model.predict(x_test_vectorized))"
   ]
  },
  {
   "cell_type": "markdown",
   "id": "56ee2a46-606f-446c-9a28-eedaf1cc4c95",
   "metadata": {},
   "source": [
    "### Tree Modeling"
   ]
  },
  {
   "cell_type": "code",
   "execution_count": null,
   "id": "a6f17f1c-3682-4f73-8bf4-1860eaf47a3c",
   "metadata": {},
   "outputs": [],
   "source": [
    "#Create cart model using max 15 nodes\n",
    "cart01 = DecisionTreeClassifier(criterion = \"gini\", max_leaf_nodes=15).fit(x_test_vectorized,y_test)\n"
   ]
  },
  {
   "cell_type": "code",
   "execution_count": null,
   "id": "0f524733-4f54-4550-9992-1d6445031697",
   "metadata": {},
   "outputs": [],
   "source": [
    "#Create our c50 model using max 15 nodes\n",
    "c50_01 = DecisionTreeClassifier(criterion=\"entropy\",max_leaf_nodes=15).fit(x_test_vectorized,y_test)"
   ]
  },
  {
   "cell_type": "code",
   "execution_count": null,
   "id": "9de95aa8-7ff8-4084-89e9-3915dc5503b3",
   "metadata": {},
   "outputs": [],
   "source": [
    "#Create our random forest model using max estimators 100\n",
    "rf01 = RandomForestClassifier(n_estimators = 100,criterion=\"gini\").fit(x_test_vectorized,y_test)"
   ]
  },
  {
   "cell_type": "code",
   "execution_count": null,
   "id": "352923d6-1d4f-4e4b-b11f-686a57e67932",
   "metadata": {},
   "outputs": [],
   "source": [
    "print(\"Training scores:\")\n",
    "print(\"CART: \", cart01.score(x_train_vectorized,y_train))\n",
    "print('C5.0 ', c50_01.score(x_train_vectorized,y_train))\n",
    "print('Random Forest ', rf01.score(x_train_vectorized,y_train))\n",
    "print(\"----------------\")\n",
    "print(\"Test scores:\")\n",
    "print(\"CART: \", cart01.score(x_test_vectorized,y_test))\n",
    "print('C5.0 ', c50_01.score(x_test_vectorized,y_test))\n",
    "print('Random Forest ', rf01.score(x_test_vectorized,y_test))"
   ]
  },
  {
   "cell_type": "code",
   "execution_count": null,
   "id": "819b4b8e-8d69-44e0-b22b-88ad29801c74",
   "metadata": {},
   "outputs": [],
   "source": [
    "cart_cv_scores = cross_val_score(cart01, x_train_vectorized, y_train, cv=kfold)\n",
    "c50_cv_scores = cross_val_score(c50_01, x_train_vectorized, y_train, cv = kfold)"
   ]
  },
  {
   "cell_type": "code",
   "execution_count": null,
   "id": "1363a0ff-468c-4a04-add7-c7cf73ac64f0",
   "metadata": {},
   "outputs": [],
   "source": [
    "#Create predictions for classification report\n",
    "y_pred_test_cart = cart01.predict(x_test_vectorized)\n",
    "y_pred_test_c50 = c50_01.predict(x_test_vectorized)"
   ]
  },
  {
   "cell_type": "code",
   "execution_count": null,
   "id": "5fe9eb2f-e343-4a66-9e2e-a3cbad015d58",
   "metadata": {},
   "outputs": [],
   "source": [
    "print(\"Cart cross validation scores with k=10: \", cart_cv_scores)\n",
    "print(\"Average score of all folds:\",cart_cv_scores.mean())\n",
    "print(\"Cart C50 validation scores with k=10: \", c50_cv_scores)\n",
    "print(\"Average score of all folds:\",c50_cv_scores.mean())"
   ]
  },
  {
   "cell_type": "code",
   "execution_count": null,
   "id": "335b4dba-2cdd-47ec-a1b5-6640ab46b74f",
   "metadata": {},
   "outputs": [],
   "source": [
    "print(\"CART Classification Report\\n\", classification_report(y_test, y_pred_test_cart, zero_division = 0))"
   ]
  },
  {
   "cell_type": "code",
   "execution_count": null,
   "id": "8438f046-2eff-4e68-83ad-05112af40539",
   "metadata": {},
   "outputs": [],
   "source": [
    "print(\"C50 Classification Report\\n\", classification_report(y_test, y_pred_test_c50, zero_division = 0))"
   ]
  },
  {
   "cell_type": "code",
   "execution_count": null,
   "id": "ed360b43-1f92-46e2-9853-843afbeecd42",
   "metadata": {},
   "outputs": [],
   "source": []
  }
 ],
 "metadata": {
  "kernelspec": {
   "display_name": "Python 3",
   "language": "python",
   "name": "python3"
  },
  "language_info": {
   "codemirror_mode": {
    "name": "ipython",
    "version": 3
   },
   "file_extension": ".py",
   "mimetype": "text/x-python",
   "name": "python",
   "nbconvert_exporter": "python",
   "pygments_lexer": "ipython3",
   "version": "3.8.8"
  }
 },
 "nbformat": 4,
 "nbformat_minor": 5
}
