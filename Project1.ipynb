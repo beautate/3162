{
 "cells": [
  {
   "cell_type": "code",
   "execution_count": 1,
   "id": "4ba1ffec-67dd-478a-b812-b17370a369d1",
   "metadata": {},
   "outputs": [
    {
     "name": "stdout",
     "output_type": "stream",
     "text": [
      "Setup complete\n"
     ]
    }
   ],
   "source": [
    "#Import necessary packages to work with data\n",
    "import pandas as pd\n",
    "import numpy as np\n",
    "import seaborn as sns\n",
    "pd.plotting.register_matplotlib_converters()\n",
    "from matplotlib import pyplot as plt\n",
    "%matplotlib inline\n",
    "import random\n",
    "from datetime import datetime\n",
    "#import geopandas\n",
    "print(\"Setup complete\")"
   ]
  },
  {
   "cell_type": "code",
   "execution_count": 2,
   "id": "670350c5-4a2d-4f85-a290-e6036a3e0c84",
   "metadata": {},
   "outputs": [],
   "source": [
    "df = pd.read_csv('150kplus.csv')"
   ]
  },
  {
   "cell_type": "code",
   "execution_count": 3,
   "id": "f27c02f8-1eef-4b8f-b0a9-1be22bb888f7",
   "metadata": {},
   "outputs": [
    {
     "data": {
      "text/html": [
       "<div>\n",
       "<style scoped>\n",
       "    .dataframe tbody tr th:only-of-type {\n",
       "        vertical-align: middle;\n",
       "    }\n",
       "\n",
       "    .dataframe tbody tr th {\n",
       "        vertical-align: top;\n",
       "    }\n",
       "\n",
       "    .dataframe thead th {\n",
       "        text-align: right;\n",
       "    }\n",
       "</style>\n",
       "<table border=\"1\" class=\"dataframe\">\n",
       "  <thead>\n",
       "    <tr style=\"text-align: right;\">\n",
       "      <th></th>\n",
       "      <th>LoanNumber</th>\n",
       "      <th>DateApproved</th>\n",
       "      <th>SBAOfficeCode</th>\n",
       "      <th>ProcessingMethod</th>\n",
       "      <th>BorrowerName</th>\n",
       "      <th>BorrowerAddress</th>\n",
       "      <th>BorrowerCity</th>\n",
       "      <th>BorrowerState</th>\n",
       "      <th>BorrowerZip</th>\n",
       "      <th>LoanStatusDate</th>\n",
       "      <th>...</th>\n",
       "      <th>BusinessType</th>\n",
       "      <th>OriginatingLenderLocationID</th>\n",
       "      <th>OriginatingLender</th>\n",
       "      <th>OriginatingLenderCity</th>\n",
       "      <th>OriginatingLenderState</th>\n",
       "      <th>Gender</th>\n",
       "      <th>Veteran</th>\n",
       "      <th>NonProfit</th>\n",
       "      <th>ForgivenessAmount</th>\n",
       "      <th>ForgivenessDate</th>\n",
       "    </tr>\n",
       "  </thead>\n",
       "  <tbody>\n",
       "    <tr>\n",
       "      <th>0</th>\n",
       "      <td>9547507704</td>\n",
       "      <td>05/01/2020</td>\n",
       "      <td>464</td>\n",
       "      <td>PPP</td>\n",
       "      <td>SUMTER COATINGS, INC.</td>\n",
       "      <td>2410 Highway 15 South</td>\n",
       "      <td>Sumter</td>\n",
       "      <td>NaN</td>\n",
       "      <td>29150-9662</td>\n",
       "      <td>12/18/2020</td>\n",
       "      <td>...</td>\n",
       "      <td>Corporation</td>\n",
       "      <td>19248</td>\n",
       "      <td>Synovus Bank</td>\n",
       "      <td>COLUMBUS</td>\n",
       "      <td>GA</td>\n",
       "      <td>Unanswered</td>\n",
       "      <td>Unanswered</td>\n",
       "      <td>NaN</td>\n",
       "      <td>773553.37</td>\n",
       "      <td>11/20/2020</td>\n",
       "    </tr>\n",
       "    <tr>\n",
       "      <th>1</th>\n",
       "      <td>9777677704</td>\n",
       "      <td>05/01/2020</td>\n",
       "      <td>464</td>\n",
       "      <td>PPP</td>\n",
       "      <td>PLEASANT PLACES, INC.</td>\n",
       "      <td>7684 Southrail Road</td>\n",
       "      <td>North Charleston</td>\n",
       "      <td>NaN</td>\n",
       "      <td>29420-9000</td>\n",
       "      <td>09/28/2021</td>\n",
       "      <td>...</td>\n",
       "      <td>Sole Proprietorship</td>\n",
       "      <td>19248</td>\n",
       "      <td>Synovus Bank</td>\n",
       "      <td>COLUMBUS</td>\n",
       "      <td>GA</td>\n",
       "      <td>Unanswered</td>\n",
       "      <td>Unanswered</td>\n",
       "      <td>NaN</td>\n",
       "      <td>746336.24</td>\n",
       "      <td>08/12/2021</td>\n",
       "    </tr>\n",
       "    <tr>\n",
       "      <th>2</th>\n",
       "      <td>5791407702</td>\n",
       "      <td>05/01/2020</td>\n",
       "      <td>1013</td>\n",
       "      <td>PPP</td>\n",
       "      <td>BOYER CHILDREN'S CLINIC</td>\n",
       "      <td>1850 BOYER AVE E</td>\n",
       "      <td>SEATTLE</td>\n",
       "      <td>NaN</td>\n",
       "      <td>98112-2922</td>\n",
       "      <td>03/17/2021</td>\n",
       "      <td>...</td>\n",
       "      <td>Non-Profit Organization</td>\n",
       "      <td>9551</td>\n",
       "      <td>Bank of America, National Association</td>\n",
       "      <td>CHARLOTTE</td>\n",
       "      <td>NC</td>\n",
       "      <td>Unanswered</td>\n",
       "      <td>Unanswered</td>\n",
       "      <td>Y</td>\n",
       "      <td>696677.49</td>\n",
       "      <td>02/10/2021</td>\n",
       "    </tr>\n",
       "    <tr>\n",
       "      <th>3</th>\n",
       "      <td>6223567700</td>\n",
       "      <td>05/01/2020</td>\n",
       "      <td>920</td>\n",
       "      <td>PPP</td>\n",
       "      <td>KIRTLEY CONSTRUCTION INC</td>\n",
       "      <td>1661 MARTIN RANCH RD</td>\n",
       "      <td>SAN BERNARDINO</td>\n",
       "      <td>NaN</td>\n",
       "      <td>92407-1740</td>\n",
       "      <td>10/16/2021</td>\n",
       "      <td>...</td>\n",
       "      <td>Corporation</td>\n",
       "      <td>9551</td>\n",
       "      <td>Bank of America, National Association</td>\n",
       "      <td>CHARLOTTE</td>\n",
       "      <td>NC</td>\n",
       "      <td>Unanswered</td>\n",
       "      <td>Unanswered</td>\n",
       "      <td>NaN</td>\n",
       "      <td>395264.11</td>\n",
       "      <td>09/10/2021</td>\n",
       "    </tr>\n",
       "    <tr>\n",
       "      <th>4</th>\n",
       "      <td>9662437702</td>\n",
       "      <td>05/01/2020</td>\n",
       "      <td>101</td>\n",
       "      <td>PPP</td>\n",
       "      <td>AERO BOX LLC</td>\n",
       "      <td>NaN</td>\n",
       "      <td>NaN</td>\n",
       "      <td>NaN</td>\n",
       "      <td>NaN</td>\n",
       "      <td>08/17/2021</td>\n",
       "      <td>...</td>\n",
       "      <td>NaN</td>\n",
       "      <td>57328</td>\n",
       "      <td>The Huntington National Bank</td>\n",
       "      <td>COLUMBUS</td>\n",
       "      <td>OH</td>\n",
       "      <td>Unanswered</td>\n",
       "      <td>Unanswered</td>\n",
       "      <td>NaN</td>\n",
       "      <td>370819.35</td>\n",
       "      <td>04/08/2021</td>\n",
       "    </tr>\n",
       "  </tbody>\n",
       "</table>\n",
       "<p>5 rows × 53 columns</p>\n",
       "</div>"
      ],
      "text/plain": [
       "   LoanNumber DateApproved  SBAOfficeCode ProcessingMethod  \\\n",
       "0  9547507704   05/01/2020            464              PPP   \n",
       "1  9777677704   05/01/2020            464              PPP   \n",
       "2  5791407702   05/01/2020           1013              PPP   \n",
       "3  6223567700   05/01/2020            920              PPP   \n",
       "4  9662437702   05/01/2020            101              PPP   \n",
       "\n",
       "               BorrowerName        BorrowerAddress      BorrowerCity  \\\n",
       "0     SUMTER COATINGS, INC.  2410 Highway 15 South            Sumter   \n",
       "1     PLEASANT PLACES, INC.    7684 Southrail Road  North Charleston   \n",
       "2   BOYER CHILDREN'S CLINIC       1850 BOYER AVE E           SEATTLE   \n",
       "3  KIRTLEY CONSTRUCTION INC   1661 MARTIN RANCH RD    SAN BERNARDINO   \n",
       "4              AERO BOX LLC                    NaN               NaN   \n",
       "\n",
       "  BorrowerState BorrowerZip LoanStatusDate  ...             BusinessType  \\\n",
       "0           NaN  29150-9662     12/18/2020  ...              Corporation   \n",
       "1           NaN  29420-9000     09/28/2021  ...      Sole Proprietorship   \n",
       "2           NaN  98112-2922     03/17/2021  ...  Non-Profit Organization   \n",
       "3           NaN  92407-1740     10/16/2021  ...              Corporation   \n",
       "4           NaN         NaN     08/17/2021  ...                      NaN   \n",
       "\n",
       "   OriginatingLenderLocationID                      OriginatingLender  \\\n",
       "0                        19248                           Synovus Bank   \n",
       "1                        19248                           Synovus Bank   \n",
       "2                         9551  Bank of America, National Association   \n",
       "3                         9551  Bank of America, National Association   \n",
       "4                        57328           The Huntington National Bank   \n",
       "\n",
       "   OriginatingLenderCity  OriginatingLenderState      Gender     Veteran  \\\n",
       "0               COLUMBUS                      GA  Unanswered  Unanswered   \n",
       "1               COLUMBUS                      GA  Unanswered  Unanswered   \n",
       "2              CHARLOTTE                      NC  Unanswered  Unanswered   \n",
       "3              CHARLOTTE                      NC  Unanswered  Unanswered   \n",
       "4               COLUMBUS                      OH  Unanswered  Unanswered   \n",
       "\n",
       "   NonProfit ForgivenessAmount ForgivenessDate  \n",
       "0        NaN         773553.37      11/20/2020  \n",
       "1        NaN         746336.24      08/12/2021  \n",
       "2          Y         696677.49      02/10/2021  \n",
       "3        NaN         395264.11      09/10/2021  \n",
       "4        NaN         370819.35      04/08/2021  \n",
       "\n",
       "[5 rows x 53 columns]"
      ]
     },
     "execution_count": 3,
     "metadata": {},
     "output_type": "execute_result"
    }
   ],
   "source": [
    "df.head()"
   ]
  },
  {
   "cell_type": "code",
   "execution_count": 4,
   "id": "6da6e3fc-2526-4da5-93aa-2e737141f9c4",
   "metadata": {},
   "outputs": [
    {
     "data": {
      "text/plain": [
       "(968538, 53)"
      ]
     },
     "execution_count": 4,
     "metadata": {},
     "output_type": "execute_result"
    }
   ],
   "source": [
    "df.shape"
   ]
  },
  {
   "cell_type": "code",
   "execution_count": 5,
   "id": "1962dcd4-1dd0-4a4e-8097-2d3284c909bb",
   "metadata": {},
   "outputs": [],
   "source": [
    "#Append column to keep track of which observations originally belonged to the >$150k data set\n",
    "df['150k+'] = True"
   ]
  },
  {
   "cell_type": "code",
   "execution_count": 6,
   "id": "1c0a386c-f462-434c-891f-82b0dd667831",
   "metadata": {},
   "outputs": [],
   "source": [
    "#Read in data for loans smaller than $150k\n",
    "df1 = pd.read_csv('sub150k.csv')"
   ]
  },
  {
   "cell_type": "code",
   "execution_count": 7,
   "id": "e9d4f8c8-7e53-4fbd-8dc7-a0861cfd84c6",
   "metadata": {},
   "outputs": [],
   "source": [
    "#Set a flag indicating that these are originally from the <$150k data set\n",
    "df1['150k+'] = False"
   ]
  },
  {
   "cell_type": "code",
   "execution_count": 8,
   "id": "22a835b5-2280-4638-a059-f4d2d911ee40",
   "metadata": {},
   "outputs": [
    {
     "data": {
      "text/html": [
       "<div>\n",
       "<style scoped>\n",
       "    .dataframe tbody tr th:only-of-type {\n",
       "        vertical-align: middle;\n",
       "    }\n",
       "\n",
       "    .dataframe tbody tr th {\n",
       "        vertical-align: top;\n",
       "    }\n",
       "\n",
       "    .dataframe thead th {\n",
       "        text-align: right;\n",
       "    }\n",
       "</style>\n",
       "<table border=\"1\" class=\"dataframe\">\n",
       "  <thead>\n",
       "    <tr style=\"text-align: right;\">\n",
       "      <th></th>\n",
       "      <th>LoanNumber</th>\n",
       "      <th>DateApproved</th>\n",
       "      <th>SBAOfficeCode</th>\n",
       "      <th>ProcessingMethod</th>\n",
       "      <th>BorrowerName</th>\n",
       "      <th>BorrowerAddress</th>\n",
       "      <th>BorrowerCity</th>\n",
       "      <th>BorrowerState</th>\n",
       "      <th>BorrowerZip</th>\n",
       "      <th>LoanStatusDate</th>\n",
       "      <th>...</th>\n",
       "      <th>OriginatingLenderLocationID</th>\n",
       "      <th>OriginatingLender</th>\n",
       "      <th>OriginatingLenderCity</th>\n",
       "      <th>OriginatingLenderState</th>\n",
       "      <th>Gender</th>\n",
       "      <th>Veteran</th>\n",
       "      <th>NonProfit</th>\n",
       "      <th>ForgivenessAmount</th>\n",
       "      <th>ForgivenessDate</th>\n",
       "      <th>150k+</th>\n",
       "    </tr>\n",
       "  </thead>\n",
       "  <tbody>\n",
       "    <tr>\n",
       "      <th>0</th>\n",
       "      <td>3509338307</td>\n",
       "      <td>01/22/2021</td>\n",
       "      <td>NaN</td>\n",
       "      <td>PPS</td>\n",
       "      <td>Exemption 6</td>\n",
       "      <td>NaN</td>\n",
       "      <td>NaN</td>\n",
       "      <td>NaN</td>\n",
       "      <td>NaN</td>\n",
       "      <td>NaN</td>\n",
       "      <td>...</td>\n",
       "      <td>NaN</td>\n",
       "      <td>NaN</td>\n",
       "      <td>NaN</td>\n",
       "      <td>NaN</td>\n",
       "      <td>Unanswered</td>\n",
       "      <td>Unanswered</td>\n",
       "      <td>Y</td>\n",
       "      <td>NaN</td>\n",
       "      <td>NaN</td>\n",
       "      <td>False</td>\n",
       "    </tr>\n",
       "    <tr>\n",
       "      <th>1</th>\n",
       "      <td>5375617707</td>\n",
       "      <td>05/01/2020</td>\n",
       "      <td>101.0</td>\n",
       "      <td>PPP</td>\n",
       "      <td>NOT AVAILABLE</td>\n",
       "      <td>NaN</td>\n",
       "      <td>NaN</td>\n",
       "      <td>NaN</td>\n",
       "      <td>NaN</td>\n",
       "      <td>07/16/2021</td>\n",
       "      <td>...</td>\n",
       "      <td>9551.0</td>\n",
       "      <td>Bank of America, National Association</td>\n",
       "      <td>CHARLOTTE</td>\n",
       "      <td>NC</td>\n",
       "      <td>Unanswered</td>\n",
       "      <td>Unanswered</td>\n",
       "      <td>NaN</td>\n",
       "      <td>150083.01</td>\n",
       "      <td>06/11/2021</td>\n",
       "      <td>False</td>\n",
       "    </tr>\n",
       "    <tr>\n",
       "      <th>2</th>\n",
       "      <td>9677497701</td>\n",
       "      <td>05/01/2020</td>\n",
       "      <td>464.0</td>\n",
       "      <td>PPP</td>\n",
       "      <td>NORTH CHARLESTON HOSPITALITY GROUP LLC</td>\n",
       "      <td>192 College Park Rd</td>\n",
       "      <td>Ladson</td>\n",
       "      <td>NaN</td>\n",
       "      <td>29456-3517</td>\n",
       "      <td>09/25/2021</td>\n",
       "      <td>...</td>\n",
       "      <td>19248.0</td>\n",
       "      <td>Synovus Bank</td>\n",
       "      <td>COLUMBUS</td>\n",
       "      <td>GA</td>\n",
       "      <td>Unanswered</td>\n",
       "      <td>Unanswered</td>\n",
       "      <td>NaN</td>\n",
       "      <td>141920.11</td>\n",
       "      <td>08/25/2021</td>\n",
       "      <td>False</td>\n",
       "    </tr>\n",
       "    <tr>\n",
       "      <th>3</th>\n",
       "      <td>9547167709</td>\n",
       "      <td>05/01/2020</td>\n",
       "      <td>464.0</td>\n",
       "      <td>PPP</td>\n",
       "      <td>Q AND J SERVICES LLC</td>\n",
       "      <td>301 Old Georgetown Road</td>\n",
       "      <td>Manning</td>\n",
       "      <td>NaN</td>\n",
       "      <td>29102-2734</td>\n",
       "      <td>04/20/2021</td>\n",
       "      <td>...</td>\n",
       "      <td>19248.0</td>\n",
       "      <td>Synovus Bank</td>\n",
       "      <td>COLUMBUS</td>\n",
       "      <td>GA</td>\n",
       "      <td>Unanswered</td>\n",
       "      <td>Unanswered</td>\n",
       "      <td>NaN</td>\n",
       "      <td>137747.78</td>\n",
       "      <td>03/29/2021</td>\n",
       "      <td>False</td>\n",
       "    </tr>\n",
       "    <tr>\n",
       "      <th>4</th>\n",
       "      <td>8885207205</td>\n",
       "      <td>04/28/2020</td>\n",
       "      <td>NaN</td>\n",
       "      <td>PPP</td>\n",
       "      <td>Exemption 6</td>\n",
       "      <td>NaN</td>\n",
       "      <td>NaN</td>\n",
       "      <td>NaN</td>\n",
       "      <td>NaN</td>\n",
       "      <td>05/20/2021</td>\n",
       "      <td>...</td>\n",
       "      <td>NaN</td>\n",
       "      <td>NaN</td>\n",
       "      <td>NaN</td>\n",
       "      <td>NaN</td>\n",
       "      <td>Unanswered</td>\n",
       "      <td>Unanswered</td>\n",
       "      <td>Y</td>\n",
       "      <td>131876.98</td>\n",
       "      <td>04/27/2021</td>\n",
       "      <td>False</td>\n",
       "    </tr>\n",
       "  </tbody>\n",
       "</table>\n",
       "<p>5 rows × 54 columns</p>\n",
       "</div>"
      ],
      "text/plain": [
       "   LoanNumber DateApproved  SBAOfficeCode ProcessingMethod  \\\n",
       "0  3509338307   01/22/2021            NaN              PPS   \n",
       "1  5375617707   05/01/2020          101.0              PPP   \n",
       "2  9677497701   05/01/2020          464.0              PPP   \n",
       "3  9547167709   05/01/2020          464.0              PPP   \n",
       "4  8885207205   04/28/2020            NaN              PPP   \n",
       "\n",
       "                             BorrowerName          BorrowerAddress  \\\n",
       "0                             Exemption 6                      NaN   \n",
       "1                           NOT AVAILABLE                      NaN   \n",
       "2  NORTH CHARLESTON HOSPITALITY GROUP LLC      192 College Park Rd   \n",
       "3                    Q AND J SERVICES LLC  301 Old Georgetown Road   \n",
       "4                             Exemption 6                      NaN   \n",
       "\n",
       "  BorrowerCity BorrowerState BorrowerZip LoanStatusDate  ...  \\\n",
       "0          NaN           NaN         NaN            NaN  ...   \n",
       "1          NaN           NaN         NaN     07/16/2021  ...   \n",
       "2       Ladson           NaN  29456-3517     09/25/2021  ...   \n",
       "3      Manning           NaN  29102-2734     04/20/2021  ...   \n",
       "4          NaN           NaN         NaN     05/20/2021  ...   \n",
       "\n",
       "  OriginatingLenderLocationID                      OriginatingLender  \\\n",
       "0                         NaN                                    NaN   \n",
       "1                      9551.0  Bank of America, National Association   \n",
       "2                     19248.0                           Synovus Bank   \n",
       "3                     19248.0                           Synovus Bank   \n",
       "4                         NaN                                    NaN   \n",
       "\n",
       "   OriginatingLenderCity  OriginatingLenderState      Gender     Veteran  \\\n",
       "0                    NaN                     NaN  Unanswered  Unanswered   \n",
       "1              CHARLOTTE                      NC  Unanswered  Unanswered   \n",
       "2               COLUMBUS                      GA  Unanswered  Unanswered   \n",
       "3               COLUMBUS                      GA  Unanswered  Unanswered   \n",
       "4                    NaN                     NaN  Unanswered  Unanswered   \n",
       "\n",
       "  NonProfit  ForgivenessAmount ForgivenessDate  150k+  \n",
       "0         Y                NaN             NaN  False  \n",
       "1       NaN          150083.01      06/11/2021  False  \n",
       "2       NaN          141920.11      08/25/2021  False  \n",
       "3       NaN          137747.78      03/29/2021  False  \n",
       "4         Y          131876.98      04/27/2021  False  \n",
       "\n",
       "[5 rows x 54 columns]"
      ]
     },
     "execution_count": 8,
     "metadata": {},
     "output_type": "execute_result"
    }
   ],
   "source": [
    "df1.head()"
   ]
  },
  {
   "cell_type": "code",
   "execution_count": 9,
   "id": "cd266ab8-694f-4d55-b799-9762e0cfd1db",
   "metadata": {},
   "outputs": [
    {
     "data": {
      "text/plain": [
       "(900000, 54)"
      ]
     },
     "execution_count": 9,
     "metadata": {},
     "output_type": "execute_result"
    }
   ],
   "source": [
    "df1.shape"
   ]
  },
  {
   "cell_type": "markdown",
   "id": "83f525c1-fd48-4517-87e0-873f8e3f002a",
   "metadata": {},
   "source": [
    "<font size = 3> Now that we've checked that the data have the same shape and added a column tracking their origin, we can merge them into one set </font>"
   ]
  },
  {
   "cell_type": "code",
   "execution_count": 10,
   "id": "94f389ff-aa08-427e-a9ca-571445f53c6d",
   "metadata": {},
   "outputs": [],
   "source": [
    "#Merge the two data frames together. Ignore index so that we don't get an error and veryify that there are no duplicate observations\n",
    "df = pd.concat([df, df1], ignore_index = True, verify_integrity = True, sort = False)"
   ]
  },
  {
   "cell_type": "code",
   "execution_count": 11,
   "id": "98d567a9-7230-42e3-872f-6484cda9ffe7",
   "metadata": {},
   "outputs": [],
   "source": [
    "#Sample 100,000 observations to make operations less resource consuming\n",
    "df = df.sample(100000, random_state = 2422)"
   ]
  },
  {
   "cell_type": "code",
   "execution_count": 12,
   "id": "7756e6e1-933d-4c2d-87f0-b76a28deb83b",
   "metadata": {},
   "outputs": [
    {
     "data": {
      "text/plain": [
       "True     51818\n",
       "False    48182\n",
       "Name: 150k+, dtype: int64"
      ]
     },
     "execution_count": 12,
     "metadata": {},
     "output_type": "execute_result"
    }
   ],
   "source": [
    "df['150k+'].value_counts()"
   ]
  },
  {
   "cell_type": "code",
   "execution_count": 13,
   "id": "4e30d853-6892-4a29-8d8b-1af258992d80",
   "metadata": {},
   "outputs": [],
   "source": [
    "#Save data frame to a csv\n",
    "df.to_csv('/Users/johntate/Desktop/ITCS 3162/Project 1/Original Datasets/sampled_df.csv', index = False)"
   ]
  },
  {
   "cell_type": "code",
   "execution_count": 14,
   "id": "de453b98-a881-4d8b-a3e4-9d96261ad677",
   "metadata": {},
   "outputs": [
    {
     "data": {
      "text/plain": [
       "Index(['LoanNumber', 'DateApproved', 'SBAOfficeCode', 'ProcessingMethod',\n",
       "       'BorrowerName', 'BorrowerAddress', 'BorrowerCity', 'BorrowerState',\n",
       "       'BorrowerZip', 'LoanStatusDate', 'LoanStatus', 'Term',\n",
       "       'SBAGuarantyPercentage', 'InitialApprovalAmount',\n",
       "       'CurrentApprovalAmount', 'UndisbursedAmount', 'FranchiseName',\n",
       "       'ServicingLenderLocationID', 'ServicingLenderName',\n",
       "       'ServicingLenderAddress', 'ServicingLenderCity', 'ServicingLenderState',\n",
       "       'ServicingLenderZip', 'RuralUrbanIndicator', 'HubzoneIndicator',\n",
       "       'LMIIndicator', 'BusinessAgeDescription', 'ProjectCity',\n",
       "       'ProjectCountyName', 'ProjectState', 'ProjectZip', 'CD', 'JobsReported',\n",
       "       'NAICSCode', 'Race', 'Ethnicity', 'UTILITIES_PROCEED',\n",
       "       'PAYROLL_PROCEED', 'MORTGAGE_INTEREST_PROCEED', 'RENT_PROCEED',\n",
       "       'REFINANCE_EIDL_PROCEED', 'HEALTH_CARE_PROCEED',\n",
       "       'DEBT_INTEREST_PROCEED', 'BusinessType', 'OriginatingLenderLocationID',\n",
       "       'OriginatingLender', 'OriginatingLenderCity', 'OriginatingLenderState',\n",
       "       'Gender', 'Veteran', 'NonProfit', 'ForgivenessAmount',\n",
       "       'ForgivenessDate', '150k+'],\n",
       "      dtype='object')"
      ]
     },
     "execution_count": 14,
     "metadata": {},
     "output_type": "execute_result"
    }
   ],
   "source": [
    "df.columns"
   ]
  },
  {
   "cell_type": "markdown",
   "id": "6b1f1bfb-957a-4a0a-b550-9bac0828452b",
   "metadata": {},
   "source": [
    "Now that our data set is fully formed, it's time to look at which features might be useful in better understanding the data set. Colums of interest include:"
   ]
  },
  {
   "cell_type": "code",
   "execution_count": 15,
   "id": "f1f07ea6-3dac-42c0-8800-2ece41131ca5",
   "metadata": {},
   "outputs": [],
   "source": [
    "#List of columns used\n",
    "use_columns = ['DateApproved', 'InitialApprovalAmount', 'BorrowerName', 'BorrowerState', \n",
    "               'LoanStatus', 'FranchiseName',\n",
    "               'ServicingLenderName', 'RuralUrbanIndicator', 'HubzoneIndicator', 'BusinessAgeDescription', 'JobsReported', \n",
    "               'NAICSCode', 'Race', 'Ethnicity', 'UTILITIES_PROCEED', 'PAYROLL_PROCEED', 'MORTGAGE_INTEREST_PROCEED', 'RENT_PROCEED',\n",
    "               'REFINANCE_EIDL_PROCEED', 'HEALTH_CARE_PROCEED', 'Gender', 'Veteran', 'NonProfit', 'ForgivenessAmount', '150k+', 'ForgivenessDate'\n",
    "              ]"
   ]
  },
  {
   "cell_type": "code",
   "execution_count": 16,
   "id": "497653d8-e16e-4ed6-802b-cb54e7ad6b0a",
   "metadata": {},
   "outputs": [
    {
     "name": "stdout",
     "output_type": "stream",
     "text": [
      "DateApproved :  object\n",
      "InitialApprovalAmount :  float64\n",
      "BorrowerName :  object\n",
      "BorrowerState :  object\n",
      "LoanStatus :  object\n",
      "FranchiseName :  object\n",
      "ServicingLenderName :  object\n",
      "RuralUrbanIndicator :  object\n",
      "HubzoneIndicator :  object\n",
      "BusinessAgeDescription :  object\n",
      "JobsReported :  float64\n",
      "NAICSCode :  float64\n",
      "Race :  object\n",
      "Ethnicity :  object\n",
      "UTILITIES_PROCEED :  float64\n",
      "PAYROLL_PROCEED :  float64\n",
      "MORTGAGE_INTEREST_PROCEED :  float64\n",
      "RENT_PROCEED :  float64\n",
      "REFINANCE_EIDL_PROCEED :  float64\n",
      "HEALTH_CARE_PROCEED :  float64\n",
      "Gender :  object\n",
      "Veteran :  object\n",
      "NonProfit :  object\n",
      "ForgivenessAmount :  float64\n",
      "150k+ :  bool\n",
      "ForgivenessDate :  object\n"
     ]
    }
   ],
   "source": [
    "#Print out all column names and their data type for reference\n",
    "for col in use_columns:\n",
    "    print(col, \": \", df[col].dtype)"
   ]
  },
  {
   "cell_type": "code",
   "execution_count": 17,
   "id": "ace25ef5-73cf-4595-a63e-ee3f98dd202c",
   "metadata": {},
   "outputs": [],
   "source": [
    "#Subset the data frame with our columns to be used\n",
    "df = df[use_columns]"
   ]
  },
  {
   "cell_type": "code",
   "execution_count": 18,
   "id": "ebe6cbf2-5bf5-41d7-be6f-f09a858c974a",
   "metadata": {},
   "outputs": [
    {
     "data": {
      "text/plain": [
       "(100000, 26)"
      ]
     },
     "execution_count": 18,
     "metadata": {},
     "output_type": "execute_result"
    }
   ],
   "source": [
    "#Check shape of new DF to ensure that columns have been carried  over\n",
    "df.shape"
   ]
  },
  {
   "cell_type": "code",
   "execution_count": 19,
   "id": "389192c0-2d8c-4b36-8072-ad1b4d082f42",
   "metadata": {},
   "outputs": [
    {
     "data": {
      "text/plain": [
       "DateApproved                     0\n",
       "InitialApprovalAmount            0\n",
       "BorrowerName                     0\n",
       "BorrowerState                    6\n",
       "LoanStatus                       0\n",
       "FranchiseName                97366\n",
       "ServicingLenderName              2\n",
       "RuralUrbanIndicator              0\n",
       "HubzoneIndicator                 0\n",
       "BusinessAgeDescription           0\n",
       "JobsReported                     0\n",
       "NAICSCode                     1111\n",
       "Race                             0\n",
       "Ethnicity                        0\n",
       "UTILITIES_PROCEED            67213\n",
       "PAYROLL_PROCEED                144\n",
       "MORTGAGE_INTEREST_PROCEED    96408\n",
       "RENT_PROCEED                 92042\n",
       "REFINANCE_EIDL_PROCEED       98311\n",
       "HEALTH_CARE_PROCEED          95802\n",
       "Gender                           0\n",
       "Veteran                          0\n",
       "NonProfit                    95825\n",
       "ForgivenessAmount            17593\n",
       "150k+                            0\n",
       "ForgivenessDate              17593\n",
       "dtype: int64"
      ]
     },
     "execution_count": 19,
     "metadata": {},
     "output_type": "execute_result"
    }
   ],
   "source": [
    "#Check for NA values - QUESTION: Since there are few NA values where there shouldn't be (Borrower Name, State, NAICS) should I bother to drop these NA values or just exclude them later\n",
    "df.isna().sum()"
   ]
  },
  {
   "cell_type": "markdown",
   "id": "81e9028b-a92b-4cd3-bc2e-3dd23dd06f0a",
   "metadata": {},
   "source": [
    "Since the DateApproved feature is currently a string object, let's use the datetime package to turn it into a datetime object that can be manipulated easily"
   ]
  },
  {
   "cell_type": "code",
   "execution_count": 20,
   "id": "860a59bf-7178-4852-bb37-35009c7c03b6",
   "metadata": {},
   "outputs": [
    {
     "data": {
      "text/plain": [
       "914802    2020-04-30\n",
       "1357829   2021-02-10\n",
       "1630513   2021-01-19\n",
       "801618    2020-04-11\n",
       "223328    2021-01-22\n",
       "Name: DateApproved, dtype: datetime64[ns]"
      ]
     },
     "execution_count": 20,
     "metadata": {},
     "output_type": "execute_result"
    }
   ],
   "source": [
    "#Convert to dt and check to ensure it looks accurate\n",
    "df['DateApproved'] = pd.to_datetime(df['DateApproved'])\n",
    "df['DateApproved'].head()"
   ]
  },
  {
   "cell_type": "markdown",
   "id": "6a62f9bf-e890-4e8a-a109-91abe8145c45",
   "metadata": {},
   "source": [
    "Since there's a really wide range of loan amounts, let's create a feature that bins them to help compare them categorically"
   ]
  },
  {
   "cell_type": "code",
   "execution_count": 21,
   "id": "818928cb-db6d-4c5d-87a7-5e7def6cab2c",
   "metadata": {},
   "outputs": [],
   "source": [
    "#Categories: <$50k, $50k-$100k, $100k-$250k, $250k-$500k, $500k+\n",
    "def bin_loans(row):\n",
    "    if row['InitialApprovalAmount'] < 50000:\n",
    "        return \"< $50k\"\n",
    "    if (row['InitialApprovalAmount'] >= 50000) and (row['InitialApprovalAmount'] <= 100000):\n",
    "        return \"$50k-$100k\"\n",
    "    if (row['InitialApprovalAmount'] > 100000) and (row['InitialApprovalAmount'] <= 250000):\n",
    "        return \"$100k-$250k\"\n",
    "    if (row['InitialApprovalAmount'] > 250000) and (row['InitialApprovalAmount'] <= 500000):\n",
    "        return \"$250k-$500k\"\n",
    "    if (row['InitialApprovalAmount'] > 500000):\n",
    "        return \"$500k+\""
   ]
  },
  {
   "cell_type": "code",
   "execution_count": 22,
   "id": "83ca2ab9-57f1-4d0f-a90a-9b09ec01fd44",
   "metadata": {},
   "outputs": [],
   "source": [
    "#Call our categorization function on each row of the data frame\n",
    "df['Loan_Cat'] = df.apply(lambda row: bin_loans(row), axis = 1)"
   ]
  },
  {
   "cell_type": "code",
   "execution_count": 23,
   "id": "0943bf8f-674b-43be-befd-efe577898884",
   "metadata": {},
   "outputs": [
    {
     "data": {
      "text/plain": [
       "< $50k         0.34240\n",
       "$100k-$250k    0.25246\n",
       "$250k-$500k    0.16532\n",
       "$500k+         0.14301\n",
       "$50k-$100k     0.09681\n",
       "Name: Loan_Cat, dtype: float64"
      ]
     },
     "execution_count": 23,
     "metadata": {},
     "output_type": "execute_result"
    }
   ],
   "source": [
    "#Double check that the spread of categories looks appropriate\n",
    "df['Loan_Cat'].value_counts(normalize = True)"
   ]
  },
  {
   "cell_type": "code",
   "execution_count": 24,
   "id": "0ebba851-3fc0-47eb-ac44-6f85b89edca5",
   "metadata": {},
   "outputs": [
    {
     "data": {
      "text/html": [
       "<div>\n",
       "<style scoped>\n",
       "    .dataframe tbody tr th:only-of-type {\n",
       "        vertical-align: middle;\n",
       "    }\n",
       "\n",
       "    .dataframe tbody tr th {\n",
       "        vertical-align: top;\n",
       "    }\n",
       "\n",
       "    .dataframe thead th {\n",
       "        text-align: right;\n",
       "    }\n",
       "</style>\n",
       "<table border=\"1\" class=\"dataframe\">\n",
       "  <thead>\n",
       "    <tr style=\"text-align: right;\">\n",
       "      <th></th>\n",
       "      <th>DateApproved</th>\n",
       "      <th>InitialApprovalAmount</th>\n",
       "      <th>BorrowerName</th>\n",
       "      <th>BorrowerState</th>\n",
       "      <th>LoanStatus</th>\n",
       "      <th>FranchiseName</th>\n",
       "      <th>ServicingLenderName</th>\n",
       "      <th>RuralUrbanIndicator</th>\n",
       "      <th>HubzoneIndicator</th>\n",
       "      <th>BusinessAgeDescription</th>\n",
       "      <th>...</th>\n",
       "      <th>RENT_PROCEED</th>\n",
       "      <th>REFINANCE_EIDL_PROCEED</th>\n",
       "      <th>HEALTH_CARE_PROCEED</th>\n",
       "      <th>Gender</th>\n",
       "      <th>Veteran</th>\n",
       "      <th>NonProfit</th>\n",
       "      <th>ForgivenessAmount</th>\n",
       "      <th>150k+</th>\n",
       "      <th>ForgivenessDate</th>\n",
       "      <th>Loan_Cat</th>\n",
       "    </tr>\n",
       "  </thead>\n",
       "  <tbody>\n",
       "    <tr>\n",
       "      <th>914802</th>\n",
       "      <td>2020-04-30</td>\n",
       "      <td>187700.0</td>\n",
       "      <td>FRAZIER ELECTRICAL CONTRACTING, INC.</td>\n",
       "      <td>VA</td>\n",
       "      <td>Paid in Full</td>\n",
       "      <td>NaN</td>\n",
       "      <td>Truist Bank d/b/a Branch Banking &amp; Trust Co</td>\n",
       "      <td>R</td>\n",
       "      <td>N</td>\n",
       "      <td>Existing or more than 2 years old</td>\n",
       "      <td>...</td>\n",
       "      <td>NaN</td>\n",
       "      <td>NaN</td>\n",
       "      <td>NaN</td>\n",
       "      <td>Unanswered</td>\n",
       "      <td>Unanswered</td>\n",
       "      <td>NaN</td>\n",
       "      <td>189165.10</td>\n",
       "      <td>True</td>\n",
       "      <td>02/16/2021</td>\n",
       "      <td>$100k-$250k</td>\n",
       "    </tr>\n",
       "    <tr>\n",
       "      <th>1357829</th>\n",
       "      <td>2021-02-10</td>\n",
       "      <td>9115.0</td>\n",
       "      <td>PAGE ARIZONA VRBO LLC</td>\n",
       "      <td>AZ</td>\n",
       "      <td>Paid in Full</td>\n",
       "      <td>NaN</td>\n",
       "      <td>Wells Fargo Bank, National Association</td>\n",
       "      <td>R</td>\n",
       "      <td>N</td>\n",
       "      <td>Existing or more than 2 years old</td>\n",
       "      <td>...</td>\n",
       "      <td>NaN</td>\n",
       "      <td>NaN</td>\n",
       "      <td>NaN</td>\n",
       "      <td>Unanswered</td>\n",
       "      <td>Unanswered</td>\n",
       "      <td>NaN</td>\n",
       "      <td>9167.94</td>\n",
       "      <td>False</td>\n",
       "      <td>09/20/2021</td>\n",
       "      <td>&lt; $50k</td>\n",
       "    </tr>\n",
       "    <tr>\n",
       "      <th>1630513</th>\n",
       "      <td>2021-01-19</td>\n",
       "      <td>43662.0</td>\n",
       "      <td>BRANDOLINO GROUP INC.</td>\n",
       "      <td>CA</td>\n",
       "      <td>Paid in Full</td>\n",
       "      <td>NaN</td>\n",
       "      <td>Bank of Southern California, National Association</td>\n",
       "      <td>U</td>\n",
       "      <td>N</td>\n",
       "      <td>Existing or more than 2 years old</td>\n",
       "      <td>...</td>\n",
       "      <td>NaN</td>\n",
       "      <td>NaN</td>\n",
       "      <td>NaN</td>\n",
       "      <td>Unanswered</td>\n",
       "      <td>Unanswered</td>\n",
       "      <td>NaN</td>\n",
       "      <td>43920.38</td>\n",
       "      <td>False</td>\n",
       "      <td>09/15/2021</td>\n",
       "      <td>&lt; $50k</td>\n",
       "    </tr>\n",
       "    <tr>\n",
       "      <th>801618</th>\n",
       "      <td>2020-04-11</td>\n",
       "      <td>329460.0</td>\n",
       "      <td>STONE SOURCE INC</td>\n",
       "      <td>TN</td>\n",
       "      <td>Paid in Full</td>\n",
       "      <td>NaN</td>\n",
       "      <td>FirstBank</td>\n",
       "      <td>U</td>\n",
       "      <td>Y</td>\n",
       "      <td>Existing or more than 2 years old</td>\n",
       "      <td>...</td>\n",
       "      <td>NaN</td>\n",
       "      <td>NaN</td>\n",
       "      <td>NaN</td>\n",
       "      <td>Unanswered</td>\n",
       "      <td>Unanswered</td>\n",
       "      <td>NaN</td>\n",
       "      <td>331574.04</td>\n",
       "      <td>True</td>\n",
       "      <td>12/07/2020</td>\n",
       "      <td>$250k-$500k</td>\n",
       "    </tr>\n",
       "    <tr>\n",
       "      <th>223328</th>\n",
       "      <td>2021-01-22</td>\n",
       "      <td>424735.0</td>\n",
       "      <td>SOUTH PACIFIC ENTERPRISES LP</td>\n",
       "      <td>FL</td>\n",
       "      <td>Paid in Full</td>\n",
       "      <td>NaN</td>\n",
       "      <td>Paradise Bank</td>\n",
       "      <td>U</td>\n",
       "      <td>N</td>\n",
       "      <td>Existing or more than 2 years old</td>\n",
       "      <td>...</td>\n",
       "      <td>NaN</td>\n",
       "      <td>NaN</td>\n",
       "      <td>NaN</td>\n",
       "      <td>Unanswered</td>\n",
       "      <td>Unanswered</td>\n",
       "      <td>NaN</td>\n",
       "      <td>428333.45</td>\n",
       "      <td>True</td>\n",
       "      <td>11/24/2021</td>\n",
       "      <td>$250k-$500k</td>\n",
       "    </tr>\n",
       "    <tr>\n",
       "      <th>...</th>\n",
       "      <td>...</td>\n",
       "      <td>...</td>\n",
       "      <td>...</td>\n",
       "      <td>...</td>\n",
       "      <td>...</td>\n",
       "      <td>...</td>\n",
       "      <td>...</td>\n",
       "      <td>...</td>\n",
       "      <td>...</td>\n",
       "      <td>...</td>\n",
       "      <td>...</td>\n",
       "      <td>...</td>\n",
       "      <td>...</td>\n",
       "      <td>...</td>\n",
       "      <td>...</td>\n",
       "      <td>...</td>\n",
       "      <td>...</td>\n",
       "      <td>...</td>\n",
       "      <td>...</td>\n",
       "      <td>...</td>\n",
       "      <td>...</td>\n",
       "    </tr>\n",
       "    <tr>\n",
       "      <th>395781</th>\n",
       "      <td>2020-05-01</td>\n",
       "      <td>187825.0</td>\n",
       "      <td>GILBERT, KELLY &amp;AMP; COUTURIE, INC.</td>\n",
       "      <td>LA</td>\n",
       "      <td>Paid in Full</td>\n",
       "      <td>NaN</td>\n",
       "      <td>JPMorgan Chase Bank, National Association</td>\n",
       "      <td>U</td>\n",
       "      <td>N</td>\n",
       "      <td>Existing or more than 2 years old</td>\n",
       "      <td>...</td>\n",
       "      <td>NaN</td>\n",
       "      <td>NaN</td>\n",
       "      <td>NaN</td>\n",
       "      <td>Unanswered</td>\n",
       "      <td>Unanswered</td>\n",
       "      <td>NaN</td>\n",
       "      <td>189747.49</td>\n",
       "      <td>True</td>\n",
       "      <td>05/13/2021</td>\n",
       "      <td>$100k-$250k</td>\n",
       "    </tr>\n",
       "    <tr>\n",
       "      <th>512589</th>\n",
       "      <td>2021-02-17</td>\n",
       "      <td>175905.0</td>\n",
       "      <td>M &amp; B LAND AND CATTLE LLC</td>\n",
       "      <td>MO</td>\n",
       "      <td>Exemption 4</td>\n",
       "      <td>NaN</td>\n",
       "      <td>UMB Bank, National Association</td>\n",
       "      <td>R</td>\n",
       "      <td>Y</td>\n",
       "      <td>Existing or more than 2 years old</td>\n",
       "      <td>...</td>\n",
       "      <td>NaN</td>\n",
       "      <td>NaN</td>\n",
       "      <td>NaN</td>\n",
       "      <td>Unanswered</td>\n",
       "      <td>Unanswered</td>\n",
       "      <td>NaN</td>\n",
       "      <td>155968.39</td>\n",
       "      <td>True</td>\n",
       "      <td>12/14/2021</td>\n",
       "      <td>$100k-$250k</td>\n",
       "    </tr>\n",
       "    <tr>\n",
       "      <th>217709</th>\n",
       "      <td>2020-04-07</td>\n",
       "      <td>569800.0</td>\n",
       "      <td>THE GRAND MARLIN OF PANAMA CITY BEACH, LLC</td>\n",
       "      <td>FL</td>\n",
       "      <td>Paid in Full</td>\n",
       "      <td>NaN</td>\n",
       "      <td>Hancock Whitney Bank</td>\n",
       "      <td>U</td>\n",
       "      <td>N</td>\n",
       "      <td>Existing or more than 2 years old</td>\n",
       "      <td>...</td>\n",
       "      <td>64080.0</td>\n",
       "      <td>NaN</td>\n",
       "      <td>14592.0</td>\n",
       "      <td>Unanswered</td>\n",
       "      <td>Unanswered</td>\n",
       "      <td>NaN</td>\n",
       "      <td>575165.62</td>\n",
       "      <td>True</td>\n",
       "      <td>03/19/2021</td>\n",
       "      <td>$500k+</td>\n",
       "    </tr>\n",
       "    <tr>\n",
       "      <th>26432</th>\n",
       "      <td>2021-01-20</td>\n",
       "      <td>324000.2</td>\n",
       "      <td>EL SOL TRAVEL INC.</td>\n",
       "      <td>AZ</td>\n",
       "      <td>Exemption 4</td>\n",
       "      <td>NaN</td>\n",
       "      <td>Zions Bank, A Division of</td>\n",
       "      <td>U</td>\n",
       "      <td>N</td>\n",
       "      <td>Existing or more than 2 years old</td>\n",
       "      <td>...</td>\n",
       "      <td>NaN</td>\n",
       "      <td>NaN</td>\n",
       "      <td>NaN</td>\n",
       "      <td>Unanswered</td>\n",
       "      <td>Unanswered</td>\n",
       "      <td>NaN</td>\n",
       "      <td>NaN</td>\n",
       "      <td>True</td>\n",
       "      <td>NaN</td>\n",
       "      <td>$250k-$500k</td>\n",
       "    </tr>\n",
       "    <tr>\n",
       "      <th>822721</th>\n",
       "      <td>2020-04-07</td>\n",
       "      <td>769490.0</td>\n",
       "      <td>DONATO MINX BROWN &amp; POOL, P.C.</td>\n",
       "      <td>TX</td>\n",
       "      <td>Paid in Full</td>\n",
       "      <td>NaN</td>\n",
       "      <td>Gulf Capital Bank</td>\n",
       "      <td>U</td>\n",
       "      <td>N</td>\n",
       "      <td>Existing or more than 2 years old</td>\n",
       "      <td>...</td>\n",
       "      <td>NaN</td>\n",
       "      <td>NaN</td>\n",
       "      <td>NaN</td>\n",
       "      <td>Unanswered</td>\n",
       "      <td>Unanswered</td>\n",
       "      <td>NaN</td>\n",
       "      <td>774213.81</td>\n",
       "      <td>True</td>\n",
       "      <td>11/23/2020</td>\n",
       "      <td>$500k+</td>\n",
       "    </tr>\n",
       "  </tbody>\n",
       "</table>\n",
       "<p>99994 rows × 27 columns</p>\n",
       "</div>"
      ],
      "text/plain": [
       "        DateApproved  InitialApprovalAmount  \\\n",
       "914802    2020-04-30               187700.0   \n",
       "1357829   2021-02-10                 9115.0   \n",
       "1630513   2021-01-19                43662.0   \n",
       "801618    2020-04-11               329460.0   \n",
       "223328    2021-01-22               424735.0   \n",
       "...              ...                    ...   \n",
       "395781    2020-05-01               187825.0   \n",
       "512589    2021-02-17               175905.0   \n",
       "217709    2020-04-07               569800.0   \n",
       "26432     2021-01-20               324000.2   \n",
       "822721    2020-04-07               769490.0   \n",
       "\n",
       "                                       BorrowerName BorrowerState  \\\n",
       "914802         FRAZIER ELECTRICAL CONTRACTING, INC.            VA   \n",
       "1357829                       PAGE ARIZONA VRBO LLC            AZ   \n",
       "1630513                       BRANDOLINO GROUP INC.            CA   \n",
       "801618                             STONE SOURCE INC            TN   \n",
       "223328                 SOUTH PACIFIC ENTERPRISES LP            FL   \n",
       "...                                             ...           ...   \n",
       "395781          GILBERT, KELLY &AMP; COUTURIE, INC.            LA   \n",
       "512589                    M & B LAND AND CATTLE LLC            MO   \n",
       "217709   THE GRAND MARLIN OF PANAMA CITY BEACH, LLC            FL   \n",
       "26432                            EL SOL TRAVEL INC.            AZ   \n",
       "822721               DONATO MINX BROWN & POOL, P.C.            TX   \n",
       "\n",
       "           LoanStatus FranchiseName  \\\n",
       "914802   Paid in Full           NaN   \n",
       "1357829  Paid in Full           NaN   \n",
       "1630513  Paid in Full           NaN   \n",
       "801618   Paid in Full           NaN   \n",
       "223328   Paid in Full           NaN   \n",
       "...               ...           ...   \n",
       "395781   Paid in Full           NaN   \n",
       "512589    Exemption 4           NaN   \n",
       "217709   Paid in Full           NaN   \n",
       "26432     Exemption 4           NaN   \n",
       "822721   Paid in Full           NaN   \n",
       "\n",
       "                                       ServicingLenderName  \\\n",
       "914802         Truist Bank d/b/a Branch Banking & Trust Co   \n",
       "1357829             Wells Fargo Bank, National Association   \n",
       "1630513  Bank of Southern California, National Association   \n",
       "801618                                           FirstBank   \n",
       "223328                                       Paradise Bank   \n",
       "...                                                    ...   \n",
       "395781           JPMorgan Chase Bank, National Association   \n",
       "512589                      UMB Bank, National Association   \n",
       "217709                                Hancock Whitney Bank   \n",
       "26432                            Zions Bank, A Division of   \n",
       "822721                                   Gulf Capital Bank   \n",
       "\n",
       "        RuralUrbanIndicator HubzoneIndicator  \\\n",
       "914802                    R                N   \n",
       "1357829                   R                N   \n",
       "1630513                   U                N   \n",
       "801618                    U                Y   \n",
       "223328                    U                N   \n",
       "...                     ...              ...   \n",
       "395781                    U                N   \n",
       "512589                    R                Y   \n",
       "217709                    U                N   \n",
       "26432                     U                N   \n",
       "822721                    U                N   \n",
       "\n",
       "                    BusinessAgeDescription  ...  RENT_PROCEED  \\\n",
       "914802   Existing or more than 2 years old  ...           NaN   \n",
       "1357829  Existing or more than 2 years old  ...           NaN   \n",
       "1630513  Existing or more than 2 years old  ...           NaN   \n",
       "801618   Existing or more than 2 years old  ...           NaN   \n",
       "223328   Existing or more than 2 years old  ...           NaN   \n",
       "...                                    ...  ...           ...   \n",
       "395781   Existing or more than 2 years old  ...           NaN   \n",
       "512589   Existing or more than 2 years old  ...           NaN   \n",
       "217709   Existing or more than 2 years old  ...       64080.0   \n",
       "26432    Existing or more than 2 years old  ...           NaN   \n",
       "822721   Existing or more than 2 years old  ...           NaN   \n",
       "\n",
       "         REFINANCE_EIDL_PROCEED HEALTH_CARE_PROCEED      Gender     Veteran  \\\n",
       "914802                      NaN                 NaN  Unanswered  Unanswered   \n",
       "1357829                     NaN                 NaN  Unanswered  Unanswered   \n",
       "1630513                     NaN                 NaN  Unanswered  Unanswered   \n",
       "801618                      NaN                 NaN  Unanswered  Unanswered   \n",
       "223328                      NaN                 NaN  Unanswered  Unanswered   \n",
       "...                         ...                 ...         ...         ...   \n",
       "395781                      NaN                 NaN  Unanswered  Unanswered   \n",
       "512589                      NaN                 NaN  Unanswered  Unanswered   \n",
       "217709                      NaN             14592.0  Unanswered  Unanswered   \n",
       "26432                       NaN                 NaN  Unanswered  Unanswered   \n",
       "822721                      NaN                 NaN  Unanswered  Unanswered   \n",
       "\n",
       "         NonProfit  ForgivenessAmount  150k+  ForgivenessDate     Loan_Cat  \n",
       "914802         NaN          189165.10   True       02/16/2021  $100k-$250k  \n",
       "1357829        NaN            9167.94  False       09/20/2021       < $50k  \n",
       "1630513        NaN           43920.38  False       09/15/2021       < $50k  \n",
       "801618         NaN          331574.04   True       12/07/2020  $250k-$500k  \n",
       "223328         NaN          428333.45   True       11/24/2021  $250k-$500k  \n",
       "...            ...                ...    ...              ...          ...  \n",
       "395781         NaN          189747.49   True       05/13/2021  $100k-$250k  \n",
       "512589         NaN          155968.39   True       12/14/2021  $100k-$250k  \n",
       "217709         NaN          575165.62   True       03/19/2021       $500k+  \n",
       "26432          NaN                NaN   True              NaN  $250k-$500k  \n",
       "822721         NaN          774213.81   True       11/23/2020       $500k+  \n",
       "\n",
       "[99994 rows x 27 columns]"
      ]
     },
     "execution_count": 24,
     "metadata": {},
     "output_type": "execute_result"
    }
   ],
   "source": [
    "#Drop observations that have NA values for borrower state. In most of the other cases NA does actually indicate a value (i.e. not a franchise, no expenses forgiven, etc...)\n",
    "df.dropna(axis = 0, subset = ['BorrowerState'])"
   ]
  },
  {
   "cell_type": "markdown",
   "id": "071574e4-f974-4cb7-b9c9-7930f5ac5406",
   "metadata": {},
   "source": [
    "#### Import population data to use for analyzing states' per capital info"
   ]
  },
  {
   "cell_type": "code",
   "execution_count": 25,
   "id": "48522190-da0c-4467-9fd2-5688735b219a",
   "metadata": {},
   "outputs": [],
   "source": [
    "#Dictionary to translate between state names and abbreviations for merging population info\n",
    "\n",
    "state_codes= pd.DataFrame ([\n",
    "    [\"Alabama\", \"AL\"],\n",
    "    [\"Alaska\", \"AK\"],\n",
    "    [\"Arizona\", \"AZ\"],\n",
    "    [\"Arkansas\", \"AR\"],\n",
    "    [\"California\", \"CA\"],\n",
    "    [\"Colorado\", \"CO\"],\n",
    "    [\"Connecticut\", \"CT\"],\n",
    "    [\"Delaware\", \"DE\"],\n",
    "    [\"Florida\", \"FL\"],\n",
    "    [\"Georgia\", \"GA\"],\n",
    "    [\"Hawaii\", \"HI\"],\n",
    "    [\"Idaho\", \"ID\"],\n",
    "    [\"Illinois\", \"IL\"],\n",
    "    [\"Indiana\", \"IN\"],\n",
    "    [\"Iowa\", \"IA\"],\n",
    "    [\"Kansas\", \"KS\"],\n",
    "    [\"Kentucky\", \"KY\"],\n",
    "    [\"Louisiana\", \"LA\"],\n",
    "    [\"Maine\", \"ME\"],\n",
    "    [\"Maryland\", \"MD\"],\n",
    "    [\"Massachusetts\", \"MA\"],\n",
    "    [\"Michigan\", \"MI\"],\n",
    "    [\"Minnesota\", \"MN\"],\n",
    "    [\"Mississippi\", \"MS\"],\n",
    "    [\"Missouri\", \"MO\"],\n",
    "    [\"Montana\", \"MT\"],\n",
    "    [\"Nebraska\", \"NE\"],\n",
    "    [\"Nevada\", \"NV\"],\n",
    "    [\"New Hampshire\", \"NH\"],\n",
    "    [\"New Jersey\", \"NJ\"],\n",
    "    [\"New Mexico\", \"NM\"],\n",
    "    [\"New York\", \"NY\"],\n",
    "    [\"North Carolina\", \"NC\"],\n",
    "    [\"North Dakota\", \"ND\"],\n",
    "    [\"Ohio\", \"OH\"],\n",
    "    [\"Oklahoma\", \"OK\"],\n",
    "    [\"Oregon\", \"OR\"],\n",
    "    [\"Pennsylvania\", \"PA\"],\n",
    "    [\"Rhode Island\", \"RI\"],\n",
    "    [\"South Carolina\", \"SC\"],\n",
    "    [\"South Dakota\", \"SD\"],\n",
    "    [\"Tennessee\", \"TN\"],\n",
    "    [\"Texas\", \"TX\"],\n",
    "    [\"Utah\", \"UT\"],\n",
    "    [\"Vermont\", \"VT\"],\n",
    "    [\"Virginia\", \"VA\"],\n",
    "    [\"Washington\", \"WA\"],\n",
    "    [\"West Virginia\", \"WV\"],\n",
    "    [\"Wisconsin\", \"WI\"],\n",
    "    [\"Wyoming\", \"WY\"],\n",
    "    [\"District of Columbia\", \"DC\"],\n",
    "    [\"American Samoa\", \"AS\"],\n",
    "    [\"Guam\", \"GU\"],\n",
    "    [\"Northern Mariana Islands\", \"MP\"],\n",
    "    [\"Puerto Rico\", \"PR\"],\n",
    "    [\"United States Minor Outlying Islands\", \"UM\"],\n",
    "    [\"U.S. Virgin Islands\", \"VI\"],\n",
    "], columns = ['State Name', 'Abbreviation'])"
   ]
  },
  {
   "cell_type": "code",
   "execution_count": 26,
   "id": "a2479db6-db6f-4eb6-be4f-90c9bbbeaf59",
   "metadata": {},
   "outputs": [
    {
     "data": {
      "text/html": [
       "<div>\n",
       "<style scoped>\n",
       "    .dataframe tbody tr th:only-of-type {\n",
       "        vertical-align: middle;\n",
       "    }\n",
       "\n",
       "    .dataframe tbody tr th {\n",
       "        vertical-align: top;\n",
       "    }\n",
       "\n",
       "    .dataframe thead th {\n",
       "        text-align: right;\n",
       "    }\n",
       "</style>\n",
       "<table border=\"1\" class=\"dataframe\">\n",
       "  <thead>\n",
       "    <tr style=\"text-align: right;\">\n",
       "      <th></th>\n",
       "      <th>State Name</th>\n",
       "      <th>Abbreviation</th>\n",
       "    </tr>\n",
       "  </thead>\n",
       "  <tbody>\n",
       "    <tr>\n",
       "      <th>0</th>\n",
       "      <td>Alabama</td>\n",
       "      <td>AL</td>\n",
       "    </tr>\n",
       "    <tr>\n",
       "      <th>1</th>\n",
       "      <td>Alaska</td>\n",
       "      <td>AK</td>\n",
       "    </tr>\n",
       "    <tr>\n",
       "      <th>2</th>\n",
       "      <td>Arizona</td>\n",
       "      <td>AZ</td>\n",
       "    </tr>\n",
       "  </tbody>\n",
       "</table>\n",
       "</div>"
      ],
      "text/plain": [
       "  State Name Abbreviation\n",
       "0    Alabama           AL\n",
       "1     Alaska           AK\n",
       "2    Arizona           AZ"
      ]
     },
     "execution_count": 26,
     "metadata": {},
     "output_type": "execute_result"
    }
   ],
   "source": [
    "#Check to make sure that our DF looks correct\n",
    "state_codes.head(3)"
   ]
  },
  {
   "cell_type": "code",
   "execution_count": 27,
   "id": "c0f4a776-a1b2-4f30-89bc-0ec9900c6d9e",
   "metadata": {},
   "outputs": [
    {
     "data": {
      "text/html": [
       "<div>\n",
       "<style scoped>\n",
       "    .dataframe tbody tr th:only-of-type {\n",
       "        vertical-align: middle;\n",
       "    }\n",
       "\n",
       "    .dataframe tbody tr th {\n",
       "        vertical-align: top;\n",
       "    }\n",
       "\n",
       "    .dataframe thead th {\n",
       "        text-align: right;\n",
       "    }\n",
       "</style>\n",
       "<table border=\"1\" class=\"dataframe\">\n",
       "  <thead>\n",
       "    <tr style=\"text-align: right;\">\n",
       "      <th></th>\n",
       "      <th>SUMLEV</th>\n",
       "      <th>REGION</th>\n",
       "      <th>DIVISION</th>\n",
       "      <th>STATE</th>\n",
       "      <th>NAME</th>\n",
       "      <th>CENSUS2010POP</th>\n",
       "      <th>ESTIMATESBASE2010</th>\n",
       "      <th>POPESTIMATE2010</th>\n",
       "      <th>POPESTIMATE2011</th>\n",
       "      <th>POPESTIMATE2012</th>\n",
       "      <th>...</th>\n",
       "      <th>RDOMESTICMIG2019</th>\n",
       "      <th>RNETMIG2011</th>\n",
       "      <th>RNETMIG2012</th>\n",
       "      <th>RNETMIG2013</th>\n",
       "      <th>RNETMIG2014</th>\n",
       "      <th>RNETMIG2015</th>\n",
       "      <th>RNETMIG2016</th>\n",
       "      <th>RNETMIG2017</th>\n",
       "      <th>RNETMIG2018</th>\n",
       "      <th>RNETMIG2019</th>\n",
       "    </tr>\n",
       "  </thead>\n",
       "  <tbody>\n",
       "    <tr>\n",
       "      <th>0</th>\n",
       "      <td>10</td>\n",
       "      <td>0</td>\n",
       "      <td>0</td>\n",
       "      <td>0</td>\n",
       "      <td>United States</td>\n",
       "      <td>308745538</td>\n",
       "      <td>308758105</td>\n",
       "      <td>309321666</td>\n",
       "      <td>311556874</td>\n",
       "      <td>313830990</td>\n",
       "      <td>...</td>\n",
       "      <td>0.000000</td>\n",
       "      <td>2.493773</td>\n",
       "      <td>2.682083</td>\n",
       "      <td>2.636187</td>\n",
       "      <td>2.921500</td>\n",
       "      <td>3.260435</td>\n",
       "      <td>3.252788</td>\n",
       "      <td>2.871957</td>\n",
       "      <td>2.153911</td>\n",
       "      <td>1.818059</td>\n",
       "    </tr>\n",
       "    <tr>\n",
       "      <th>1</th>\n",
       "      <td>20</td>\n",
       "      <td>1</td>\n",
       "      <td>0</td>\n",
       "      <td>0</td>\n",
       "      <td>Northeast Region</td>\n",
       "      <td>55317240</td>\n",
       "      <td>55318443</td>\n",
       "      <td>55380134</td>\n",
       "      <td>55604223</td>\n",
       "      <td>55775216</td>\n",
       "      <td>...</td>\n",
       "      <td>-5.254530</td>\n",
       "      <td>0.887909</td>\n",
       "      <td>-0.038355</td>\n",
       "      <td>-0.469783</td>\n",
       "      <td>-0.986097</td>\n",
       "      <td>-2.061965</td>\n",
       "      <td>-2.490484</td>\n",
       "      <td>-1.837048</td>\n",
       "      <td>-2.134447</td>\n",
       "      <td>-2.859713</td>\n",
       "    </tr>\n",
       "    <tr>\n",
       "      <th>2</th>\n",
       "      <td>20</td>\n",
       "      <td>2</td>\n",
       "      <td>0</td>\n",
       "      <td>0</td>\n",
       "      <td>Midwest Region</td>\n",
       "      <td>66927001</td>\n",
       "      <td>66929725</td>\n",
       "      <td>66974416</td>\n",
       "      <td>67157800</td>\n",
       "      <td>67336743</td>\n",
       "      <td>...</td>\n",
       "      <td>-2.365881</td>\n",
       "      <td>-0.963930</td>\n",
       "      <td>-0.973943</td>\n",
       "      <td>-0.006924</td>\n",
       "      <td>-0.762969</td>\n",
       "      <td>-1.388437</td>\n",
       "      <td>-1.241784</td>\n",
       "      <td>-0.557370</td>\n",
       "      <td>-0.922755</td>\n",
       "      <td>-1.111173</td>\n",
       "    </tr>\n",
       "    <tr>\n",
       "      <th>3</th>\n",
       "      <td>20</td>\n",
       "      <td>3</td>\n",
       "      <td>0</td>\n",
       "      <td>0</td>\n",
       "      <td>South Region</td>\n",
       "      <td>114555744</td>\n",
       "      <td>114563030</td>\n",
       "      <td>114866680</td>\n",
       "      <td>116006522</td>\n",
       "      <td>117241208</td>\n",
       "      <td>...</td>\n",
       "      <td>3.261349</td>\n",
       "      <td>5.130513</td>\n",
       "      <td>5.850458</td>\n",
       "      <td>5.292073</td>\n",
       "      <td>6.161501</td>\n",
       "      <td>7.277358</td>\n",
       "      <td>7.150074</td>\n",
       "      <td>6.198168</td>\n",
       "      <td>5.225519</td>\n",
       "      <td>5.203720</td>\n",
       "    </tr>\n",
       "    <tr>\n",
       "      <th>4</th>\n",
       "      <td>20</td>\n",
       "      <td>4</td>\n",
       "      <td>0</td>\n",
       "      <td>0</td>\n",
       "      <td>West Region</td>\n",
       "      <td>71945553</td>\n",
       "      <td>71946907</td>\n",
       "      <td>72100436</td>\n",
       "      <td>72788329</td>\n",
       "      <td>73477823</td>\n",
       "      <td>...</td>\n",
       "      <td>0.614245</td>\n",
       "      <td>2.723344</td>\n",
       "      <td>3.062896</td>\n",
       "      <td>3.162262</td>\n",
       "      <td>4.026429</td>\n",
       "      <td>4.987285</td>\n",
       "      <td>5.261078</td>\n",
       "      <td>4.021194</td>\n",
       "      <td>3.044951</td>\n",
       "      <td>2.312083</td>\n",
       "    </tr>\n",
       "  </tbody>\n",
       "</table>\n",
       "<p>5 rows × 151 columns</p>\n",
       "</div>"
      ],
      "text/plain": [
       "   SUMLEV REGION DIVISION  STATE              NAME  CENSUS2010POP  \\\n",
       "0      10      0        0      0     United States      308745538   \n",
       "1      20      1        0      0  Northeast Region       55317240   \n",
       "2      20      2        0      0    Midwest Region       66927001   \n",
       "3      20      3        0      0      South Region      114555744   \n",
       "4      20      4        0      0       West Region       71945553   \n",
       "\n",
       "   ESTIMATESBASE2010  POPESTIMATE2010  POPESTIMATE2011  POPESTIMATE2012  ...  \\\n",
       "0          308758105        309321666        311556874        313830990  ...   \n",
       "1           55318443         55380134         55604223         55775216  ...   \n",
       "2           66929725         66974416         67157800         67336743  ...   \n",
       "3          114563030        114866680        116006522        117241208  ...   \n",
       "4           71946907         72100436         72788329         73477823  ...   \n",
       "\n",
       "   RDOMESTICMIG2019  RNETMIG2011  RNETMIG2012  RNETMIG2013  RNETMIG2014  \\\n",
       "0          0.000000     2.493773     2.682083     2.636187     2.921500   \n",
       "1         -5.254530     0.887909    -0.038355    -0.469783    -0.986097   \n",
       "2         -2.365881    -0.963930    -0.973943    -0.006924    -0.762969   \n",
       "3          3.261349     5.130513     5.850458     5.292073     6.161501   \n",
       "4          0.614245     2.723344     3.062896     3.162262     4.026429   \n",
       "\n",
       "   RNETMIG2015  RNETMIG2016  RNETMIG2017  RNETMIG2018  RNETMIG2019  \n",
       "0     3.260435     3.252788     2.871957     2.153911     1.818059  \n",
       "1    -2.061965    -2.490484    -1.837048    -2.134447    -2.859713  \n",
       "2    -1.388437    -1.241784    -0.557370    -0.922755    -1.111173  \n",
       "3     7.277358     7.150074     6.198168     5.225519     5.203720  \n",
       "4     4.987285     5.261078     4.021194     3.044951     2.312083  \n",
       "\n",
       "[5 rows x 151 columns]"
      ]
     },
     "execution_count": 27,
     "metadata": {},
     "output_type": "execute_result"
    }
   ],
   "source": [
    "#Import census CSV and take a first look at it\n",
    "population = pd.read_csv('population_data.csv')\n",
    "population.head()"
   ]
  },
  {
   "cell_type": "code",
   "execution_count": 28,
   "id": "0dfe5113-beb2-485a-a8d5-4469f8770b2c",
   "metadata": {},
   "outputs": [
    {
     "data": {
      "text/html": [
       "<div>\n",
       "<style scoped>\n",
       "    .dataframe tbody tr th:only-of-type {\n",
       "        vertical-align: middle;\n",
       "    }\n",
       "\n",
       "    .dataframe tbody tr th {\n",
       "        vertical-align: top;\n",
       "    }\n",
       "\n",
       "    .dataframe thead th {\n",
       "        text-align: right;\n",
       "    }\n",
       "</style>\n",
       "<table border=\"1\" class=\"dataframe\">\n",
       "  <thead>\n",
       "    <tr style=\"text-align: right;\">\n",
       "      <th></th>\n",
       "      <th>NAME</th>\n",
       "      <th>POPESTIMATE2019</th>\n",
       "    </tr>\n",
       "  </thead>\n",
       "  <tbody>\n",
       "    <tr>\n",
       "      <th>0</th>\n",
       "      <td>United States</td>\n",
       "      <td>328239523</td>\n",
       "    </tr>\n",
       "    <tr>\n",
       "      <th>1</th>\n",
       "      <td>Northeast Region</td>\n",
       "      <td>55982803</td>\n",
       "    </tr>\n",
       "    <tr>\n",
       "      <th>2</th>\n",
       "      <td>Midwest Region</td>\n",
       "      <td>68329004</td>\n",
       "    </tr>\n",
       "    <tr>\n",
       "      <th>3</th>\n",
       "      <td>South Region</td>\n",
       "      <td>125580448</td>\n",
       "    </tr>\n",
       "    <tr>\n",
       "      <th>4</th>\n",
       "      <td>West Region</td>\n",
       "      <td>78347268</td>\n",
       "    </tr>\n",
       "    <tr>\n",
       "      <th>5</th>\n",
       "      <td>Alabama</td>\n",
       "      <td>4903185</td>\n",
       "    </tr>\n",
       "    <tr>\n",
       "      <th>6</th>\n",
       "      <td>Alaska</td>\n",
       "      <td>731545</td>\n",
       "    </tr>\n",
       "    <tr>\n",
       "      <th>7</th>\n",
       "      <td>Arizona</td>\n",
       "      <td>7278717</td>\n",
       "    </tr>\n",
       "    <tr>\n",
       "      <th>8</th>\n",
       "      <td>Arkansas</td>\n",
       "      <td>3017804</td>\n",
       "    </tr>\n",
       "    <tr>\n",
       "      <th>9</th>\n",
       "      <td>California</td>\n",
       "      <td>39512223</td>\n",
       "    </tr>\n",
       "  </tbody>\n",
       "</table>\n",
       "</div>"
      ],
      "text/plain": [
       "               NAME  POPESTIMATE2019\n",
       "0     United States        328239523\n",
       "1  Northeast Region         55982803\n",
       "2    Midwest Region         68329004\n",
       "3      South Region        125580448\n",
       "4       West Region         78347268\n",
       "5           Alabama          4903185\n",
       "6            Alaska           731545\n",
       "7           Arizona          7278717\n",
       "8          Arkansas          3017804\n",
       "9        California         39512223"
      ]
     },
     "execution_count": 28,
     "metadata": {},
     "output_type": "execute_result"
    }
   ],
   "source": [
    "#Subset the data set to only include the state's name and population estimate from 2019\n",
    "pop_columns = ['NAME', 'POPESTIMATE2019']\n",
    "population = population[pop_columns]\n",
    "\n",
    "#Double check to make sure all looks correct\n",
    "population.head(10)"
   ]
  },
  {
   "cell_type": "code",
   "execution_count": 29,
   "id": "f83750f2-2dc8-47eb-bf82-bb261058ce59",
   "metadata": {},
   "outputs": [
    {
     "data": {
      "text/html": [
       "<div>\n",
       "<style scoped>\n",
       "    .dataframe tbody tr th:only-of-type {\n",
       "        vertical-align: middle;\n",
       "    }\n",
       "\n",
       "    .dataframe tbody tr th {\n",
       "        vertical-align: top;\n",
       "    }\n",
       "\n",
       "    .dataframe thead th {\n",
       "        text-align: right;\n",
       "    }\n",
       "</style>\n",
       "<table border=\"1\" class=\"dataframe\">\n",
       "  <thead>\n",
       "    <tr style=\"text-align: right;\">\n",
       "      <th></th>\n",
       "      <th>NAME</th>\n",
       "      <th>POPESTIMATE2019</th>\n",
       "      <th>State Name</th>\n",
       "      <th>Abbreviation</th>\n",
       "    </tr>\n",
       "  </thead>\n",
       "  <tbody>\n",
       "    <tr>\n",
       "      <th>0</th>\n",
       "      <td>United States</td>\n",
       "      <td>328239523</td>\n",
       "      <td>NaN</td>\n",
       "      <td>NaN</td>\n",
       "    </tr>\n",
       "    <tr>\n",
       "      <th>1</th>\n",
       "      <td>Northeast Region</td>\n",
       "      <td>55982803</td>\n",
       "      <td>NaN</td>\n",
       "      <td>NaN</td>\n",
       "    </tr>\n",
       "    <tr>\n",
       "      <th>2</th>\n",
       "      <td>Midwest Region</td>\n",
       "      <td>68329004</td>\n",
       "      <td>NaN</td>\n",
       "      <td>NaN</td>\n",
       "    </tr>\n",
       "    <tr>\n",
       "      <th>3</th>\n",
       "      <td>South Region</td>\n",
       "      <td>125580448</td>\n",
       "      <td>NaN</td>\n",
       "      <td>NaN</td>\n",
       "    </tr>\n",
       "    <tr>\n",
       "      <th>4</th>\n",
       "      <td>West Region</td>\n",
       "      <td>78347268</td>\n",
       "      <td>NaN</td>\n",
       "      <td>NaN</td>\n",
       "    </tr>\n",
       "    <tr>\n",
       "      <th>5</th>\n",
       "      <td>Alabama</td>\n",
       "      <td>4903185</td>\n",
       "      <td>Alabama</td>\n",
       "      <td>AL</td>\n",
       "    </tr>\n",
       "    <tr>\n",
       "      <th>6</th>\n",
       "      <td>Alaska</td>\n",
       "      <td>731545</td>\n",
       "      <td>Alaska</td>\n",
       "      <td>AK</td>\n",
       "    </tr>\n",
       "    <tr>\n",
       "      <th>7</th>\n",
       "      <td>Arizona</td>\n",
       "      <td>7278717</td>\n",
       "      <td>Arizona</td>\n",
       "      <td>AZ</td>\n",
       "    </tr>\n",
       "    <tr>\n",
       "      <th>8</th>\n",
       "      <td>Arkansas</td>\n",
       "      <td>3017804</td>\n",
       "      <td>Arkansas</td>\n",
       "      <td>AR</td>\n",
       "    </tr>\n",
       "    <tr>\n",
       "      <th>9</th>\n",
       "      <td>California</td>\n",
       "      <td>39512223</td>\n",
       "      <td>California</td>\n",
       "      <td>CA</td>\n",
       "    </tr>\n",
       "    <tr>\n",
       "      <th>10</th>\n",
       "      <td>Colorado</td>\n",
       "      <td>5758736</td>\n",
       "      <td>Colorado</td>\n",
       "      <td>CO</td>\n",
       "    </tr>\n",
       "    <tr>\n",
       "      <th>11</th>\n",
       "      <td>Connecticut</td>\n",
       "      <td>3565287</td>\n",
       "      <td>Connecticut</td>\n",
       "      <td>CT</td>\n",
       "    </tr>\n",
       "    <tr>\n",
       "      <th>12</th>\n",
       "      <td>Delaware</td>\n",
       "      <td>973764</td>\n",
       "      <td>Delaware</td>\n",
       "      <td>DE</td>\n",
       "    </tr>\n",
       "    <tr>\n",
       "      <th>13</th>\n",
       "      <td>District of Columbia</td>\n",
       "      <td>705749</td>\n",
       "      <td>District of Columbia</td>\n",
       "      <td>DC</td>\n",
       "    </tr>\n",
       "    <tr>\n",
       "      <th>14</th>\n",
       "      <td>Florida</td>\n",
       "      <td>21477737</td>\n",
       "      <td>Florida</td>\n",
       "      <td>FL</td>\n",
       "    </tr>\n",
       "    <tr>\n",
       "      <th>15</th>\n",
       "      <td>Georgia</td>\n",
       "      <td>10617423</td>\n",
       "      <td>Georgia</td>\n",
       "      <td>GA</td>\n",
       "    </tr>\n",
       "    <tr>\n",
       "      <th>16</th>\n",
       "      <td>Hawaii</td>\n",
       "      <td>1415872</td>\n",
       "      <td>Hawaii</td>\n",
       "      <td>HI</td>\n",
       "    </tr>\n",
       "    <tr>\n",
       "      <th>17</th>\n",
       "      <td>Idaho</td>\n",
       "      <td>1787065</td>\n",
       "      <td>Idaho</td>\n",
       "      <td>ID</td>\n",
       "    </tr>\n",
       "    <tr>\n",
       "      <th>18</th>\n",
       "      <td>Illinois</td>\n",
       "      <td>12671821</td>\n",
       "      <td>Illinois</td>\n",
       "      <td>IL</td>\n",
       "    </tr>\n",
       "    <tr>\n",
       "      <th>19</th>\n",
       "      <td>Indiana</td>\n",
       "      <td>6732219</td>\n",
       "      <td>Indiana</td>\n",
       "      <td>IN</td>\n",
       "    </tr>\n",
       "    <tr>\n",
       "      <th>20</th>\n",
       "      <td>Iowa</td>\n",
       "      <td>3155070</td>\n",
       "      <td>Iowa</td>\n",
       "      <td>IA</td>\n",
       "    </tr>\n",
       "    <tr>\n",
       "      <th>21</th>\n",
       "      <td>Kansas</td>\n",
       "      <td>2913314</td>\n",
       "      <td>Kansas</td>\n",
       "      <td>KS</td>\n",
       "    </tr>\n",
       "    <tr>\n",
       "      <th>22</th>\n",
       "      <td>Kentucky</td>\n",
       "      <td>4467673</td>\n",
       "      <td>Kentucky</td>\n",
       "      <td>KY</td>\n",
       "    </tr>\n",
       "    <tr>\n",
       "      <th>23</th>\n",
       "      <td>Louisiana</td>\n",
       "      <td>4648794</td>\n",
       "      <td>Louisiana</td>\n",
       "      <td>LA</td>\n",
       "    </tr>\n",
       "    <tr>\n",
       "      <th>24</th>\n",
       "      <td>Maine</td>\n",
       "      <td>1344212</td>\n",
       "      <td>Maine</td>\n",
       "      <td>ME</td>\n",
       "    </tr>\n",
       "    <tr>\n",
       "      <th>25</th>\n",
       "      <td>Maryland</td>\n",
       "      <td>6045680</td>\n",
       "      <td>Maryland</td>\n",
       "      <td>MD</td>\n",
       "    </tr>\n",
       "    <tr>\n",
       "      <th>26</th>\n",
       "      <td>Massachusetts</td>\n",
       "      <td>6892503</td>\n",
       "      <td>Massachusetts</td>\n",
       "      <td>MA</td>\n",
       "    </tr>\n",
       "    <tr>\n",
       "      <th>27</th>\n",
       "      <td>Michigan</td>\n",
       "      <td>9986857</td>\n",
       "      <td>Michigan</td>\n",
       "      <td>MI</td>\n",
       "    </tr>\n",
       "    <tr>\n",
       "      <th>28</th>\n",
       "      <td>Minnesota</td>\n",
       "      <td>5639632</td>\n",
       "      <td>Minnesota</td>\n",
       "      <td>MN</td>\n",
       "    </tr>\n",
       "    <tr>\n",
       "      <th>29</th>\n",
       "      <td>Mississippi</td>\n",
       "      <td>2976149</td>\n",
       "      <td>Mississippi</td>\n",
       "      <td>MS</td>\n",
       "    </tr>\n",
       "    <tr>\n",
       "      <th>30</th>\n",
       "      <td>Missouri</td>\n",
       "      <td>6137428</td>\n",
       "      <td>Missouri</td>\n",
       "      <td>MO</td>\n",
       "    </tr>\n",
       "    <tr>\n",
       "      <th>31</th>\n",
       "      <td>Montana</td>\n",
       "      <td>1068778</td>\n",
       "      <td>Montana</td>\n",
       "      <td>MT</td>\n",
       "    </tr>\n",
       "    <tr>\n",
       "      <th>32</th>\n",
       "      <td>Nebraska</td>\n",
       "      <td>1934408</td>\n",
       "      <td>Nebraska</td>\n",
       "      <td>NE</td>\n",
       "    </tr>\n",
       "    <tr>\n",
       "      <th>33</th>\n",
       "      <td>Nevada</td>\n",
       "      <td>3080156</td>\n",
       "      <td>Nevada</td>\n",
       "      <td>NV</td>\n",
       "    </tr>\n",
       "    <tr>\n",
       "      <th>34</th>\n",
       "      <td>New Hampshire</td>\n",
       "      <td>1359711</td>\n",
       "      <td>New Hampshire</td>\n",
       "      <td>NH</td>\n",
       "    </tr>\n",
       "    <tr>\n",
       "      <th>35</th>\n",
       "      <td>New Jersey</td>\n",
       "      <td>8882190</td>\n",
       "      <td>New Jersey</td>\n",
       "      <td>NJ</td>\n",
       "    </tr>\n",
       "    <tr>\n",
       "      <th>36</th>\n",
       "      <td>New Mexico</td>\n",
       "      <td>2096829</td>\n",
       "      <td>New Mexico</td>\n",
       "      <td>NM</td>\n",
       "    </tr>\n",
       "    <tr>\n",
       "      <th>37</th>\n",
       "      <td>New York</td>\n",
       "      <td>19453561</td>\n",
       "      <td>New York</td>\n",
       "      <td>NY</td>\n",
       "    </tr>\n",
       "    <tr>\n",
       "      <th>38</th>\n",
       "      <td>North Carolina</td>\n",
       "      <td>10488084</td>\n",
       "      <td>North Carolina</td>\n",
       "      <td>NC</td>\n",
       "    </tr>\n",
       "    <tr>\n",
       "      <th>39</th>\n",
       "      <td>North Dakota</td>\n",
       "      <td>762062</td>\n",
       "      <td>North Dakota</td>\n",
       "      <td>ND</td>\n",
       "    </tr>\n",
       "    <tr>\n",
       "      <th>40</th>\n",
       "      <td>Ohio</td>\n",
       "      <td>11689100</td>\n",
       "      <td>Ohio</td>\n",
       "      <td>OH</td>\n",
       "    </tr>\n",
       "    <tr>\n",
       "      <th>41</th>\n",
       "      <td>Oklahoma</td>\n",
       "      <td>3956971</td>\n",
       "      <td>Oklahoma</td>\n",
       "      <td>OK</td>\n",
       "    </tr>\n",
       "    <tr>\n",
       "      <th>42</th>\n",
       "      <td>Oregon</td>\n",
       "      <td>4217737</td>\n",
       "      <td>Oregon</td>\n",
       "      <td>OR</td>\n",
       "    </tr>\n",
       "    <tr>\n",
       "      <th>43</th>\n",
       "      <td>Pennsylvania</td>\n",
       "      <td>12801989</td>\n",
       "      <td>Pennsylvania</td>\n",
       "      <td>PA</td>\n",
       "    </tr>\n",
       "    <tr>\n",
       "      <th>44</th>\n",
       "      <td>Rhode Island</td>\n",
       "      <td>1059361</td>\n",
       "      <td>Rhode Island</td>\n",
       "      <td>RI</td>\n",
       "    </tr>\n",
       "    <tr>\n",
       "      <th>45</th>\n",
       "      <td>South Carolina</td>\n",
       "      <td>5148714</td>\n",
       "      <td>South Carolina</td>\n",
       "      <td>SC</td>\n",
       "    </tr>\n",
       "    <tr>\n",
       "      <th>46</th>\n",
       "      <td>South Dakota</td>\n",
       "      <td>884659</td>\n",
       "      <td>South Dakota</td>\n",
       "      <td>SD</td>\n",
       "    </tr>\n",
       "    <tr>\n",
       "      <th>47</th>\n",
       "      <td>Tennessee</td>\n",
       "      <td>6829174</td>\n",
       "      <td>Tennessee</td>\n",
       "      <td>TN</td>\n",
       "    </tr>\n",
       "    <tr>\n",
       "      <th>48</th>\n",
       "      <td>Texas</td>\n",
       "      <td>28995881</td>\n",
       "      <td>Texas</td>\n",
       "      <td>TX</td>\n",
       "    </tr>\n",
       "    <tr>\n",
       "      <th>49</th>\n",
       "      <td>Utah</td>\n",
       "      <td>3205958</td>\n",
       "      <td>Utah</td>\n",
       "      <td>UT</td>\n",
       "    </tr>\n",
       "    <tr>\n",
       "      <th>50</th>\n",
       "      <td>Vermont</td>\n",
       "      <td>623989</td>\n",
       "      <td>Vermont</td>\n",
       "      <td>VT</td>\n",
       "    </tr>\n",
       "    <tr>\n",
       "      <th>51</th>\n",
       "      <td>Virginia</td>\n",
       "      <td>8535519</td>\n",
       "      <td>Virginia</td>\n",
       "      <td>VA</td>\n",
       "    </tr>\n",
       "    <tr>\n",
       "      <th>52</th>\n",
       "      <td>Washington</td>\n",
       "      <td>7614893</td>\n",
       "      <td>Washington</td>\n",
       "      <td>WA</td>\n",
       "    </tr>\n",
       "    <tr>\n",
       "      <th>53</th>\n",
       "      <td>West Virginia</td>\n",
       "      <td>1792147</td>\n",
       "      <td>West Virginia</td>\n",
       "      <td>WV</td>\n",
       "    </tr>\n",
       "    <tr>\n",
       "      <th>54</th>\n",
       "      <td>Wisconsin</td>\n",
       "      <td>5822434</td>\n",
       "      <td>Wisconsin</td>\n",
       "      <td>WI</td>\n",
       "    </tr>\n",
       "    <tr>\n",
       "      <th>55</th>\n",
       "      <td>Wyoming</td>\n",
       "      <td>578759</td>\n",
       "      <td>Wyoming</td>\n",
       "      <td>WY</td>\n",
       "    </tr>\n",
       "    <tr>\n",
       "      <th>56</th>\n",
       "      <td>Puerto Rico</td>\n",
       "      <td>3193694</td>\n",
       "      <td>Puerto Rico</td>\n",
       "      <td>PR</td>\n",
       "    </tr>\n",
       "  </tbody>\n",
       "</table>\n",
       "</div>"
      ],
      "text/plain": [
       "                    NAME  POPESTIMATE2019            State Name Abbreviation\n",
       "0          United States        328239523                   NaN          NaN\n",
       "1       Northeast Region         55982803                   NaN          NaN\n",
       "2         Midwest Region         68329004                   NaN          NaN\n",
       "3           South Region        125580448                   NaN          NaN\n",
       "4            West Region         78347268                   NaN          NaN\n",
       "5                Alabama          4903185               Alabama           AL\n",
       "6                 Alaska           731545                Alaska           AK\n",
       "7                Arizona          7278717               Arizona           AZ\n",
       "8               Arkansas          3017804              Arkansas           AR\n",
       "9             California         39512223            California           CA\n",
       "10              Colorado          5758736              Colorado           CO\n",
       "11           Connecticut          3565287           Connecticut           CT\n",
       "12              Delaware           973764              Delaware           DE\n",
       "13  District of Columbia           705749  District of Columbia           DC\n",
       "14               Florida         21477737               Florida           FL\n",
       "15               Georgia         10617423               Georgia           GA\n",
       "16                Hawaii          1415872                Hawaii           HI\n",
       "17                 Idaho          1787065                 Idaho           ID\n",
       "18              Illinois         12671821              Illinois           IL\n",
       "19               Indiana          6732219               Indiana           IN\n",
       "20                  Iowa          3155070                  Iowa           IA\n",
       "21                Kansas          2913314                Kansas           KS\n",
       "22              Kentucky          4467673              Kentucky           KY\n",
       "23             Louisiana          4648794             Louisiana           LA\n",
       "24                 Maine          1344212                 Maine           ME\n",
       "25              Maryland          6045680              Maryland           MD\n",
       "26         Massachusetts          6892503         Massachusetts           MA\n",
       "27              Michigan          9986857              Michigan           MI\n",
       "28             Minnesota          5639632             Minnesota           MN\n",
       "29           Mississippi          2976149           Mississippi           MS\n",
       "30              Missouri          6137428              Missouri           MO\n",
       "31               Montana          1068778               Montana           MT\n",
       "32              Nebraska          1934408              Nebraska           NE\n",
       "33                Nevada          3080156                Nevada           NV\n",
       "34         New Hampshire          1359711         New Hampshire           NH\n",
       "35            New Jersey          8882190            New Jersey           NJ\n",
       "36            New Mexico          2096829            New Mexico           NM\n",
       "37              New York         19453561              New York           NY\n",
       "38        North Carolina         10488084        North Carolina           NC\n",
       "39          North Dakota           762062          North Dakota           ND\n",
       "40                  Ohio         11689100                  Ohio           OH\n",
       "41              Oklahoma          3956971              Oklahoma           OK\n",
       "42                Oregon          4217737                Oregon           OR\n",
       "43          Pennsylvania         12801989          Pennsylvania           PA\n",
       "44          Rhode Island          1059361          Rhode Island           RI\n",
       "45        South Carolina          5148714        South Carolina           SC\n",
       "46          South Dakota           884659          South Dakota           SD\n",
       "47             Tennessee          6829174             Tennessee           TN\n",
       "48                 Texas         28995881                 Texas           TX\n",
       "49                  Utah          3205958                  Utah           UT\n",
       "50               Vermont           623989               Vermont           VT\n",
       "51              Virginia          8535519              Virginia           VA\n",
       "52            Washington          7614893            Washington           WA\n",
       "53         West Virginia          1792147         West Virginia           WV\n",
       "54             Wisconsin          5822434             Wisconsin           WI\n",
       "55               Wyoming           578759               Wyoming           WY\n",
       "56           Puerto Rico          3193694           Puerto Rico           PR"
      ]
     },
     "execution_count": 29,
     "metadata": {},
     "output_type": "execute_result"
    }
   ],
   "source": [
    "#Merge the population DF with the state abbreviations so that we can fold it into the totals by state later on\n",
    "population= population.merge(state_codes, how='left', left_on='NAME', right_on='State Name')\n",
    "population"
   ]
  },
  {
   "cell_type": "code",
   "execution_count": 30,
   "id": "c9bf23e0-1215-435a-a478-03d4fcf38d45",
   "metadata": {},
   "outputs": [],
   "source": [
    "#Remove the first five rows of total and regional summaries\n",
    "population = population.iloc[5:]"
   ]
  },
  {
   "cell_type": "code",
   "execution_count": 31,
   "id": "4f3b3c4e-ffc1-4372-8d28-efcab0c25cac",
   "metadata": {},
   "outputs": [
    {
     "name": "stderr",
     "output_type": "stream",
     "text": [
      "/Users/johntate/opt/anaconda3/lib/python3.8/site-packages/pandas/core/frame.py:4308: SettingWithCopyWarning: \n",
      "A value is trying to be set on a copy of a slice from a DataFrame\n",
      "\n",
      "See the caveats in the documentation: https://pandas.pydata.org/pandas-docs/stable/user_guide/indexing.html#returning-a-view-versus-a-copy\n",
      "  return super().drop(\n"
     ]
    },
    {
     "data": {
      "text/html": [
       "<div>\n",
       "<style scoped>\n",
       "    .dataframe tbody tr th:only-of-type {\n",
       "        vertical-align: middle;\n",
       "    }\n",
       "\n",
       "    .dataframe tbody tr th {\n",
       "        vertical-align: top;\n",
       "    }\n",
       "\n",
       "    .dataframe thead th {\n",
       "        text-align: right;\n",
       "    }\n",
       "</style>\n",
       "<table border=\"1\" class=\"dataframe\">\n",
       "  <thead>\n",
       "    <tr style=\"text-align: right;\">\n",
       "      <th></th>\n",
       "      <th>NAME</th>\n",
       "      <th>POPESTIMATE2019</th>\n",
       "      <th>Abbreviation</th>\n",
       "    </tr>\n",
       "  </thead>\n",
       "  <tbody>\n",
       "    <tr>\n",
       "      <th>5</th>\n",
       "      <td>Alabama</td>\n",
       "      <td>4903185</td>\n",
       "      <td>AL</td>\n",
       "    </tr>\n",
       "    <tr>\n",
       "      <th>6</th>\n",
       "      <td>Alaska</td>\n",
       "      <td>731545</td>\n",
       "      <td>AK</td>\n",
       "    </tr>\n",
       "    <tr>\n",
       "      <th>7</th>\n",
       "      <td>Arizona</td>\n",
       "      <td>7278717</td>\n",
       "      <td>AZ</td>\n",
       "    </tr>\n",
       "    <tr>\n",
       "      <th>8</th>\n",
       "      <td>Arkansas</td>\n",
       "      <td>3017804</td>\n",
       "      <td>AR</td>\n",
       "    </tr>\n",
       "    <tr>\n",
       "      <th>9</th>\n",
       "      <td>California</td>\n",
       "      <td>39512223</td>\n",
       "      <td>CA</td>\n",
       "    </tr>\n",
       "  </tbody>\n",
       "</table>\n",
       "</div>"
      ],
      "text/plain": [
       "         NAME  POPESTIMATE2019 Abbreviation\n",
       "5     Alabama          4903185           AL\n",
       "6      Alaska           731545           AK\n",
       "7     Arizona          7278717           AZ\n",
       "8    Arkansas          3017804           AR\n",
       "9  California         39512223           CA"
      ]
     },
     "execution_count": 31,
     "metadata": {},
     "output_type": "execute_result"
    }
   ],
   "source": [
    "population.drop('State Name', axis = 1, inplace = True)\n",
    "population.head()"
   ]
  },
  {
   "cell_type": "markdown",
   "id": "1277598e-1d37-4c24-a451-7116df362c93",
   "metadata": {},
   "source": [
    "## Summary Statistics"
   ]
  },
  {
   "cell_type": "markdown",
   "id": "6c948385-ce4e-4d6c-a160-ca5e98866e3d",
   "metadata": {},
   "source": [
    "SS to look at:\n",
    "- For all quantitative variables list min, max, median, and standard deviation. It's probably worth doing this for initial loan amount, jobs reported, proceed by category, total amount forgiven.\n",
    "- For categorical variables create a frequency table. Variables to do this for include gender, race/ethnicity, franchise (yes vs no), whether the loan has been forgiven, veteran, nonprofit\n",
    "- For larger categorical variables let's look at frequency tables of the top and bottom ten in terms of loans approved"
   ]
  },
  {
   "cell_type": "code",
   "execution_count": 32,
   "id": "db420343-606b-4611-80ee-faf8e3ee50df",
   "metadata": {},
   "outputs": [
    {
     "data": {
      "text/plain": [
       "count    1.000000e+05\n",
       "mean     2.957491e+05\n",
       "std      5.878971e+05\n",
       "min      1.200000e+01\n",
       "25%      2.879938e+04\n",
       "50%      1.547360e+05\n",
       "75%      3.066000e+05\n",
       "max      1.000000e+07\n",
       "Name: InitialApprovalAmount, dtype: float64"
      ]
     },
     "execution_count": 32,
     "metadata": {},
     "output_type": "execute_result"
    }
   ],
   "source": [
    "#Initial loan amount statistics\n",
    "df['InitialApprovalAmount'].describe()"
   ]
  },
  {
   "cell_type": "code",
   "execution_count": 33,
   "id": "db48eaf3-643e-4916-b184-86774d58d623",
   "metadata": {},
   "outputs": [
    {
     "data": {
      "text/plain": [
       "154736.0"
      ]
     },
     "execution_count": 33,
     "metadata": {},
     "output_type": "execute_result"
    }
   ],
   "source": [
    "df['InitialApprovalAmount'].median()"
   ]
  },
  {
   "cell_type": "code",
   "execution_count": 34,
   "id": "ed327c93-0cf5-473e-99e6-14ecd1755bc0",
   "metadata": {},
   "outputs": [
    {
     "data": {
      "text/plain": [
       "count    100000.000000\n",
       "mean         29.625370\n",
       "std          53.901224\n",
       "min           1.000000\n",
       "25%           3.000000\n",
       "50%          13.000000\n",
       "75%          32.000000\n",
       "max         500.000000\n",
       "Name: JobsReported, dtype: float64"
      ]
     },
     "execution_count": 34,
     "metadata": {},
     "output_type": "execute_result"
    }
   ],
   "source": [
    "#Jobs repported statistics\n",
    "df['JobsReported'].describe()"
   ]
  },
  {
   "cell_type": "code",
   "execution_count": 35,
   "id": "311d3e87-6852-47e8-a815-1812290eb973",
   "metadata": {},
   "outputs": [
    {
     "data": {
      "text/plain": [
       "13.0"
      ]
     },
     "execution_count": 35,
     "metadata": {},
     "output_type": "execute_result"
    }
   ],
   "source": [
    "df['JobsReported'].median()"
   ]
  },
  {
   "cell_type": "code",
   "execution_count": 36,
   "id": "0654c158-0729-460c-a889-79800c1116d8",
   "metadata": {},
   "outputs": [
    {
     "data": {
      "text/plain": [
       "count    8.240700e+04\n",
       "mean     3.003875e+05\n",
       "std      5.900027e+05\n",
       "min      1.000000e-02\n",
       "25%      3.163068e+04\n",
       "50%      1.563561e+05\n",
       "75%      3.107408e+05\n",
       "max      1.015397e+07\n",
       "Name: ForgivenessAmount, dtype: float64"
      ]
     },
     "execution_count": 36,
     "metadata": {},
     "output_type": "execute_result"
    }
   ],
   "source": [
    "df['ForgivenessAmount'].describe()"
   ]
  },
  {
   "cell_type": "code",
   "execution_count": 37,
   "id": "d9084526-705a-4d27-964d-327dde284ab9",
   "metadata": {},
   "outputs": [
    {
     "data": {
      "text/plain": [
       "156356.15"
      ]
     },
     "execution_count": 37,
     "metadata": {},
     "output_type": "execute_result"
    }
   ],
   "source": [
    "df['ForgivenessAmount'].median()"
   ]
  },
  {
   "cell_type": "code",
   "execution_count": 38,
   "id": "b877696f-facf-4d7b-b064-5dabdee7307b",
   "metadata": {},
   "outputs": [
    {
     "data": {
      "text/plain": [
       "count    9.985600e+04\n",
       "mean     2.857124e+05\n",
       "std      5.606280e+05\n",
       "min      0.000000e+00\n",
       "25%      2.800000e+04\n",
       "50%      1.504995e+05\n",
       "75%      2.986345e+05\n",
       "max      1.000000e+07\n",
       "Name: PAYROLL_PROCEED, dtype: float64"
      ]
     },
     "execution_count": 38,
     "metadata": {},
     "output_type": "execute_result"
    }
   ],
   "source": [
    "df['PAYROLL_PROCEED'].describe()"
   ]
  },
  {
   "cell_type": "code",
   "execution_count": 39,
   "id": "9dfa40c7-da3a-431d-96e1-31ca44315b08",
   "metadata": {},
   "outputs": [
    {
     "data": {
      "text/plain": [
       "150499.5"
      ]
     },
     "execution_count": 39,
     "metadata": {},
     "output_type": "execute_result"
    }
   ],
   "source": [
    "df['PAYROLL_PROCEED'].median()"
   ]
  },
  {
   "cell_type": "code",
   "execution_count": 40,
   "id": "473343d3-d2fc-486b-8776-51b85b8070cb",
   "metadata": {},
   "outputs": [
    {
     "data": {
      "text/plain": [
       "Unanswered    100000\n",
       "Name: Gender, dtype: int64"
      ]
     },
     "execution_count": 40,
     "metadata": {},
     "output_type": "execute_result"
    }
   ],
   "source": [
    "#Now let's start with some categorical data\n",
    "df['Gender'].value_counts()"
   ]
  },
  {
   "cell_type": "markdown",
   "id": "34301a44-bb3a-4563-a0f6-02fc382037f7",
   "metadata": {},
   "source": [
    "Unfortunately it looks like gender has been redacted or corrupted in both original data sets. We won't be able to to work with any gender data here but it's something worth trying to figure out how to include in any future analysis."
   ]
  },
  {
   "cell_type": "code",
   "execution_count": 41,
   "id": "1d6831a4-eb9a-4f3f-98da-41a766932369",
   "metadata": {},
   "outputs": [
    {
     "data": {
      "text/plain": [
       "Unanswered                                   78052\n",
       "White                                        14673\n",
       "Asian                                         3487\n",
       "Black or African American                     2820\n",
       "American Indian or Alaska Native               861\n",
       "Native Hawaiian or Other Pacific Islander      101\n",
       "Multi Group                                      3\n",
       "Eskimo & Aleut                                   2\n",
       "Puerto Rican                                     1\n",
       "Name: Race, dtype: int64"
      ]
     },
     "execution_count": 41,
     "metadata": {},
     "output_type": "execute_result"
    }
   ],
   "source": [
    "df['Race'].value_counts(dropna = False)"
   ]
  },
  {
   "cell_type": "markdown",
   "id": "cb9fc638-97d4-4239-964b-519d3c47132b",
   "metadata": {},
   "source": [
    "### Franchise Vs. Independent"
   ]
  },
  {
   "cell_type": "code",
   "execution_count": 42,
   "id": "33db8d28-b1ad-4214-8e39-6962a7775648",
   "metadata": {},
   "outputs": [
    {
     "data": {
      "text/plain": [
       "NaN                                                                                        97366\n",
       "Subway                                                                                       110\n",
       "General Motors, LLC (Chevrolet, Buick, GM, Cadillac) Dealer Sales and Service Agreement      105\n",
       "McDonalds                                                                                     94\n",
       "Ford Motor Company Dealer Sales and Service Agreement                                         72\n",
       "IHOP                                                                                          57\n",
       "Chrysler - Sales and Service Agreement                                                        35\n",
       "Holiday Inn Express (License Agreement)                                                       34\n",
       "Hampton Inn                                                                                   33\n",
       "Great Clips                                                                                   32\n",
       "Massage Envy                                                                                  31\n",
       "Name: FranchiseName, dtype: int64"
      ]
     },
     "execution_count": 42,
     "metadata": {},
     "output_type": "execute_result"
    }
   ],
   "source": [
    "#Try two, let's break down the ratio of franchise to non-franchise locations \n",
    "#and look at what the most frequently occuring franchises were\n",
    "\n",
    "franchise = df['FranchiseName'].value_counts(dropna = False).nlargest(11)\n",
    "franchise"
   ]
  },
  {
   "cell_type": "markdown",
   "id": "4d3baa5f-0163-4858-b9e4-42025321fb9b",
   "metadata": {},
   "source": [
    "It looks like the vast majority were non-franchised establishments. Let's look at the same information as % of total for perspective."
   ]
  },
  {
   "cell_type": "code",
   "execution_count": 43,
   "id": "c97dfccb-f9e8-49f4-902a-fffdc4de9619",
   "metadata": {},
   "outputs": [
    {
     "data": {
      "text/plain": [
       "NaN                                                                                        0.97366\n",
       "Subway                                                                                     0.00110\n",
       "General Motors, LLC (Chevrolet, Buick, GM, Cadillac) Dealer Sales and Service Agreement    0.00105\n",
       "McDonalds                                                                                  0.00094\n",
       "Ford Motor Company Dealer Sales and Service Agreement                                      0.00072\n",
       "IHOP                                                                                       0.00057\n",
       "Chrysler - Sales and Service Agreement                                                     0.00035\n",
       "Holiday Inn Express (License Agreement)                                                    0.00034\n",
       "Hampton Inn                                                                                0.00033\n",
       "Great Clips                                                                                0.00032\n",
       "Massage Envy                                                                               0.00031\n",
       "Name: FranchiseName, dtype: float64"
      ]
     },
     "execution_count": 43,
     "metadata": {},
     "output_type": "execute_result"
    }
   ],
   "source": [
    "franchise_norm = df['FranchiseName'].value_counts(normalize = True, dropna = False).nlargest(11)\n",
    "franchise_norm"
   ]
  },
  {
   "cell_type": "markdown",
   "id": "d20bcbc5-d048-457d-a889-262887bb9045",
   "metadata": {},
   "source": [
    "### Loan Amounts (Binned)\n",
    "\n",
    "The summary statistics for loan amounts were useful but let's also take a look at them grouped to give us some additional feel for distribution. *Note that $50k - $100k is out of order and appears at the end."
   ]
  },
  {
   "cell_type": "code",
   "execution_count": 44,
   "id": "5378dba7-6fba-4ae3-b1c5-4cc626d70f1b",
   "metadata": {},
   "outputs": [],
   "source": [
    "Loan_cat_dist = df['Loan_Cat'].value_counts()"
   ]
  },
  {
   "cell_type": "code",
   "execution_count": 45,
   "id": "3d776d09-0380-42b7-ad30-0a30c4c7710f",
   "metadata": {},
   "outputs": [
    {
     "data": {
      "text/plain": [
       "< $50k         0.34240\n",
       "$100k-$250k    0.25246\n",
       "$250k-$500k    0.16532\n",
       "$500k+         0.14301\n",
       "$50k-$100k     0.09681\n",
       "Name: Loan_Cat, dtype: float64"
      ]
     },
     "execution_count": 45,
     "metadata": {},
     "output_type": "execute_result"
    }
   ],
   "source": [
    "#Let's look at the same data normalized\n",
    "Loan_cat_dist_norm = df['Loan_Cat'].value_counts(normalize = True)\n",
    "Loan_cat_dist_norm"
   ]
  },
  {
   "cell_type": "markdown",
   "id": "555c23bf-f18e-4432-90c2-710178168fcb",
   "metadata": {},
   "source": [
    "### Veterans"
   ]
  },
  {
   "cell_type": "code",
   "execution_count": 46,
   "id": "4e683e36-2709-409d-9005-89f852aeb5f3",
   "metadata": {},
   "outputs": [
    {
     "data": {
      "text/plain": [
       "Unanswered    100000\n",
       "Name: Veteran, dtype: int64"
      ]
     },
     "execution_count": 46,
     "metadata": {},
     "output_type": "execute_result"
    }
   ],
   "source": [
    "vets = df['Veteran'].value_counts()\n",
    "vets"
   ]
  },
  {
   "cell_type": "markdown",
   "id": "cff0cda8-6e9d-4302-b87e-c9033f9f36c5",
   "metadata": {},
   "source": [
    "Bummer, it looks like veteran status had the same issue as gender."
   ]
  },
  {
   "cell_type": "markdown",
   "id": "b702011e-94f4-429c-94ec-dfdc71a48e19",
   "metadata": {},
   "source": [
    "### Urban vs. Rural and Development Zones"
   ]
  },
  {
   "cell_type": "code",
   "execution_count": 47,
   "id": "44dab608-6926-41d6-a3fb-f6d9d6496b69",
   "metadata": {},
   "outputs": [
    {
     "data": {
      "text/plain": [
       "U    83413\n",
       "R    16587\n",
       "Name: RuralUrbanIndicator, dtype: int64"
      ]
     },
     "execution_count": 47,
     "metadata": {},
     "output_type": "execute_result"
    }
   ],
   "source": [
    "#Check the spread between businesses that were located in urban and rural areas that received loans.\n",
    "urban_rural = df['RuralUrbanIndicator'].value_counts()\n",
    "urban_rural"
   ]
  },
  {
   "cell_type": "code",
   "execution_count": 48,
   "id": "8c1cee61-78cc-493b-a7b0-f16e8110470c",
   "metadata": {},
   "outputs": [
    {
     "data": {
      "text/plain": [
       "U    0.83413\n",
       "R    0.16587\n",
       "Name: RuralUrbanIndicator, dtype: float64"
      ]
     },
     "execution_count": 48,
     "metadata": {},
     "output_type": "execute_result"
    }
   ],
   "source": [
    "urban_rural_norm = df['RuralUrbanIndicator'].value_counts(normalize= True)\n",
    "urban_rural_norm"
   ]
  },
  {
   "cell_type": "code",
   "execution_count": 49,
   "id": "2fc4da75-a309-42f9-8847-43aaaaccc621",
   "metadata": {},
   "outputs": [
    {
     "data": {
      "text/plain": [
       "N    72232\n",
       "Y    27768\n",
       "Name: HubzoneIndicator, dtype: int64"
      ]
     },
     "execution_count": 49,
     "metadata": {},
     "output_type": "execute_result"
    }
   ],
   "source": [
    "#Check the frequency of businesses that were located in Hub Zones (see SBA documentation)\n",
    "hub = df['HubzoneIndicator'].value_counts(dropna = False)\n",
    "hub"
   ]
  },
  {
   "cell_type": "code",
   "execution_count": 50,
   "id": "e265e761-b197-4de3-aceb-686631129b9d",
   "metadata": {},
   "outputs": [
    {
     "data": {
      "text/plain": [
       "N    0.72232\n",
       "Y    0.27768\n",
       "Name: HubzoneIndicator, dtype: float64"
      ]
     },
     "execution_count": 50,
     "metadata": {},
     "output_type": "execute_result"
    }
   ],
   "source": [
    "hub_norm = df['HubzoneIndicator'].value_counts(dropna = False, normalize = True)\n",
    "hub_norm"
   ]
  },
  {
   "cell_type": "markdown",
   "id": "f3466925-f26c-4d40-88c0-483b1ebd8c44",
   "metadata": {},
   "source": [
    "### Non-profit"
   ]
  },
  {
   "cell_type": "code",
   "execution_count": 51,
   "id": "68eb65d5-5b7e-4b50-9b04-a16a4c8e4b36",
   "metadata": {},
   "outputs": [
    {
     "data": {
      "text/plain": [
       "NaN    95825\n",
       "Y       4175\n",
       "Name: NonProfit, dtype: int64"
      ]
     },
     "execution_count": 51,
     "metadata": {},
     "output_type": "execute_result"
    }
   ],
   "source": [
    "#Check for the rate at which non-profits were awarded loans\n",
    "nonprofit = df['NonProfit'].value_counts(dropna = False)\n",
    "nonprofit"
   ]
  },
  {
   "cell_type": "code",
   "execution_count": 52,
   "id": "5f34f4a4-01de-48a9-8c4d-a77ece9450f6",
   "metadata": {},
   "outputs": [
    {
     "data": {
      "text/plain": [
       "NaN    0.95825\n",
       "Y      0.04175\n",
       "Name: NonProfit, dtype: float64"
      ]
     },
     "execution_count": 52,
     "metadata": {},
     "output_type": "execute_result"
    }
   ],
   "source": [
    "nonprofit_norm = df['NonProfit'].value_counts(dropna = False, normalize = True)\n",
    "nonprofit_norm"
   ]
  },
  {
   "cell_type": "markdown",
   "id": "c61c326d-c589-4a69-914e-2c6d3d476d43",
   "metadata": {},
   "source": [
    "### Breakdown by state\n",
    "\n",
    "We'll need to create a new data frame using our list of states/population df to run this analysis"
   ]
  },
  {
   "cell_type": "code",
   "execution_count": 53,
   "id": "86cff32a-6f1d-4a7b-bcc0-7d22e1085f2b",
   "metadata": {},
   "outputs": [
    {
     "data": {
      "text/html": [
       "<div>\n",
       "<style scoped>\n",
       "    .dataframe tbody tr th:only-of-type {\n",
       "        vertical-align: middle;\n",
       "    }\n",
       "\n",
       "    .dataframe tbody tr th {\n",
       "        vertical-align: top;\n",
       "    }\n",
       "\n",
       "    .dataframe thead th {\n",
       "        text-align: right;\n",
       "    }\n",
       "</style>\n",
       "<table border=\"1\" class=\"dataframe\">\n",
       "  <thead>\n",
       "    <tr style=\"text-align: right;\">\n",
       "      <th></th>\n",
       "      <th>BorrowerState</th>\n",
       "      <th>InitialApprovalAmount</th>\n",
       "    </tr>\n",
       "  </thead>\n",
       "  <tbody>\n",
       "    <tr>\n",
       "      <th>5</th>\n",
       "      <td>CA</td>\n",
       "      <td>5.195085e+09</td>\n",
       "    </tr>\n",
       "    <tr>\n",
       "      <th>37</th>\n",
       "      <td>NY</td>\n",
       "      <td>2.282792e+09</td>\n",
       "    </tr>\n",
       "    <tr>\n",
       "      <th>47</th>\n",
       "      <td>TX</td>\n",
       "      <td>2.194556e+09</td>\n",
       "    </tr>\n",
       "    <tr>\n",
       "      <th>10</th>\n",
       "      <td>FL</td>\n",
       "      <td>1.543993e+09</td>\n",
       "    </tr>\n",
       "    <tr>\n",
       "      <th>16</th>\n",
       "      <td>IL</td>\n",
       "      <td>1.253803e+09</td>\n",
       "    </tr>\n",
       "  </tbody>\n",
       "</table>\n",
       "</div>"
      ],
      "text/plain": [
       "   BorrowerState  InitialApprovalAmount\n",
       "5             CA           5.195085e+09\n",
       "37            NY           2.282792e+09\n",
       "47            TX           2.194556e+09\n",
       "10            FL           1.543993e+09\n",
       "16            IL           1.253803e+09"
      ]
     },
     "execution_count": 53,
     "metadata": {},
     "output_type": "execute_result"
    }
   ],
   "source": [
    "#Create a new data frame with the total loans awarded for each state\n",
    "\n",
    "totals_by_state = df.groupby('BorrowerState')['InitialApprovalAmount'].sum().reset_index().sort_values(by = 'InitialApprovalAmount', ascending = False)\n",
    "totals_by_state.head()"
   ]
  },
  {
   "cell_type": "code",
   "execution_count": 54,
   "id": "03eef4b7-bb0b-4829-8564-72b97933f7d4",
   "metadata": {},
   "outputs": [
    {
     "data": {
      "text/html": [
       "<div>\n",
       "<style scoped>\n",
       "    .dataframe tbody tr th:only-of-type {\n",
       "        vertical-align: middle;\n",
       "    }\n",
       "\n",
       "    .dataframe tbody tr th {\n",
       "        vertical-align: top;\n",
       "    }\n",
       "\n",
       "    .dataframe thead th {\n",
       "        text-align: right;\n",
       "    }\n",
       "</style>\n",
       "<table border=\"1\" class=\"dataframe\">\n",
       "  <thead>\n",
       "    <tr style=\"text-align: right;\">\n",
       "      <th></th>\n",
       "      <th>NAME</th>\n",
       "      <th>POPESTIMATE2019</th>\n",
       "      <th>Abbreviation</th>\n",
       "    </tr>\n",
       "  </thead>\n",
       "  <tbody>\n",
       "    <tr>\n",
       "      <th>5</th>\n",
       "      <td>Alabama</td>\n",
       "      <td>4903185</td>\n",
       "      <td>AL</td>\n",
       "    </tr>\n",
       "    <tr>\n",
       "      <th>6</th>\n",
       "      <td>Alaska</td>\n",
       "      <td>731545</td>\n",
       "      <td>AK</td>\n",
       "    </tr>\n",
       "    <tr>\n",
       "      <th>7</th>\n",
       "      <td>Arizona</td>\n",
       "      <td>7278717</td>\n",
       "      <td>AZ</td>\n",
       "    </tr>\n",
       "    <tr>\n",
       "      <th>8</th>\n",
       "      <td>Arkansas</td>\n",
       "      <td>3017804</td>\n",
       "      <td>AR</td>\n",
       "    </tr>\n",
       "    <tr>\n",
       "      <th>9</th>\n",
       "      <td>California</td>\n",
       "      <td>39512223</td>\n",
       "      <td>CA</td>\n",
       "    </tr>\n",
       "  </tbody>\n",
       "</table>\n",
       "</div>"
      ],
      "text/plain": [
       "         NAME  POPESTIMATE2019 Abbreviation\n",
       "5     Alabama          4903185           AL\n",
       "6      Alaska           731545           AK\n",
       "7     Arizona          7278717           AZ\n",
       "8    Arkansas          3017804           AR\n",
       "9  California         39512223           CA"
      ]
     },
     "execution_count": 54,
     "metadata": {},
     "output_type": "execute_result"
    }
   ],
   "source": [
    "population.head()"
   ]
  },
  {
   "cell_type": "code",
   "execution_count": 55,
   "id": "cb94811a-35b2-44c4-ae0c-06193bf010a7",
   "metadata": {},
   "outputs": [],
   "source": [
    "#Join the totals by state and population data frames\n",
    "totals_by_state = totals_by_state.merge(population, how='left', left_on='BorrowerState', \n",
    "                                       right_on='Abbreviation')"
   ]
  },
  {
   "cell_type": "code",
   "execution_count": 56,
   "id": "537e0f22-22f9-4ab7-9b0e-35bfdf53aa1e",
   "metadata": {},
   "outputs": [
    {
     "data": {
      "text/html": [
       "<div>\n",
       "<style scoped>\n",
       "    .dataframe tbody tr th:only-of-type {\n",
       "        vertical-align: middle;\n",
       "    }\n",
       "\n",
       "    .dataframe tbody tr th {\n",
       "        vertical-align: top;\n",
       "    }\n",
       "\n",
       "    .dataframe thead th {\n",
       "        text-align: right;\n",
       "    }\n",
       "</style>\n",
       "<table border=\"1\" class=\"dataframe\">\n",
       "  <thead>\n",
       "    <tr style=\"text-align: right;\">\n",
       "      <th></th>\n",
       "      <th>BorrowerState</th>\n",
       "      <th>InitialApprovalAmount</th>\n",
       "      <th>NAME</th>\n",
       "      <th>POPESTIMATE2019</th>\n",
       "      <th>Abbreviation</th>\n",
       "    </tr>\n",
       "  </thead>\n",
       "  <tbody>\n",
       "    <tr>\n",
       "      <th>0</th>\n",
       "      <td>CA</td>\n",
       "      <td>5.195085e+09</td>\n",
       "      <td>California</td>\n",
       "      <td>39512223.0</td>\n",
       "      <td>CA</td>\n",
       "    </tr>\n",
       "    <tr>\n",
       "      <th>1</th>\n",
       "      <td>NY</td>\n",
       "      <td>2.282792e+09</td>\n",
       "      <td>New York</td>\n",
       "      <td>19453561.0</td>\n",
       "      <td>NY</td>\n",
       "    </tr>\n",
       "    <tr>\n",
       "      <th>2</th>\n",
       "      <td>TX</td>\n",
       "      <td>2.194556e+09</td>\n",
       "      <td>Texas</td>\n",
       "      <td>28995881.0</td>\n",
       "      <td>TX</td>\n",
       "    </tr>\n",
       "    <tr>\n",
       "      <th>3</th>\n",
       "      <td>FL</td>\n",
       "      <td>1.543993e+09</td>\n",
       "      <td>Florida</td>\n",
       "      <td>21477737.0</td>\n",
       "      <td>FL</td>\n",
       "    </tr>\n",
       "    <tr>\n",
       "      <th>4</th>\n",
       "      <td>IL</td>\n",
       "      <td>1.253803e+09</td>\n",
       "      <td>Illinois</td>\n",
       "      <td>12671821.0</td>\n",
       "      <td>IL</td>\n",
       "    </tr>\n",
       "  </tbody>\n",
       "</table>\n",
       "</div>"
      ],
      "text/plain": [
       "  BorrowerState  InitialApprovalAmount        NAME  POPESTIMATE2019  \\\n",
       "0            CA           5.195085e+09  California       39512223.0   \n",
       "1            NY           2.282792e+09    New York       19453561.0   \n",
       "2            TX           2.194556e+09       Texas       28995881.0   \n",
       "3            FL           1.543993e+09     Florida       21477737.0   \n",
       "4            IL           1.253803e+09    Illinois       12671821.0   \n",
       "\n",
       "  Abbreviation  \n",
       "0           CA  \n",
       "1           NY  \n",
       "2           TX  \n",
       "3           FL  \n",
       "4           IL  "
      ]
     },
     "execution_count": 56,
     "metadata": {},
     "output_type": "execute_result"
    }
   ],
   "source": [
    "#Check to make sure that our merge was successful\n",
    "totals_by_state.head(5)"
   ]
  },
  {
   "cell_type": "code",
   "execution_count": 57,
   "id": "a48c022d-258f-45c8-b45e-58889686abd8",
   "metadata": {},
   "outputs": [
    {
     "data": {
      "text/html": [
       "<div>\n",
       "<style scoped>\n",
       "    .dataframe tbody tr th:only-of-type {\n",
       "        vertical-align: middle;\n",
       "    }\n",
       "\n",
       "    .dataframe tbody tr th {\n",
       "        vertical-align: top;\n",
       "    }\n",
       "\n",
       "    .dataframe thead th {\n",
       "        text-align: right;\n",
       "    }\n",
       "</style>\n",
       "<table border=\"1\" class=\"dataframe\">\n",
       "  <thead>\n",
       "    <tr style=\"text-align: right;\">\n",
       "      <th></th>\n",
       "      <th>BorrowerState</th>\n",
       "      <th>InitialApprovalAmount</th>\n",
       "      <th>NAME</th>\n",
       "      <th>POPESTIMATE2019</th>\n",
       "      <th>Abbreviation</th>\n",
       "      <th>Loan_per_cap</th>\n",
       "    </tr>\n",
       "  </thead>\n",
       "  <tbody>\n",
       "    <tr>\n",
       "      <th>0</th>\n",
       "      <td>CA</td>\n",
       "      <td>5.195085e+09</td>\n",
       "      <td>California</td>\n",
       "      <td>39512223.0</td>\n",
       "      <td>CA</td>\n",
       "      <td>131.480445</td>\n",
       "    </tr>\n",
       "    <tr>\n",
       "      <th>1</th>\n",
       "      <td>NY</td>\n",
       "      <td>2.282792e+09</td>\n",
       "      <td>New York</td>\n",
       "      <td>19453561.0</td>\n",
       "      <td>NY</td>\n",
       "      <td>117.345733</td>\n",
       "    </tr>\n",
       "    <tr>\n",
       "      <th>2</th>\n",
       "      <td>TX</td>\n",
       "      <td>2.194556e+09</td>\n",
       "      <td>Texas</td>\n",
       "      <td>28995881.0</td>\n",
       "      <td>TX</td>\n",
       "      <td>75.685082</td>\n",
       "    </tr>\n",
       "    <tr>\n",
       "      <th>3</th>\n",
       "      <td>FL</td>\n",
       "      <td>1.543993e+09</td>\n",
       "      <td>Florida</td>\n",
       "      <td>21477737.0</td>\n",
       "      <td>FL</td>\n",
       "      <td>71.888089</td>\n",
       "    </tr>\n",
       "    <tr>\n",
       "      <th>4</th>\n",
       "      <td>IL</td>\n",
       "      <td>1.253803e+09</td>\n",
       "      <td>Illinois</td>\n",
       "      <td>12671821.0</td>\n",
       "      <td>IL</td>\n",
       "      <td>98.944154</td>\n",
       "    </tr>\n",
       "  </tbody>\n",
       "</table>\n",
       "</div>"
      ],
      "text/plain": [
       "  BorrowerState  InitialApprovalAmount        NAME  POPESTIMATE2019  \\\n",
       "0            CA           5.195085e+09  California       39512223.0   \n",
       "1            NY           2.282792e+09    New York       19453561.0   \n",
       "2            TX           2.194556e+09       Texas       28995881.0   \n",
       "3            FL           1.543993e+09     Florida       21477737.0   \n",
       "4            IL           1.253803e+09    Illinois       12671821.0   \n",
       "\n",
       "  Abbreviation  Loan_per_cap  \n",
       "0           CA    131.480445  \n",
       "1           NY    117.345733  \n",
       "2           TX     75.685082  \n",
       "3           FL     71.888089  \n",
       "4           IL     98.944154  "
      ]
     },
     "execution_count": 57,
     "metadata": {},
     "output_type": "execute_result"
    }
   ],
   "source": [
    "#Create a new column that calculates the total amount loaned per citizen\n",
    "totals_by_state['Loan_per_cap'] = totals_by_state.apply(lambda x: x['InitialApprovalAmount'] / x['POPESTIMATE2019'], axis = 1)\n",
    "totals_by_state.head()"
   ]
  },
  {
   "cell_type": "code",
   "execution_count": 58,
   "id": "0bddc5c1-e72d-484b-8840-6b01cff9bfc3",
   "metadata": {},
   "outputs": [
    {
     "data": {
      "text/plain": [
       "count     52.000000\n",
       "mean      85.560575\n",
       "std       27.445138\n",
       "min       17.393850\n",
       "25%       69.945709\n",
       "50%       83.305472\n",
       "75%       98.622349\n",
       "max      196.397928\n",
       "Name: Loan_per_cap, dtype: float64"
      ]
     },
     "execution_count": 58,
     "metadata": {},
     "output_type": "execute_result"
    }
   ],
   "source": [
    "totals_by_state['Loan_per_cap'].describe()"
   ]
  },
  {
   "cell_type": "code",
   "execution_count": 59,
   "id": "3be3145e-e41f-4eed-8fb2-a0d921f1b721",
   "metadata": {},
   "outputs": [
    {
     "data": {
      "text/plain": [
       "83.30547200951466"
      ]
     },
     "execution_count": 59,
     "metadata": {},
     "output_type": "execute_result"
    }
   ],
   "source": [
    "totals_by_state['Loan_per_cap'].median()"
   ]
  },
  {
   "cell_type": "markdown",
   "id": "fe5af057-1898-4bae-b894-d1adc8e26f7a",
   "metadata": {},
   "source": [
    "## Visualizations"
   ]
  },
  {
   "cell_type": "markdown",
   "id": "e7ce4f4b-b76f-42b2-9ed7-7597a0ead2c5",
   "metadata": {},
   "source": [
    "Viz to create:\n",
    "\n",
    "- Bar plot with total loans granted by state (for the top ten states) \n",
    "- Bar plot with total loans granted by state (for the bottom ten states)\n",
    "- Bar plot of loans per capita (for the top ten states)\n",
    "- Bar plot of loans per capita (for the bottom ten states)\n",
    "- Line graph of loans granted by date\n",
    "- Scatter plot of jobs reported by employer compared to loan amounts\n",
    "- Bar chart of normalized urban vs. rural breakdown\n",
    "- Bar chart of normalized hub zone breakdown\n",
    "- Map of loans granted per state\n"
   ]
  },
  {
   "cell_type": "code",
   "execution_count": 60,
   "id": "43614186-656b-4117-9fab-318510fec872",
   "metadata": {},
   "outputs": [
    {
     "data": {
      "image/png": "[encoded data removed]",
      "text/plain": [
       "<Figure size 720x360 with 1 Axes>"
      ]
     },
     "metadata": {
      "needs_background": "light"
     },
     "output_type": "display_data"
    }
   ],
   "source": [
    "#Visualize the total amount amount of loans granted by date\n",
    "plt.figure(figsize = (10,5))\n",
    "plt.xticks(rotation=45)\n",
    "plt.style.use('ggplot')\n",
    "\n",
    "ax = sns.lineplot(x = 'DateApproved', y = 'InitialApprovalAmount', data = df, ci = None).set(xlabel = 'Time', \n",
    "                                                                                             ylabel = 'Loan Size in Dollars', \n",
    "                                                                                             title = 'Average Loan Size By Month')\n",
    "plt.savefig('Loans_by_month.png', bbox_inches = 'tight')\n"
   ]
  },
  {
   "cell_type": "code",
   "execution_count": 61,
   "id": "199c093e-790b-4c87-a695-1121d27f5544",
   "metadata": {},
   "outputs": [
    {
     "data": {
      "image/png": "[encoded data removed]",
      "text/plain": [
       "<Figure size 720x360 with 1 Axes>"
      ]
     },
     "metadata": {},
     "output_type": "display_data"
    }
   ],
   "source": [
    "#Visualize the number of jobs reported versus the total amount of the loan\n",
    "plt.figure(figsize = (10,5))\n",
    "plt.style.use('ggplot')\n",
    "ax = sns.scatterplot(x = 'JobsReported', y = 'InitialApprovalAmount', data = df, alpha = .3)\n",
    "ax.set(title = 'Comparison of Loan Amounts vs Number of Employees', xlabel = 'Number of Employees Reported',\n",
    "      ylabel = 'Loan Size in Millions of Dollars')\n",
    "plt.savefig('jobs_vs_loan_amt', bbox_inches = 'tight')"
   ]
  },
  {
   "cell_type": "code",
   "execution_count": 93,
   "id": "7a5fe7fb-2377-46b9-ba7f-c10f06476e50",
   "metadata": {},
   "outputs": [
    {
     "data": {
      "text/plain": [
       "<Figure size 720x360 with 0 Axes>"
      ]
     },
     "metadata": {},
     "output_type": "display_data"
    },
    {
     "data": {
      "image/png": "[encoded data removed]",
      "text/plain": [
       "<Figure size 432x288 with 1 Axes>"
      ]
     },
     "metadata": {},
     "output_type": "display_data"
    }
   ],
   "source": [
    "#Visualize the number of jobs reported versus the total amount of the loan\n",
    "plt.figure(figsize = (10,5))\n",
    "plt.style.use('ggplot')\n",
    "sizes = df['RuralUrbanIndicator'].value_counts()\n",
    "labels = ['Urban', 'Rural']\n",
    "colors = ['', '#cea9bc']\n",
    "colors = ['#003f5c', '#ffa600']\n",
    "\n",
    "fig1, ax1 = plt.subplots()\n",
    "ax1.pie(sizes, labels=labels, autopct='%1.1f%%', pctdistance = 1.22, labeldistance = 1.55, shadow=False, wedgeprops = { 'linewidth' : 2, 'edgecolor' : 'white' },\n",
    "       textprops={'fontsize': 14}, colors = colors)\n",
    "ax1.set_title('Breakdown of Loans Issued in Rural vs. Urban Areas')\n",
    "ax1.axis('equal')\n",
    "\n",
    "plt.savefig('rural_urban.png', bbox_inches = 'tight')"
   ]
  },
  {
   "cell_type": "code",
   "execution_count": 88,
   "id": "4a27d9b3-95fb-4b8b-aa85-7c3399a6fac2",
   "metadata": {},
   "outputs": [
    {
     "data": {
      "image/png": "[encoded data removed]",
      "text/plain": [
       "<Figure size 720x360 with 1 Axes>"
      ]
     },
     "metadata": {},
     "output_type": "display_data"
    }
   ],
   "source": [
    "plt.figure(figsize = (10,5))\n",
    "plt.xticks(rotation = 50)\n",
    "plt.style.use('ggplot')\n",
    "\n",
    "ax = sns.countplot(x = 'Race', data = df, order = df['Race'].value_counts().index)\n",
    "ax.set(title = 'Racial Makeup of Loan Recipients', xlabel = 'Race', \n",
    "      ylabel = 'Volume of Loans')\n",
    "\n",
    "ax.set_xticklabels(['Unanswered', 'White', 'Asian', 'Black or A.A.', 'American Indian',\n",
    "                  'Pacific Islander', 'Multi Group', 'Esimo & Aleut', 'Puerto Rican'])\n",
    "\n",
    "plt.savefig('race1.png', bbox_inches = 'tight')"
   ]
  },
  {
   "cell_type": "code",
   "execution_count": 75,
   "id": "77acb0df-e4e3-4cf7-bcb3-1cc95ff4d4b5",
   "metadata": {},
   "outputs": [
    {
     "data": {
      "image/png": "[encoded data removed]",
      "text/plain": [
       "<Figure size 720x360 with 1 Axes>"
      ]
     },
     "metadata": {},
     "output_type": "display_data"
    }
   ],
   "source": [
    "#Look at the average loan size for the top ten states\n",
    "plt.figure(figsize = (10,5))\n",
    "plt.style.use('ggplot')\n",
    "\n",
    "totals_by_state.sort_values(by = 'InitialApprovalAmount', ignore_index = True, inplace = True, ascending = False)\n",
    "\n",
    "top_ten = totals_by_state.iloc[:10, :].copy()\n",
    "\n",
    "\n",
    "ax = sns.barplot(x = 'BorrowerState', y = 'InitialApprovalAmount', data = top_ten, color = 'indianred').set(xlabel = 'State', \n",
    "                                                                                             ylabel =  'Average Loan Size in $100k Dollars', \n",
    "                                                                                             title = 'Top Ten States by Average Loan Size')\n",
    "\n",
    "plt.savefig('top_ten_state.png')\n"
   ]
  },
  {
   "cell_type": "code",
   "execution_count": 73,
   "id": "e49eb28b-e609-439c-8773-5b347c823609",
   "metadata": {},
   "outputs": [
    {
     "data": {
      "image/png": "[encoded data removed]",
      "text/plain": [
       "<Figure size 720x360 with 1 Axes>"
      ]
     },
     "metadata": {},
     "output_type": "display_data"
    }
   ],
   "source": [
    "#Look at the average loan size for the bottom ten states\n",
    "plt.figure(figsize = (10,5))\n",
    "\n",
    "totals_by_state.sort_values(by = 'InitialApprovalAmount', ignore_index = True, inplace = True, ascending = True)\n",
    "\n",
    "top_ten = totals_by_state.iloc[:10, :].copy()\n",
    "\n",
    "\n",
    "ax = sns.barplot(x = 'BorrowerState', y = 'InitialApprovalAmount', data = top_ten, color= '#5886a5' ).set(xlabel = 'State', \n",
    "                                                                                             ylabel =  'Average Loan Size in $100k Dollars', \n",
    "                                                                                             title = 'Bottom Ten States by Average Loan Size')\n",
    "\n",
    "plt.savefig('bottom_ten_states.png')"
   ]
  },
  {
   "cell_type": "code",
   "execution_count": 76,
   "id": "2b6a7bb1-8fd4-40fc-a9ad-b177d67103df",
   "metadata": {},
   "outputs": [
    {
     "data": {
      "image/png": "[encoded data removed]",
      "text/plain": [
       "<Figure size 720x360 with 1 Axes>"
      ]
     },
     "metadata": {},
     "output_type": "display_data"
    }
   ],
   "source": [
    "#Look at the top ten states in terms of loans per capita\n",
    "plt.figure(figsize = (10,5))\n",
    "plt.style.use('ggplot')\n",
    "\n",
    "totals_by_state.sort_values(by = 'Loan_per_cap', ignore_index = True, inplace = True, ascending = False)\n",
    "\n",
    "top_ten = totals_by_state.iloc[:10]\n",
    "\n",
    "\n",
    "ax = sns.barplot(x = 'BorrowerState', y = 'Loan_per_cap', data = top_ten, color = 'indianred').set(xlabel = 'State', \n",
    "                                                                                             ylabel =  'Loans Per Capita in $', \n",
    "                                                                                             title = 'Top Ten States by Loans Per Capita')\n",
    "plt.savefig('top_ten_state_pc.png')"
   ]
  },
  {
   "cell_type": "code",
   "execution_count": 77,
   "id": "71280c48-74b9-4c67-99e3-40dc7696ccfb",
   "metadata": {},
   "outputs": [
    {
     "data": {
      "image/png": "[encoded data removed]",
      "text/plain": [
       "<Figure size 720x360 with 1 Axes>"
      ]
     },
     "metadata": {},
     "output_type": "display_data"
    }
   ],
   "source": [
    "#Look at the bottom ten states in terms of loans per capita\n",
    "plt.figure(figsize = (10,5))\n",
    "plt.style.use('ggplot')\n",
    "\n",
    "totals_by_state.sort_values(by = 'Loan_per_cap', ignore_index = True, inplace = True, ascending = True)\n",
    "\n",
    "top_ten = totals_by_state.iloc[:10]\n",
    "\n",
    "\n",
    "ax = sns.barplot(x = 'BorrowerState', y = 'Loan_per_cap', data = top_ten, color = '#5886a5').set(xlabel = 'State', \n",
    "                                                                                             ylabel =  'Loans Per Capita in $', \n",
    "                                                                                             title = 'Bottom Ten States by Loans Per Capita')\n",
    "plt.savefig('bottom_ten_states_pc.png')"
   ]
  },
  {
   "cell_type": "code",
   "execution_count": null,
   "id": "9c341e08-d899-45fa-8fa2-9bbf90f74a3e",
   "metadata": {},
   "outputs": [],
   "source": []
  }
 ],
 "metadata": {
  "kernelspec": {
   "display_name": "Python 3",
   "language": "python",
   "name": "python3"
  },
  "language_info": {
   "codemirror_mode": {
    "name": "ipython",
    "version": 3
   },
   "file_extension": ".py",
   "mimetype": "text/x-python",
   "name": "python",
   "nbconvert_exporter": "python",
   "pygments_lexer": "ipython3",
   "version": "3.8.8"
  }
 },
 "nbformat": 4,
 "nbformat_minor": 5
}
